{
 "cells": [
  {
   "cell_type": "markdown",
   "id": "bfde8269",
   "metadata": {},
   "source": [
    "# Mixed method & conservation"
   ]
  },
  {
   "cell_type": "markdown",
   "id": "a4abd0d2",
   "metadata": {},
   "source": [
    "$\\newcommand{\\dive}{\\mathop{\\mathrm{div}}}\n",
    "\\newcommand{\\grad}{\\mathop{\\mathrm{grad}}}\n",
    "\\newcommand{\\om}{\\varOmega} \n",
    "\\newcommand{\\oh}{\\varOmega_h}$\n",
    "\n",
    "A single boundary value problem can admit different weak formulations, possibly set in different spaces. For the Poisson equation, the *primal weak form* can be approximated by the Lagrange finite element method, while the *mixed weak form* can be approximated by a pair of $H(\\dive)$ and DG finite element spaces.   This notebook   is on the latter.\n",
    "\n",
    "\n",
    "From the practical standpoint, one of the primary reasons for using the mixed method for the diffusion equation is *conservation*, a discrete structure-preservation property, which we shall define below.  We will use the Raviart-Thomas elements we discussed [earlier](E_VectorBetti.ipynb) to implement and study a conservative mixed method in this notebook. "
   ]
  },
  {
   "cell_type": "markdown",
   "id": "673de21e",
   "metadata": {},
   "source": [
    "## Two typical examples\n",
    "\n",
    "Many boundary value problems arise by combining physical conservation laws with empirical constitutive laws. Here are two examples:"
   ]
  },
  {
   "cell_type": "markdown",
   "id": "ec69a9e3-cbf0-4c24-85e4-042a01fcefce",
   "metadata": {},
   "source": [
    "#### Example A: Porous media flow\n",
    "\n",
    "For slow viscous flow through a permeable porous medium, Darcy law is an empirical statement connecting the flux of the fluid $q$ to the pressure ($p$) gradient by \n",
    "\n",
    "$$ q = -K \\grad p $$\n",
    "\n",
    "where $K$ is the permeability tensor of the rock or the porous formation. Conservation of mass then implies \n",
    "\n",
    " $$ \\dive q = f  $$\n",
    "\n",
    " where $f$ represents injection sources, wells, or sinks.\n"
   ]
  },
  {
   "cell_type": "markdown",
   "id": "e7a4c96d-6a17-4fa7-87a9-c9c6427e70cf",
   "metadata": {},
   "source": [
    "\n",
    "<br>\n",
    "\n",
    "Historically, Example A was studied extensively by the fossil fuel industry, but as you can imagine, here in Portland, it's more likely to be applied in studying the percolation of hot water  through [coffee grinds](https://en.wikipedia.org/wiki/Darcy%27s_law#Use_in_coffee_brewing)!"
   ]
  },
  {
   "cell_type": "markdown",
   "id": "11f7ea52",
   "metadata": {},
   "source": [
    "#### Example B: Diffusion of heat\n",
    "\n",
    "Returning to the stationary heat dissipation example from a [previous notebook](D_Confusion.ipynb), recall that \n",
    "Fourier's law of heat conduction is a constitutive law that states (in the absence of advective and radiative effects) that the flux of heat energy $q$ (sometimes also called heat flux density) through a material is  related to the gradient of the temperature $T$ by\n",
    "$$    q = -\\kappa \\,\\grad( T) $$\n",
    "\n",
    "where $\\kappa$ is the thermal conductivity of the material. Conservation of energy implies that\n",
    "$$    \\dive q = f $$\n",
    "\n",
    "where $f$ represents the heat source. "
   ]
  },
  {
   "cell_type": "markdown",
   "id": "b05b8b16",
   "metadata": {},
   "source": [
    "\n",
    "Note that in both examples, elimination of flux results in an equation of the form  $-\\dive (\\alpha \\grad u) = f$ (with $u$ equal to either $T$ or $p$, and $\\alpha$ equal to either $\\kappa$ or $K$), which we have treated previously using Lagrange elements. In this notebook, rather than eliminating the flux $q$, *our focus is on approximating $q$.*  Methods that preserve the conservation law of the flux $q$ discretely (made precise shortly), are referred to as *conservative methods*. "
   ]
  },
  {
   "cell_type": "markdown",
   "id": "35ea02d0",
   "metadata": {},
   "source": [
    "## A simple model problem \n",
    "\n",
    "Let us solve a  specific example  built from Example B. We want to simulate a steady heat flux $\\newcommand{\\R}{\\mathbb{R}}$  $q: \\om \\to \\R^2$ on a rectangular bar-shaped domain $\\om$ of length 6 units and width 2 units, divided into equal left and right halves. More specifics of the problem appear after we draw the geometry."
   ]
  },
  {
   "cell_type": "code",
   "execution_count": null,
   "id": "72a71d54",
   "metadata": {},
   "outputs": [],
   "source": [
    "import ngsolve as ng\n",
    "from ngsolve.webgui import Draw\n",
    "from netgen.occ import X, Y, MoveTo, Rectangle, Glue, OCCGeometry\n",
    "\n",
    "rgtbar = Rectangle(3, 2).Face()\n",
    "lftbar = MoveTo(-3, 0).Rectangle(3, 2).Face()\n",
    "lftbar.faces.name = 'lftbar'; rgtbar.faces.name = 'rgtbar'\n",
    "lftbar.edges.Min(X).name = 'lft'; lftbar.edges.Min(Y).name = 'bot'; lftbar.edges.Max(Y).name = 'top'; lftbar.edges.Max(X).name = 'mid'\n",
    "rgtbar.edges.Max(X).name = 'rgt'; rgtbar.edges.Min(Y).name = 'bot'; rgtbar.edges.Max(Y).name = 'top'\n",
    "bar = Glue([lftbar, rgtbar]); Draw(bar);\n",
    "geo = OCCGeometry(bar, dim=2)\n",
    "mesh = ng.Mesh(geo.GenerateMesh(maxh=1/4))"
   ]
  },
  {
   "cell_type": "markdown",
   "id": "e6965ff7",
   "metadata": {},
   "source": [
    "Here are the further specifications of the thermal problem:\n",
    "\n",
    "- Materials whose isotropic *thermal conductivity* ($\\kappa$) values equal 1 and 10 occupy the   left and right halves, respectively.  \n",
    "- The left boundary edge of  $\\Omega$ is *kept at temperature* $T=1$ while the right edge is kept  at $T=1/10$. \n",
    "- The top and bottom boundary edges are *perfectly insulated,*  i.e, the outward flux $q \\cdot n$ vanishes there. \n",
    "- The bar is heated by a source which is modeled by \n",
    "$$\n",
    "  f(x, y) = 5 \\exp(-10 [(x/5)^2 + (y-1)^2]).\n",
    "$$  \n",
    "\n",
    "Here is a plot of $f$:"
   ]
  },
  {
   "cell_type": "code",
   "execution_count": null,
   "id": "b613026c",
   "metadata": {},
   "outputs": [],
   "source": [
    "from ngsolve import x, y, exp\n",
    "f = 5 * exp( -10*( (x/5)**2 + (y-1)**2))\n",
    "Draw(f, mesh);"
   ]
  },
  {
   "cell_type": "markdown",
   "id": "0f3fa7b6-9566-4c52-b226-e790b70ec5a7",
   "metadata": {},
   "source": [
    "Clearly, this heat source appears centered in the domain. However, the material is not homogenous as seen from the thermal conductivity plot next:"
   ]
  },
  {
   "cell_type": "code",
   "execution_count": null,
   "id": "de7bc25a-5e4b-4e53-964f-a7a5a6702982",
   "metadata": {},
   "outputs": [],
   "source": [
    "kappa = mesh.MaterialCF({'lftbar': 1, 'rgtbar': 10})\n",
    "Draw(kappa, mesh);"
   ]
  },
  {
   "cell_type": "markdown",
   "id": "ab7bbbf3-751d-4d4f-808c-4b6e264bce97",
   "metadata": {},
   "source": [
    "Finally, the other piece of given information on boundary conditions tells us that heat may enter the bar through the left end. Here is a visualization of the boundary data extension:"
   ]
  },
  {
   "cell_type": "code",
   "execution_count": null,
   "id": "56f8ac53-9c93-4aee-a2c4-62d6f951c54f",
   "metadata": {},
   "outputs": [],
   "source": [
    "Tbdr = mesh.BoundaryCF({'lft': 1, 'rgt': 0.1})\n",
    "Tboundary = ng.GridFunction(ng.H1(mesh)); Tboundary.Set(Tbdr, definedon=mesh.Boundaries('lft|rgt'));\n",
    "Draw(Tboundary);"
   ]
  },
  {
   "cell_type": "markdown",
   "id": "fab3aba3",
   "metadata": {},
   "source": [
    "Given all the above bits of information, the problem is to compute the temperature $T$ and the heat flux $q$.  We will solve it momentarily. But do you have any guesses right away on which side will get heated up more in steady state? "
   ]
  },
  {
   "cell_type": "markdown",
   "id": "c7fd10ab",
   "metadata": {},
   "source": [
    "## Conservation in the finite element context"
   ]
  },
  {
   "cell_type": "markdown",
   "id": "714c84e8",
   "metadata": {},
   "source": [
    "Suppose we use a mesh $\\oh$ of a $d$-dimensional domain $\\om$ to compute a discrete approximation $q_h$ to the exact flux $q$. Let  $P_p(\\oh) = \\prod_{K \\in \\oh} P_p(K)$ denote the DG space, so piecewise polynomial vector fields of degree at most $p$ are in $P_p(\\oh)^d.$\n",
    "\n",
    "**Definition:** We say that a vector field $q_h$ in $P_p(\\oh)^d$ is a **conservative flux** approximation of an exact flux $q$ if \n",
    "- (1) on all interior mesh facets, &LeftDoubleBracket; $q_h\\cdot n$ &RightDoubleBracket; $ = 0$, and \n",
    "- (2) on every mesh element $K \\in \\oh$, \n",
    "$$\n",
    "\\int_{\\partial K}  q_h \\cdot n = \\int_{\\partial K}  q\\cdot n.\n",
    "$$\n",
    "\n",
    "In condition (1), we have used the notation &LeftDoubleBracket; $q_h\\cdot n$  &RightDoubleBracket; for the jump of the normal component of the flux $q$.  Note that by the divergence theorem the right hand side of condition (2) equals $\\int_{\\partial K} q\\cdot n = \\int_K \\dive q = \\int_K f$ with $f = \\dive q$. Also note that both conditions of this definition refer only to the values of $q_h$ on the facets. (Indeed, there are methods that produce flux approximations only along the mesh facets, and the same definition can be used to decide if such fluxes are conservative or not. The mixed method however will produce fluxes on the whole domain.)"
   ]
  },
  {
   "cell_type": "markdown",
   "id": "6cbcbf17",
   "metadata": {},
   "source": [
    "To understand why  conditions (1) and (2)  are interesting properties for an approximation to have, consider one of the above-mentioned applications, say the diffusion of heat. Recall that in physics,  conservation of energy is often written in *integral form* over an control volume $S$ as \n",
    "$$\n",
    "\\int_{\\partial S} q \\cdot n = \\int_S f,\n",
    "$$\n",
    "i.e., the flux of heat leaving the subdomain $S$ through its boundary (equal to the left hand side above) must equal the amount of heat produced by sources $f$ within $S$ (equal to the right hand side above). Because this conservation statement should hold for any control volume $S$, the integral form and the divergence theorem results in the differential equation $\\dive q = f$, which is one of the conservation equations stated previously. "
   ]
  },
  {
   "cell_type": "markdown",
   "id": "acff961f",
   "metadata": {},
   "source": [
    "Now, consider how we may obtain a *discrete version* of the integral form of the conservation law. Instead of arbitrary control volumes, we now restrict ourselves to discrete control volumes, which are the unions of the  elements used in the computation. Namely, consider  any subset of mesh elements $O_h \\subseteq \\oh$ and put  $S_h = \\cup\\{ K: K \\in O_h\\}$. If the discrete flux out of the subdomain $S_h$ satisfies \n",
    "$$\n",
    "\\int_{\\partial S_h}  q_h \\cdot n = \\int_{S_h} f,\n",
    "$$\n",
    "then it makes sense to declare $q_h$ to be a conservative flux, since this is the  discrete analog of the exact integral form of the conservation law, \n",
    "$\n",
    "\\int_{\\partial S} q \\cdot n = \\int_S f.\n",
    "$\n",
    "We can immediately verify that the above equation is a consequence of conditions (1) and (2) in our definition. Note how we need *both* (1) and (2) to accomplish the interelement cancellations of influx and outflux within $S_h$."
   ]
  },
  {
   "cell_type": "markdown",
   "id": "3d9c6412",
   "metadata": {},
   "source": [
    "One of the modern themes in numerical solution of partial differential equations, called  **structure preservation**, studies questions like this: how can we construct methods that (not only converge optimally, but also) yield solutions that preserve certain critical features or structures of the exact solution? In the context of our model problem, methods that produce a conservative flux $q_h$, as defined above, are structure-preserving, the preserved structure being a conservation law."
   ]
  },
  {
   "cell_type": "markdown",
   "id": "e22ded7b",
   "metadata": {},
   "source": [
    "Another way of thinking about conservation is in terms of **superconvergence** of certain functionals. (The phenomena where the error, or some functional of the error, goes to zero at an unexpectedly high speed is called superconvergence. We have seen a superconvergence example in [another notebook](E_VectorBetti.ipynb).)  Condition (2) in the definition of conservation, \n",
    "$\n",
    "\\int_{\\partial K} q_h \\cdot n  = \\int_{\\partial K} q\\cdot n, \n",
    "$\n",
    "can equivalently  be written using  the functional $G_K (r) = \\int_{\\partial K} r \\cdot n$, as $$\n",
    "G_K(q) = G_K (q_h).\n",
    "$$\n",
    "For good methods,  we expect the error $q_h - q$ to go zero as the mesh size $h \\to 0$, so  we expect $G_K(q) - G_K(q_h) \\to 0$. But it is exceptional to get zero for a functional of the error. For a conservative method, the exception does occur and $G_K(q) - G_K(q_h) = 0$."
   ]
  },
  {
   "cell_type": "markdown",
   "id": "2ef6f010",
   "metadata": {},
   "source": [
    "## The Raviart-Thomas mixed method"
   ]
  },
  {
   "cell_type": "markdown",
   "id": "58aec39a",
   "metadata": {},
   "source": [
    "Consider the boundary value problem of finding \n",
    "$\\newcommand{\\R}{\\mathbb{R}}$\n",
    "$u: \\om\\to \\R$ and $q: \\om \\to \\R^d$ ($d\\ge 2$), given $f: \\om \\to \\R$ and (pointwise) invertible $\\kappa : \\om \\to \\R^{d \\times d}$, satisfying \n",
    "\n",
    "$$\n",
    "\\kappa^{-1} q + \\grad u =0, \\qquad \\dive q = f, \n",
    "$$\n",
    "\n",
    "with Dirichlet boundary conditions $u =0 $ on $\\partial \\om$. From the lectures, we know that the **mixed weak formulation** of this problem reads as follows."
   ]
  },
  {
   "cell_type": "markdown",
   "id": "dc8a4f21",
   "metadata": {},
   "source": [
    "<font color=blue>\n",
    "\n",
    "Find $u \\in L^2(\\om)$ and $q \\in H(\\dive, \\om)$ satisfying \n",
    "$$\n",
    "\\begin{aligned} \\int_\\om \\kappa^{-1} q \\cdot r - \\int_\\om u\\, \\dive r & = 0,  && \\text{ for all } r \\in H(\\dive, \\om), \\text{ and } \\\\ \n",
    "\\int_\\om v\\, \\dive q & = \\int_\\om f \\,v,   && \\text{ for all } v \\in L^2(\\om).\n",
    "\\end{aligned}\n",
    "$$\n",
    "</font>"
   ]
  },
  {
   "cell_type": "markdown",
   "id": "215dd697",
   "metadata": {},
   "source": [
    "\n",
    "To obtain a numerical method, starting from the above weak form, \n",
    "we use the  DG space $P_p(\\oh)$ in place of $L^2(\\om)$ and the Raviart-Thomas finite element space (introduced [earlier](VectorBetti.ipynb)) \n",
    "$$\n",
    "R_{h, p} =\n",
    "\\left\\{\n",
    "q\\in H(\\dive, \\om) : \\text{ for all } K \\in \\oh, \\quad  q|_K \\in P_p(K)^2 + \\begin{pmatrix} x \\\\ y \\end{pmatrix} P_p(K) \\; \\right\\}\n",
    "$$\n",
    "in place of $H(\\dive, \\om).$ "
   ]
  },
  {
   "cell_type": "markdown",
   "id": "55d27d9b-7f39-49b1-95b4-8ec2d28ac41b",
   "metadata": {},
   "source": [
    "<font color=blue>\n",
    "    \n",
    "The **Raviart-Thomas (RT) mixed method** of order $p$ finds $u_h \\in  P_p(\\oh)$ and\n",
    "$q_h \\in R_{h, p}$ satisfying \n",
    "$$\n",
    "\\begin{aligned}\n",
    "\\int_\\om \\kappa^{-1} q_h \\cdot r_h - \\int_\\om u_h\\, \\dive r_h & = 0, \n",
    "&& \\text{ for all } r_h \\in R_{h, p}, \\text{ and }\n",
    "\\\\\n",
    "\\int_\\om v_h\\, \\dive q_h & = \\int_\\om f \\,v_h,  \n",
    "&& \\text{ for all } v_h \\in P_p(\\oh).\n",
    "\\end{aligned}\n",
    "$$\n",
    "\n",
    "</font>"
   ]
  },
  {
   "cell_type": "markdown",
   "id": "2a89d4c9-2bbb-40c8-9915-fb23e036189c",
   "metadata": {},
   "source": [
    "In the latter equation, if we select a test function $v_h$ that is the indicator function of one element $K \\in \\oh$, which is of course contained in $P_p(\\oh)$ for any $p \\ge 0$, then we obtain \n",
    "\n",
    "$$\n",
    "\\int_K \\dive q_h = \\int_K f, \n",
    "$$\n",
    "\n",
    "which is equivalent to condition (2) in the definition of a conservative flux. Of course, condition (1) is automatically satisfied by $q_h$, since every $q_h \\in R_{h, p}$ has \n",
    "&LeftDoubleBracket; $q_h\\cdot n$ &RightDoubleBracket; $ = 0$. This proves that  **the Raviart-Thomas mixed method yields conservative fluxes.** \n",
    "\n",
    "In NGSolve, there are two ways to assemble such a mixed weak form, as we shall see in the next section. "
   ]
  },
  {
   "cell_type": "markdown",
   "id": "f5f5571e",
   "metadata": {},
   "source": [
    "## Two ways to assemble\n",
    " \n",
    " \n",
    "\n",
    "#### The first way: assemble a composite form\n",
    "\n",
    "We can  think of the system using a *\"big\" bilinear form* $C(\\cdot, \\cdot)$ in the product space $R_{h, p} \\times P_p(\\oh)$, i.e., for any  $(q_h, u_h), (r_h, v_h) \\in \n",
    "R_{h, p} \\times P_p(\\oh)$, set \n",
    "\n",
    "$$\n",
    "C((q_h, u_h), (r_h, v_h)) = \n",
    "\\int_\\Omega \\kappa^{-1} q_h \\cdot r_h - \\int_\\Omega u_h \\,\\text{div } r_h\n",
    "- \\int_\\Omega v_h \\,\\text{div } q_h.\n",
    "$$\n",
    "\n",
    "Then the previous set of two equations for the Raviart-Thomas mixed method can be described as the single equation using the composite bilinear form:\n",
    "\n",
    "$$\n",
    "C((q_h, u_h), (r_h, v_h)) = -\\int_\\om f v_h,\n",
    "\\qquad \\text{ for all } v_h \\in P_p(\\oh), \\, r_h \\in R_{h,p}.\n",
    "$$"
   ]
  },
  {
   "cell_type": "markdown",
   "id": "6cf39f55",
   "metadata": {},
   "source": [
    "To compute with this form, we need the product space $R_{h, p} \\times P_p(\\oh)$. This space is represented by the object `RW` introduced below. "
   ]
  },
  {
   "cell_type": "code",
   "execution_count": null,
   "id": "025f952a",
   "metadata": {},
   "outputs": [],
   "source": [
    "p = 4 \n",
    "R = ng.HDiv(mesh, order=0, RT=True)\n",
    "W = ng.L2(mesh, order=0)\n",
    "RW = R * W   # Alternately:  RW = ng.FESpace([R, W])"
   ]
  },
  {
   "cell_type": "markdown",
   "id": "47082ab9",
   "metadata": {},
   "source": [
    "Note that trial and test functions in `RW` have two components. Otherwise the procedure for declaring  the bilinear form is exactly the same as what we saw previously. "
   ]
  },
  {
   "cell_type": "code",
   "execution_count": null,
   "id": "bcc41978",
   "metadata": {},
   "outputs": [],
   "source": [
    "from ngsolve import div, dx\n",
    "q, u = RW.TrialFunction() \n",
    "r, v = RW.TestFunction()\n",
    "C = ng.BilinearForm(RW)\n",
    "C += ((1/kappa) * q*r - u*div(r) - div(q)*v) * dx\n",
    "C.Assemble(); type(C.mat)"
   ]
  },
  {
   "cell_type": "markdown",
   "id": "fc43b815-8cf6-4150-bb21-67575683441c",
   "metadata": {},
   "source": [
    "We now have a sparse assembled matrix representing the  matrix of the big bilinear form $C(\\cdot, \\cdot)$ on the product finite element space."
   ]
  },
  {
   "cell_type": "markdown",
   "id": "90f7ea83",
   "metadata": {},
   "source": [
    "#### The second way: assemble a block system"
   ]
  },
  {
   "cell_type": "markdown",
   "id": "bb777aba",
   "metadata": {},
   "source": [
    "In the second approach, we make individual components of the bilinear form and put them together, i.e.,  we make the following *\"small\" bilinear forms*:\n",
    "\n",
    "$$\n",
    "a(q, r) = \\int_\\Omega \\kappa^{-1} q \\cdot r, \\qquad\n",
    "b(q, v) = -\\int_\\Omega v \\,\\text{div } q\n",
    "$$\n",
    "\n",
    "Then the equations RT mixed method can be rewritten using these forms as \n",
    "\n",
    "$$\n",
    "\\begin{aligned}\n",
    "a(q_h, r_h) + b(r_h, u_h) & = 0 \n",
    "&& \\text{ for all } r_h \\in R_{h, p}, \\text{ and }\n",
    "\\\\\n",
    "\\,b( q_h, v_h)  & = -\\int_\\om f \\,v_h,  \n",
    "&& \\text{ for all } v_h \\in P_p(\\oh).\n",
    "\\end{aligned}\n",
    "$$\n",
    "\n",
    "Note that the bilinear form $b$  uses different trial and test space. Implementing this requires the use of keyword arguments `trialspace` and `testspace` that we have not seen previously, but is self explanatory. There is no need to define a product space in this approach. "
   ]
  },
  {
   "cell_type": "code",
   "execution_count": null,
   "id": "ea636296",
   "metadata": {},
   "outputs": [],
   "source": [
    "q, r = R.TnT()\n",
    "u, v = W.TnT()\n",
    "\n",
    "b = ng.BilinearForm(trialspace=R, testspace=W)\n",
    "b += -div(q)*v * dx\n",
    "\n",
    "a = ng.BilinearForm(R)\n",
    "a += (1/kappa) * q*r * dx\n",
    "\n",
    "b.Assemble(); a.Assemble();"
   ]
  },
  {
   "cell_type": "markdown",
   "id": "6203ec09",
   "metadata": {},
   "source": [
    "When working with such component forms, you also need a facility to place them into appropriate places of a block partitioned matrix. Let $\\mathtt A$ and $\\mathtt B$  denote the stiffness matrices of the forms $a(\\cdot, \\cdot)$ and $b(\\cdot, \\cdot)$ made in the code block above, respectively. Then, what  we want is the matrix \n",
    "$$\n",
    "\\mathbb B = \n",
    "\\begin{bmatrix}\n",
    "\\mathtt A & \\mathtt B^T \\\\ \n",
    "\\mathtt B & 0 \n",
    "\\end{bmatrix}\n",
    "$$\n",
    "where ${}^T$ denotes the transpose. "
   ]
  },
  {
   "cell_type": "code",
   "execution_count": null,
   "id": "7b7ac809",
   "metadata": {},
   "outputs": [],
   "source": [
    "BB = ng.BlockMatrix([[a.mat, b.mat.T], \n",
    "                     [b.mat, None   ]])\n",
    "type(BB)"
   ]
  },
  {
   "cell_type": "markdown",
   "id": "0e5ddfe0-1ec9-4c21-bf1f-5d737b0b76e0",
   "metadata": {},
   "source": [
    "This `BB` object represents the above-mentioned block matrix $\\mathbb B$.\n",
    "Note that the `None` element in the code above is how we represent  the zero block sparsely."
   ]
  },
  {
   "cell_type": "markdown",
   "id": "b79900d9",
   "metadata": {},
   "source": [
    "Obviously $\\mathbb B$ and $C$ represent the same linear operator. Block structures are just a convenience feature to work with components (without replicating the already allocated memory of the components).  Block matrices expect block vectors when asked to perform matrix multiplication. \n",
    "\n",
    "Be warned that it's not a good idea to directly perform a generic vector operation between a block vector object and a regular NGSolve vector. In some cases NGSolve will raise an exception and will not allow you to do so. Also, when you work with block vectors, it is a good idea to ensure that you have variable names bound to its individual component vectors in your python workspace.  Here is an exercise to get some practice on working with the `BlockMatrix` structures and with matrix-vector products in NGSolve. "
   ]
  },
  {
   "cell_type": "markdown",
   "id": "14ea2113",
   "metadata": {},
   "source": [
    "<div class=\"alert alert-info\">\n",
    "    <b><font color=red>Exercise I:</font></b>  \n",
    "    Write a python code to verify that the application of the block matrix $\\mathbb{B}$  and the matrix $C$ of the composite bilinear form to the same vector gives the same result.\n",
    "</div>"
   ]
  },
  {
   "cell_type": "markdown",
   "id": "1679be8f-35d5-4709-92f6-49e09b70543b",
   "metadata": {},
   "source": [
    "(*Suggestion:*  Look up the `component` attribute of an NGSolve grid function on a product space.)"
   ]
  },
  {
   "cell_type": "markdown",
   "id": "38036be6",
   "metadata": {},
   "source": [
    "## Solving for the thermal flux "
   ]
  },
  {
   "cell_type": "markdown",
   "id": "5d3dc549",
   "metadata": {},
   "source": [
    "We now return to solve model problem stated earlier. To repeat the problem, translating it to a boundary value problem, we need to solve for temperature $T$ satisfying \n",
    "$$\\newcommand{\\lft}{\\partial\\om_{\\text{left}}}\n",
    "\\newcommand{\\rgt}{\\partial\\om_{\\text{right}}}\n",
    "\\begin{aligned}\n",
    "\\kappa^{-1} q + \\grad T & = 0, && \\text{ in } \\om\n",
    "\\\\\n",
    "\\dive q & = 5\\, e^{-10 [(x/5)^2 + (y-1)^2]},  && \\text{ in } \\om\n",
    "\\\\\n",
    "q\\cdot n & = 0 && \\text{ on top and bottom boundaries} \n",
    "\\\\\n",
    "T & = 1  && \\text{ on the left boundary } \\lft \n",
    "\\\\\n",
    "T & = 1/10 && \\text{ on the right boundary } \\rgt.\n",
    "\\end{aligned}\n",
    "$$"
   ]
  },
  {
   "cell_type": "markdown",
   "id": "52600b1a",
   "metadata": {},
   "source": [
    "To solve this using the mixed method, we have to carefully incorporate the boundary conditions into the mixed formulation. Dirichlet and Neumann conditions are respectively imposed as natural and essential conditions in the mixed formulation, in  *exactly the opposite* manner of the primal formulation. We use the subspace of the Raviart-Thomas space where the flux boundary conditions are incorporated essentially:\n",
    "\n",
    "$$\n",
    "\\newcommand{\\Rtb}{\\mathring{R}_{h, p}^{\\text{top, bot}}}\n",
    "\\Rtb= \\{ r \\in R_{h, p}: r\\cdot n = 0 \\text{ on the top and bottom boundaries}\\}.\n",
    "$$\n",
    "\n",
    "Also incorporating the Dirichlet boundary conditions on $T$ naturally, we obtain the following equations of the method: find $T_h \\in P_p(\\oh)$ and $q_h \\in \\Rtb$ satisfying \n",
    "\n",
    "$$\n",
    "\\begin{aligned}\n",
    "\\int_\\om \\kappa^{-1} q_h \\cdot r_h - \\int_\\om T_h\\, \\dive r_h & = -\\int_{\\lft} 1\\, r_h \\cdot n -\\int_{\\rgt} \n",
    "\\frac{1}{10}\\, r_h \\cdot n, \n",
    "&& \\text{ for all } r_h \\in \\Rtb \\text{ and }\n",
    "\\\\\n",
    "\\int_\\om v_h\\, \\dive q_h & = \\int_\\om f \\,v_h,  \n",
    "&& \\text{ for all } v_h \\in P_p(\\oh).\n",
    "\\end{aligned}\n",
    "$$"
   ]
  },
  {
   "cell_type": "markdown",
   "id": "92870e1b",
   "metadata": {},
   "source": [
    "#### Block linear system \n",
    "\n",
    "Adopting  the second approach to assembly mentioned above, we produce a block linear system, whose right and left hand sides are returned by the next function. Also note that to make the right hand side of the first equation, we  need to integrate  the trace of $r_h \\cdot n$ along boundary edges, which is accomplished below by `r.Trace() * n`  and `ds` provided by NGSolve."
   ]
  },
  {
   "cell_type": "code",
   "execution_count": null,
   "id": "272d89ef",
   "metadata": {},
   "outputs": [],
   "source": [
    "from ngsolve import dx, ds\n",
    "\n",
    "def MakeMixed(mesh, f, Tbdr, kappa, p=4):    \n",
    "    \"\"\"Return the block linear system (rhs and lhs) of the\n",
    "    RT mixed method for solving Example T\"\"\"\n",
    "    \n",
    "    R = ng.HDiv(mesh, order=p, RT=True, dirichlet='top|bot')\n",
    "    W = ng.L2(mesh, order=p)\n",
    "    q, r = R.TnT()\n",
    "    u, v = W.TnT()\n",
    "    dl = ds(definedon=mesh.Boundaries('lft|rgt'))\n",
    "    n = ng.specialcf.normal(mesh.dim)\n",
    "\n",
    "    b = ng.BilinearForm(trialspace=R, testspace=W)\n",
    "    b += -div(q) * v * dx\n",
    "    a = ng.BilinearForm(R)\n",
    "    a += (1/kappa) * q * r * dx    \n",
    "    fR = ng.LinearForm(R)\n",
    "    fR += -Tbdr * (r.Trace() * n) * dl\n",
    "    fW = ng.LinearForm(W)\n",
    "    fW += -f * v * dx\n",
    "    with ng.TaskManager():\n",
    "        b.Assemble() \n",
    "        a.Assemble()\n",
    "        fR.Assemble()\n",
    "        fW.Assemble() \n",
    "    BB = ng.BlockMatrix([[a.mat, b.mat.T], [b.mat, None]])\n",
    "    FF = ng.BlockVector([fR.vec, fW.vec])   \n",
    "    return BB, FF, R, W"
   ]
  },
  {
   "cell_type": "code",
   "execution_count": null,
   "id": "071bdd37",
   "metadata": {},
   "outputs": [],
   "source": [
    "BB, FF, R, W = MakeMixed(mesh, f, Tbdr, kappa)"
   ]
  },
  {
   "cell_type": "markdown",
   "id": "28fa2e87",
   "metadata": {},
   "source": [
    "Next, we need to solve for a vector `x` satisfying the block system `BB * x = FF`.  In previous studies, we assembled sparse matrix objects which we could hand over to a sparse solver (using the `Inverse(...)` method). However, the block matrix `BB` does not have a sparse  `Inverse` method.  Hence let us take a moment to consider an iterative solver. "
   ]
  },
  {
   "cell_type": "markdown",
   "id": "e50a4421",
   "metadata": {},
   "source": [
    "#### Iterative solver\n",
    "\n",
    "Iterative solvers built using Krylov spaces do not generally require an assembled matrix, only an object that can perform the associated matrix-vector multiplication. The block matrix `BB` can perform the multiplication `BB * x`.  Although Krylov space iterative solvers can be easily implemented in a few lines of python code, let us make use of a readymade Krylov solver implementation that NGSolve provides. **MINRES** is an iterative method suitable for invertible symmetric (not necessarily positive definite) linear systems, like the block system we have produced. Its implementation is available in `ng.solvers.MinRes`."
   ]
  },
  {
   "cell_type": "markdown",
   "id": "954d77bc",
   "metadata": {},
   "source": [
    "The rate of convergence of iterative solvers like MINRES depends on the condition number of the system. Hence they are usually effective only when we also provide it a good preconditioner. Recall that a **preconditioner** for use in solving $\\mathbb B x = b$ is a linear operator $\\mathbb P$ (acting on the same-size vectors as $\\mathbb B$) with the property that $\\mathbb P \\mathbb B$ is better conditioned than $\\mathbb B$.  Once a preconditioner is given, the iterative solver, instead of solving $\\mathbb B x = b$, solves the equivalent but better conditioned system $\\mathbb P\\mathbb B x = \\mathbb P b$ behind the scenes."
   ]
  },
  {
   "cell_type": "markdown",
   "id": "fc714dfe",
   "metadata": {},
   "source": [
    "Of course, one could  set $\\mathbb P$ to the identity operator on the free degrees of freedom, just to witness the performance of solver without preconditioning. (No preconditioning is the same as setting preconditioner to identitity.)"
   ]
  },
  {
   "cell_type": "code",
   "execution_count": null,
   "id": "546b9d5d",
   "metadata": {},
   "outputs": [],
   "source": [
    "identityR = ng.Projector(mask=R.FreeDofs(), range=True)  # project to range=true/false bits of mask\n",
    "identityW = ng.IdentityMatrix(W.ndof)\n",
    "PI = ng.BlockMatrix([[identityR, None],\n",
    "                     [None, identityW]])"
   ]
  },
  {
   "cell_type": "code",
   "execution_count": null,
   "id": "3f6053c2",
   "metadata": {},
   "outputs": [],
   "source": [
    "qT = ng.BlockVector([ng.GridFunction(R).vec, \n",
    "                     ng.GridFunction(W).vec])\n",
    "ng.solvers.MinRes(mat=BB, pre=PI, rhs=FF, sol=qT, maxsteps=30);"
   ]
  },
  {
   "cell_type": "markdown",
   "id": "afcd33c2",
   "metadata": {},
   "source": [
    "<br>\n",
    "\n",
    "As you can see the convergence is abysmally slow. Do try this:  increase `maxsteps` and run again to see how many iterations you might need to do before getting anywhere close to convergence."
   ]
  },
  {
   "cell_type": "markdown",
   "id": "76c74dce",
   "metadata": {},
   "source": [
    "We need a better preconditioner.  For our block matrix \n",
    "$$\n",
    "\\mathbb B = \n",
    "\\begin{bmatrix}\n",
    "\\mathtt A & \\mathtt B^T \\\\ \n",
    "\\mathtt B & 0 \n",
    "\\end{bmatrix},\n",
    "$$\n",
    "one technique is to construct a preconditioner in the following form, using the same block partitioning,\n",
    "$$\n",
    "\\mathbb P = \n",
    "\\begin{bmatrix}\n",
    "\\mathtt M_R^{-1} & 0 \\\\\n",
    "0  & \\mathtt M_W^{-1}\n",
    "\\end{bmatrix},\n",
    "$$\n",
    "where $\\mathtt M_R$ and $\\mathtt M_W$ are the stiffness matrices of the bilinear forms \n",
    "$\n",
    "\\int_\\om \\kappa^{-1} q\\cdot r + \\int_\\om (\\dive q ) (\\dive r),$\n",
    "for $q, r \\in \\Rtb$\n",
    "and \n",
    "$\n",
    "\\int_\\om u \\, v,$\n",
    "for $u, v \\in P_p(\\oh),$\n",
    "respectively. Since $\\mathtt M_W$ is block diagonal with one block for each element (why?), it is very easy to invert. So the cost of construction of this preconditioner is essentially the cost of inversion of $\\mathtt M_R$,  a smaller matrix than the original $\\mathbb B$."
   ]
  },
  {
   "cell_type": "code",
   "execution_count": null,
   "id": "082f8ea1",
   "metadata": {},
   "outputs": [],
   "source": [
    "def MakePrec(R, W):\n",
    "    q, r = R.TnT()\n",
    "    mR = ng.BilinearForm(((1/kappa)*q*r + div(q)*div(r))*dx)\n",
    "    mR.Assemble()\n",
    "    P = ng.BlockMatrix([[mR.mat.Inverse(R.FreeDofs()), None],\n",
    "                        [None,          W.Mass(1).Inverse()]])\n",
    "    return P"
   ]
  },
  {
   "cell_type": "code",
   "execution_count": null,
   "id": "8a09223b",
   "metadata": {},
   "outputs": [],
   "source": [
    "PP = MakePrec(R, W)"
   ]
  },
  {
   "cell_type": "code",
   "execution_count": null,
   "id": "316b400e",
   "metadata": {},
   "outputs": [],
   "source": [
    "qh = ng.GridFunction(R)\n",
    "Th = ng.GridFunction(W)\n",
    "qT = ng.BlockVector([qh.vec, Th.vec])\n",
    "ng.solvers.MinRes(mat=BB, pre=PP, rhs=FF, sol=qT, maxsteps=15);"
   ]
  },
  {
   "cell_type": "markdown",
   "id": "90c04511",
   "metadata": {},
   "source": [
    "<br>\n",
    "\n",
    "Why this preconditioner works is an interesting question that we will postpone for another time. For now, let's settle for visualizing the computed solution."
   ]
  },
  {
   "cell_type": "markdown",
   "id": "f0623e5e",
   "metadata": {},
   "source": [
    "#### Temperature and flux \n",
    "\n",
    "\n",
    "`MinRes` overwrites the solution into the same memory location as the input `qT`. It is in the form of a block vector, whose components occupy the same memory as `qh` and `Th`. So to plot the temperature, we can directly use the variable name `Th` which is bound to the memory block of the $T$-component."
   ]
  },
  {
   "cell_type": "code",
   "execution_count": null,
   "id": "2d41703f-6d70-45c0-88ee-38d543b31e22",
   "metadata": {},
   "outputs": [],
   "source": [
    "Draw(Th, deformation=True, settings={\"Colormap\":{\"autoscale\": True, \"ncolors\": 20}, \"camera\":{\"transformations\" :[{\"type\": \"rotateX\", \"angle\": -50}, {\"type\": \"rotateY\", \"angle\": -20}, {\"type\": \"rotateZ\", \"angle\": -10}]}});"
   ]
  },
  {
   "cell_type": "markdown",
   "id": "6eb5c99c-eff0-4106-a5a3-df80966965db",
   "metadata": {},
   "source": [
    "This plot of the calculated temperature $T$ reveals lower temperature variations on the right than on the left. You also see that there is a kink at the middle interface (indicating a discontinuity in $\\grad T$) to accomodate a more flat $T$ profile on the right.\n",
    "\n",
    "Next, we plot the heat flux vector field:"
   ]
  },
  {
   "cell_type": "code",
   "execution_count": null,
   "id": "6df296c3-2d65-4aa2-ac28-d399620b9676",
   "metadata": {},
   "outputs": [],
   "source": [
    "Draw(qh, vectors={'grid_size': 30}, settings={\"Colormap\":{\"autoscale\": True, \"ncolors\": 20}, \"Light\": {\"ambient\":0.1, \"diffuse\":0.7, \"shininess\": 10,\"specularity\": 0.9}});    "
   ]
  },
  {
   "cell_type": "markdown",
   "id": "0d7a37b8-a571-4718-8362-8977102bf104",
   "metadata": {},
   "source": [
    "It is clear from from this plot that the heat flow on the right subdomain is more than on the left (as the colors represent the magnitude of the heat flux). In fact, from the direction of the fluxes, we see that the left boundary condition is helping to dissipate some of the heat generated by the source. Also observe the apparent continuity of the normal component of the heat flux despite the jump in the material properties. This is exactly as it should be for a conservative method, as otherwise nonphysical energy creation or energy loss will be predicted across the interface."
   ]
  },
  {
   "cell_type": "markdown",
   "id": "2d774e58-e42c-49bc-b675-7279e752e5bf",
   "metadata": {},
   "source": [
    "Let us also note that even though the blob of heat source was centered in the domain, it created an uncentered temperature peak to the left.  Is this shift of the peak due to the difference in boundary conditions on the left and right, or due to the difference in the left and right thermal conductivity?   The utility of having a simulation tool is that we can now answer questions like this easily even when the answers are not intuitive. Go ahead and experiment, changing the boundary conditions, and changing the thermal conductivites set in the code cells above as you please.  You will then be led to the conclusion that the shift of the peak is primarily due to the fact that the right half of the domain, due to its higher thermal conductivity, can transmit heat through it more efficiently, flattening out any temperature peaks there. The plot of  the computed thermal fluxes further confirms this by showing high fluxes in the right half."
   ]
  },
  {
   "cell_type": "markdown",
   "id": "6c1f42e3",
   "metadata": {},
   "source": [
    "<div class=\"alert alert-info\">\n",
    "    <b><font color=red>Exercise II:</font></b>  \n",
    "  Solve the same model problem using Lagrange finite elements applied to the primal weak form.  Using your computed temperature $\\tilde T_h$ (in the Lagrange space $ V_{h, p}$) from this approach, further compute an approximate flux $\\tilde{q}_h = -\\kappa \\grad \\tilde{T}_h$. Computationally show that this flux is not conservative. Specifically, letting $\\Gamma$ denote the middle interface, compute \n",
    "$\\int_\\Gamma$  &LeftDoubleBracket; $\\tilde q_h\\cdot n$ &RightDoubleBracket; \n",
    "to show that it is nonzero (thereby quantifying the spurious energy loss across $\\Gamma$).\n",
    "  For comparison, letting $q_h$ denote the flux from the Raviart-Thomas mixed method, compute  $\\int_\\Gamma$  &LeftDoubleBracket; $q_h\\cdot n$ &RightDoubleBracket; and show that it is close to machine zero. \n",
    "</div>"
   ]
  },
  {
   "cell_type": "markdown",
   "id": "b9f253a4-dc60-4652-b53f-4fa4800cb80c",
   "metadata": {},
   "source": [
    "(*Hint:* To integrate multivalued functions on element interfaces, `dx(element_boundary=True)` is useful. Think of how to restrict this integration to just $\\Gamma$.)"
   ]
  },
  {
   "cell_type": "markdown",
   "id": "1bb5925b-7de1-47af-94cd-8e6647368b52",
   "metadata": {},
   "source": [
    "<div class=\"alert alert-info\">\n",
    "    <b><font color=red>Exercise III:</font></b>  \n",
    "In the mixed method above, what happens if you replace the RT space $\\Rtb$ with its subspace of Cartesian product of Lagrange spaces (with the right boundary conditions) of degree at most $p$?  (Try with $p=1$.)\n",
    "</div>"
   ]
  },
  {
   "cell_type": "markdown",
   "id": "b7e206a9-4096-4720-9542-e7a81fa813a3",
   "metadata": {},
   "source": [
    "\n",
    "<hr>\n",
    "    \n",
    "    \n",
    "$\\ll$ [Table Of Contents](./0_INDEX.ipynb) <br>\n",
    "$\\ll$ [Jay Gopalakrishnan](http://web.pdx.edu/~gjay/)"
   ]
  }
 ],
 "metadata": {
  "kernelspec": {
   "display_name": "Python 3 (ipykernel)",
   "language": "python",
   "name": "python3"
  },
  "language_info": {
   "codemirror_mode": {
    "name": "ipython",
    "version": 3
   },
   "file_extension": ".py",
   "mimetype": "text/x-python",
   "name": "python",
   "nbconvert_exporter": "python",
   "pygments_lexer": "ipython3",
   "version": "3.11.6"
  },
  "name": "Mixed.ipynb"
 },
 "nbformat": 4,
 "nbformat_minor": 5
}
