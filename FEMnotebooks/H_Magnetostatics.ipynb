{
 "cells": [
  {
   "cell_type": "markdown",
   "id": "ed9f6bbb",
   "metadata": {},
   "source": [
    "# Static electromagnetic fields"
   ]
  },
  {
   "cell_type": "markdown",
   "id": "963bf524",
   "metadata": {},
   "source": [
    "$\n",
    "\\newcommand{\\Ec}{\\mathcal{E}}\n",
    "\\newcommand{\\Mc}{\\mathcal{M}}\n",
    "\\newcommand{\\Hc}{\\mathcal{H}}\n",
    "\\newcommand{\\Bc}{\\mathcal{B}}\n",
    "\\newcommand{\\Jc}{\\mathcal{J}}\n",
    "\\newcommand{\\Dc}{\\mathcal{D}}\n",
    "\\newcommand{\\veps}{\\varepsilon}\n",
    "\\newcommand{\\og}{\\omega}\n",
    "\\newcommand{\\Om}{\\Omega}\n",
    "\\newcommand{\\ii}{\\imath}\n",
    "\\newcommand{\\Jcl}{J_{\\pi/2}}\n",
    "\\renewcommand{\\d}{\\partial}\n",
    "\\newcommand{\\R}{\\mathbb{R}}\n",
    "\\DeclareMathOperator{\\rot}{rot}\n",
    "\\DeclareMathOperator{\\grad}{grad}\n",
    "\\DeclareMathOperator{\\curl}{curl}\n",
    "\\DeclareMathOperator{\\dive}{div}\n",
    "\\newcommand{\\Ho}{\\smash[t]{\\mathring{H}}}\n",
    "$\n",
    "According to Maxwell equations, a time-varying electric field $\\Ec$ creates a magnetic field $\\Hc$, and vice versa. Since time variations in one field cause  coupling to the other field, we anticipate that when nothing is changing in time, the field equations should decouple."
   ]
  },
  {
   "cell_type": "markdown",
   "id": "c7e80934",
   "metadata": {},
   "source": [
    "To see this in more detail, recall the Maxwell system \n",
    "\\begin{align*}\n",
    "    \\d_t \\Bc + \\curl \\Ec & = 0\n",
    "    \\\\\n",
    "    \\d_t \\Dc - \\curl \\Hc & = -\\Jc \n",
    "    \\\\\n",
    "    \\dive \\Bc & = 0\n",
    "    \\\\\n",
    "    \\dive \\Dc & = \\rho,\n",
    "\\end{align*}\n",
    "where $\\Dc, \\Bc, \\Jc,$ and $\\rho$ denotes the displacement current, the magnetic flux density, the current density, and the charge density, respectively. When the current $\\Jc$ and charge density $\\rho$  are time independent, it is natural to seek solutions that are also time-independent.  Omitting the $\\d_t$-terms from the Maxwell system, \n",
    "we  find that $\\Ec, \\Dc$  decouple from $\\Hc, \\Bc$. Namely, $\\Ec$ and $\\Dc$ satisfy the **electrostatic system** \n",
    "\n",
    "\\begin{align*}\n",
    "    \\curl \\Ec & = 0, \n",
    "    \\\\\n",
    "    \\dive \\Dc & = \\rho, \n",
    "\\end{align*}\n",
    "\n",
    "while $\\Hc$ and $\\Bc$ satisfy the **magnetostatic system** \n",
    "\n",
    "\\begin{align*}\n",
    "    \\curl \\Hc & = \\Jc, \n",
    "    \\\\\n",
    "    \\dive \\Bc & = 0.\n",
    "\\end{align*}\n",
    "\n",
    "The electrostatic system must be complemented with constitutive laws connecting $\\Dc$ and $\\Ec$. Similarly, the magnetostatic system must be augmented with constitutive laws connecting $\\Bc$ and $\\Hc$. These systems give a variety of stationary Maxwell solutions in $\\R^3$."
   ]
  },
  {
   "cell_type": "markdown",
   "id": "ed5fef49",
   "metadata": {},
   "source": [
    "## Electrostatics\n",
    "\n",
    "$\\newcommand{\\Ec}{\\mathcal{E}}\n",
    "\\newcommand{\\Mc}{\\mathcal{M}}\n",
    "\\newcommand{\\Hc}{\\mathcal{H}}\n",
    "\\newcommand{\\Bc}{\\mathcal{B}}\n",
    "\\newcommand{\\Jc}{\\mathcal{J}}\n",
    "\\newcommand{\\Dc}{\\mathcal{D}}\n",
    "$\n",
    "\n",
    "Since any curl-free smooth vector field $\\Ec$ in $\\R^3$ must be a gradient, the first equation of electrostatics implies the existence of an *electric potential* $\\Phi$ such that \n",
    "$$\n",
    "\\Ec = -\\grad \\Phi.\n",
    "$$\n",
    "In a linear medium, since $\\Dc = \\veps \\Ec$ (where $\\veps$ is the electric permittivity), the second equation of electrostatics determines the electric potential by \n",
    "$$\n",
    "-\\dive (\\veps \\grad \\Phi) = \\rho, \n",
    "$$\n",
    "the Poisson equation. Since we have already extensively studied this equation, let us skip to the next system describing magnetostatics. "
   ]
  },
  {
   "cell_type": "markdown",
   "id": "7f2649da",
   "metadata": {},
   "source": [
    "## Magnetostatics"
   ]
  },
  {
   "cell_type": "markdown",
   "id": "e4dbeef9",
   "metadata": {},
   "source": [
    "Since any divergence-free smooth $\\Bc$ in $\\R^3$  must be a curl, the second  equation of magnetostatics, $\\dive \\Bc=0$,  implies that there is a *magnetic vector potential* $A$ such that \n",
    "$$\n",
    "\\Bc = \\curl A.\n",
    "$$\n",
    "If the medium admits  the constitutive relation  $\\Bc = \\mu \\Hc$,  where $\\mu$ is the magnetic permeability, then the first equation of magnetostatics, $\\curl \\Hc = \\Jc$,   leads to the following equation for $A$:\n",
    "$$\n",
    "\\curl \\mu^{-1} \\curl A = \\Jc.\n",
    "$$\n",
    "Note that the vector potential is not unique. We have seen how a gauge constraint makes $A$ unique and results in a wellposed mixed system. This notebook focuses on practical issues in computing magnetostatic fields through two selected examples (cf. ngsolve [i-tutorial](https://ngsolve.org/docu/nightly/i-tutorials/unit-2.4-Maxwell/Maxwell.html) and [wta](http://127.0.0.1:8888/lab?token=2b65da817d6f054c13930b9ca6f7c1892b90fef3e4dd0a87)). "
   ]
  },
  {
   "cell_type": "code",
   "execution_count": null,
   "id": "1922ebec",
   "metadata": {},
   "outputs": [],
   "source": [
    "from netgen.occ import Cylinder, Box, X, Y, Z, OCCGeometry, Glue\n",
    "from netgen.occ import Pnt, Edge, Segment, BezierCurve, Circle\n",
    "from netgen.occ import Wire, Face, Pipe\n",
    "from netgen.meshing import meshsize\n",
    "from ngsolve.webgui import Draw\n",
    "from ngsolve import Mesh\n",
    "import ngsolve as ng\n",
    "from math import pi\n",
    "from ngsolve import grad, curl, dx, ds"
   ]
  },
  {
   "cell_type": "markdown",
   "id": "44e73c47",
   "metadata": {},
   "source": [
    "## Example 1:  Magnetic field around a magnet\n",
    "\n",
    "The magnetic field generated by a stationary ferromagnet is a typical example where magnetostatics apply (since nothing is varying in time).  For this example,  we must change  the above-mentioned constitutive equation $\\Bc = \\mu \\Hc$. The reason is that when the atomic constituents of a medium has [magnetic dipoles pointed in the same direction](https://en.wikipedia.org/wiki/Ferromagnetism), \n",
    "such as in a ferromagnet, they create a nontrivial **magnetization** field $\\Mc$, which must be accounted for in a [revised constitutive law](https://en.wikipedia.org/wiki/Magnetization),\n",
    "$$ \\newcommand{\\Mc}{\\mathcal{M}}\n",
    "\\newcommand{\\Hc}{\\mathcal{H}}\n",
    "\\Bc = \\mu ( \\Hc + \\Mc),\n",
    "$$\n",
    "where $\\mu$ is again the magnetic permeability."
   ]
  },
  {
   "cell_type": "markdown",
   "id": "e90d5837",
   "metadata": {},
   "source": [
    "*<font color=blue>The goal, in this example, is to compute the $\\Bc$-field created by a **bar magnet** placed within an electromagnetically isolating box in air.</font>* Here is the geometry:"
   ]
  },
  {
   "cell_type": "code",
   "execution_count": null,
   "id": "0a2df85f",
   "metadata": {},
   "outputs": [],
   "source": [
    "box = Box(Pnt(-3, -3, -3), Pnt(3, 3, 3)).bc('outer')\n",
    "magnet = Cylinder(Pnt(-1,0,0), X, r=0.3, h=2)\n",
    "magnet.faces.col=(0.3, 0.3, 0.4)\n",
    "magnet.mat('magnet')\n",
    "air = box - magnet\n",
    "air.mat('air')\n",
    "\n",
    "ma = Glue([magnet, air])\n",
    "geo = OCCGeometry(ma)\n",
    "mesh = Mesh(geo.GenerateMesh(maxh=2)).Curve(3)\n",
    "Draw(ma, clipping={\"y\":0, \"z\":-1});"
   ]
  },
  {
   "cell_type": "markdown",
   "id": "7eb7840c",
   "metadata": {},
   "source": [
    "The known parameters in this problem are $\\Mc$ and $\\mu$. In SI units,  [Values](https://en.wikipedia.org/wiki/Magnet) of magnetization of iron are around $10^6$ A/m. The magnetic permeability  is usually given in terms of the vacuum permeability  $\\mu_0 = 4\\pi \\times 10^{-7}$ as \n",
    "$$\n",
    "\\mu = \\mu_r \\mu_0,\n",
    "$$\n",
    "where $\\mu_r$ is the relative magnetic permeability.  The relative magnetic permeability of iron [varies](https://en.wikipedia.org/wiki/Permeability_(electromagnetism)) significantly: for our model problem, we will fix its value to  $5000$ H/m."
   ]
  },
  {
   "cell_type": "markdown",
   "id": "104fb60a",
   "metadata": {},
   "source": [
    "Accordingly, within the bar magnet, which occupies the computational subdomain we denote by  $\\Omega_\\text{magnet}$, the magnetization $\\Mc$ is modeled as a constant nonzero vector set below. Outside of the magnet, $\\Mc$ vanishes:\n",
    "$$\n",
    "\\Mc = \\left\\{\n",
    "\\begin{aligned}\n",
    "& (10^6, 0, 0) && \\text{ in } \\Omega_\\text{magnet},\n",
    "\\\\\n",
    "& (0, 0, 0) && \\text{ in } \\Omega \\setminus \\Omega_\\text{magnet}.\n",
    "\\end{aligned}\n",
    "\\right.\n",
    "$$\n",
    "The relative magnetic permeability is set by \n",
    "$$\n",
    "\\mu_r\n",
    "= \\left\\{\n",
    "\\begin{aligned}\n",
    "& 5000 && \\text{ in } \\Omega_\\text{magnet},\n",
    "\\\\\n",
    "& 1 && \\text{ in } \\Omega \\setminus \\Omega_\\text{magnet}.\n",
    "\\end{aligned}\n",
    "\\right.\n",
    "$$"
   ]
  },
  {
   "cell_type": "code",
   "execution_count": null,
   "id": "68d70165",
   "metadata": {},
   "outputs": [],
   "source": [
    "M = mesh.MaterialCF({'magnet': (1e6,0,0), 'air': (0,0,0)})\n",
    "mu0 = 4*pi*1e-7\n",
    "mur = mesh.MaterialCF({'magnet': 5000}, default=1)"
   ]
  },
  {
   "cell_type": "markdown",
   "id": "5ae9b940",
   "metadata": {},
   "source": [
    "There are no applied currents in the system, i.e., \n",
    "$$\n",
    "\\Jc = 0.\n",
    "$$\n",
    "Hence $\\Mc$ serves as the source for solving the magnetostatic field.  As before, since $\\dive \\Bc = 0,$ introducing a magnetic vector potential $A$ such that $\\Bc = \\curl A$, the equations \n",
    "$$\n",
    "\\curl \\Hc = 0, \\qquad \\Bc = \\mu( \\Hc + \\Mc)\n",
    "$$\n",
    "imply that $\\curl (\\mu^{-1} \\Bc - \\Mc)=0$. Thus we have the following boundary value problem for $A$:  Given $\\Mc$ and $\\mu$,  find $A$ satisfying\n",
    "\\begin{align*}\n",
    "\\curl \\mu^{-1} \\curl A & = \\curl \\Mc && \\text{ in } \\Omega, \\\\\n",
    " A \\times n & = 0 && \\text{ on } \\d\\Omega.\n",
    "\\end{align*}\n",
    "\n",
    "Note that the boundary condition $A \\times n =0$ implies that $n \\cdot \\curl A = n \\cdot B = 0,$ so it models an isolating box that confines the magnetic field to the interior of the box."
   ]
  },
  {
   "cell_type": "markdown",
   "id": "e990e575",
   "metadata": {},
   "source": [
    "Instead of computing with large material coefficients like $\\mu^{-1}$, it's nicer to compute with non-dimensional numbers like $\\mu_r$. Hence, multiplying through by the universal constant $\\mu_0,$ we revise the problem:\n",
    "\n",
    "<font color=blue>Given $\\Mc$ and $\\mu$, find the magnetostatic potential $A$ satisfying\n",
    "\\begin{align*}\n",
    "\\curl \\mu_r^{-1} \\curl A & = \\curl (\\mu_0\\Mc) && \\text{ in } \\Omega, \\\\\n",
    " A \\times n & = 0 && \\text{ on } \\d\\Omega.\n",
    "\\end{align*}\n",
    "</font>"
   ]
  },
  {
   "cell_type": "markdown",
   "id": "c006a0bb",
   "metadata": {},
   "source": [
    "\n",
    "At this point, an issue worth noting is that since $\\Mc$ is discontinuous, $\\curl (\\mu_0\\Mc)$ can only be interpreted in the distributional sense. In other words, \n",
    "the above equation $\\curl \\mu^{-1} \\curl A  = \\curl (\\mu_0\\Mc)$ is to be rigorously considered as a *distributional equation*. Using the definition of the distributional curl,\n",
    "$$\n",
    "\\int_\\Omega \\mu_r^{-1} \\curl A \\cdot \\curl \\varphi = \\int_\\Omega \\mu_0\\Mc \\cdot \\curl \\varphi\n",
    "$$\n",
    "for all $\\varphi$ in the space of smooth Schwartz test functions $\\Dc(\\Omega)^3.$ Since $\\Dc(\\Omega)^3$ is dense in $\\Ho(\\curl, \\Omega)$, we obtain the following weak formulation:\n",
    "Find $A \\in \\Ho(\\curl,\\Omega)$ satisfying \n",
    "\\begin{align*}\n",
    "\\int_\\Omega  \\mu_r^{-1} \\curl A \\cdot \\curl v  = \\int_\\Omega \\mu_0\\Mc \\cdot \\curl v\n",
    "\\end{align*}\n",
    "for all $v \\in \\Ho(\\curl,\\Omega)$.   This reformulation allows us to avoid the tricky issue of numerically approximating   the surface field contribution of the distribution $\\curl \\Mc$."
   ]
  },
  {
   "cell_type": "markdown",
   "id": "d283cac5-c347-4dac-82d2-b4ffe9e4d029",
   "metadata": {},
   "source": [
    "Now we must face another issue. The above weak formulation is not uniquely solvable. Indeed, if you find a solution $A,$ then $A+ \\grad \\psi$ for any $\\psi \\in \\Ho^1(\\Omega)$ must also solve the same boundary value problem. This is a reflection of the fact that magnetic vector potentials are not unique. One technique to recover uniqueness, as seen in the theory lectures,  is to impose an *additional gauge constraint* that $A$ must be  orthogonal to  $\\grad \\Ho^1(\\Omega)$. This is the second equation of the revised weak formulation we state next. The imposition of such a constraint results in the introduction of a Lagrange multiplier $\\phi\\in \\Ho^1(\\Omega)$ into the other equation of the weak form."
   ]
  },
  {
   "cell_type": "markdown",
   "id": "87e4e0d0-6950-49e5-b4d3-ebdc362cd07d",
   "metadata": {},
   "source": [
    "<font color=blue>Find $A \\in \\Ho(\\curl,\\Omega)$ and $\\phi \\in \\Ho^1(\\Omega)$ satisfying \\begin{align*}\n",
    "\\int_\\Omega  \\mu_r^{-1} \\curl A \\cdot \\curl v + \\int_\\Omega \\grad \\phi \\cdot v \n",
    "&  = \\int_\\Omega \\mu_0\\Mc \\cdot \\curl v\\\\\n",
    "\\int_\\Omega A \\cdot \\grad \\psi & = 0 \n",
    "\\end{align*}\n",
    "for all $v \\in \\Ho(\\curl,\\Omega)$ and $\\psi \\in \\Ho^1(\\Omega)$. \n",
    "</font>"
   ]
  },
  {
   "cell_type": "markdown",
   "id": "4d6a01e6-1a58-4b11-97ab-bf8516547588",
   "metadata": {},
   "source": [
    "<div class=\"alert alert-info\">\n",
    "    <b><font color=red>Exercise I:</font></b>  \n",
    "    Prove that any $\\phi\\in \\Ho^1(\\Omega)$ solving  the above formulation must be zero.\n",
    "</div>"
   ]
  },
  {
   "cell_type": "markdown",
   "id": "1bf5691e",
   "metadata": {},
   "source": [
    "By verifying the conditions of Brezzi theory, we have seen that this weak formulation is uniquely solvable. Its natural discretization, using Nedelec elements for $A$ and Lagrange elements for $\\phi$, fitting the finite element de Rham subcomplex, yields optimal orders of convergence.\n",
    "\n",
    "We now proceed to implement this method and visualize the resulting magnetic flux density $\\Bc$."
   ]
  },
  {
   "cell_type": "code",
   "execution_count": null,
   "id": "4089d1ac",
   "metadata": {},
   "outputs": [],
   "source": [
    "N = ng.HCurl(mesh, order=0, type1=True, dirichlet='outer')\n",
    "V = ng.H1(mesh, order=1, dirichlet='outer')\n",
    "NV = ng.FESpace([N, V])      \n",
    "(A, p), (v, q) = NV.TnT()\n",
    "\n",
    "a = ng.BilinearForm(NV)\n",
    "a += (1.0/mur)*curl(A)*curl(v)*dx + grad(p)*v*dx\n",
    "a += grad(q)*A*dx \n",
    "\n",
    "f = ng.LinearForm(NV)\n",
    "f += mu0 * M * curl(v) * dx(\"magnet\")\n",
    "\n",
    "with ng.TaskManager():\n",
    "    a.Assemble()\n",
    "    f.Assemble()"
   ]
  },
  {
   "cell_type": "code",
   "execution_count": null,
   "id": "a3ccc9c2",
   "metadata": {},
   "outputs": [],
   "source": [
    "Ap = ng.GridFunction(NV)\n",
    "try:\n",
    "    Ap.vec.data = a.mat.Inverse(NV.FreeDofs(), inverse='umfpack') * f.vec\n",
    "except:  # do without a sparse direct solver:\n",
    "    from ngsolve.solvers import GMRes\n",
    "    with ng.TaskManager():\n",
    "        Ap.vec[:] = 0\n",
    "        c = ng.BilinearForm(NV)\n",
    "        c += ((1.0/mur)*curl(A)*curl(v) + A*v + grad(p)*grad(q) + p*q) * dx\n",
    "        c.Assemble()\n",
    "        cinv = c.mat.Inverse(NV.FreeDofs(), inverse='sparsecholesky')\n",
    "        GMRes(A=a.mat, pre=cinv, b=f.vec, x=Ap.vec, tol=1e-13, printrates=False, maxsteps=1000)"
   ]
  },
  {
   "cell_type": "markdown",
   "id": "18b4dbeb",
   "metadata": {},
   "source": [
    "Calculating the curl of this computed $A$, we obtain a visualization of $\\Bc$."
   ]
  },
  {
   "cell_type": "code",
   "execution_count": null,
   "id": "ba92f312",
   "metadata": {},
   "outputs": [],
   "source": [
    "B = curl(Ap.components[0])\n",
    "\n",
    "Draw(B, mesh, 'B-field', draw_surf=False, vectors={'grid_size':50}, clipping = {'y':0, 'z': -1, 'function':False});"
   ]
  },
  {
   "cell_type": "markdown",
   "id": "c75494cb",
   "metadata": {},
   "source": [
    "In accordance with our intuition from elementary physics, the computed results show that the $\\Bc$-field appears to emanate out of one side (the \"north\" pole of the magnet) and loop back into the other side (the \"south\" pole)."
   ]
  },
  {
   "cell_type": "markdown",
   "id": "d261c825",
   "metadata": {},
   "source": [
    "## Example 2: Magnetic field due to current in a coil\n"
   ]
  },
  {
   "cell_type": "markdown",
   "id": "3a373429",
   "metadata": {},
   "source": [
    "This second example is also a three-dimensional example, but it is considerably more computationally expensive.  The scenario is as follows. A current through a coil creates a magnetic field, per Maxwell equations. When the current is stationary, we can use the equations of magnetostatics to compute the magnetic field.\n",
    "\n",
    "The first task is to make the coil geometry. The region occupying the coil $\\Om_\\text{coil}$ is shown clipped below."
   ]
  },
  {
   "cell_type": "code",
   "execution_count": null,
   "id": "30e56a4d",
   "metadata": {
    "scrolled": true
   },
   "outputs": [],
   "source": [
    "cyl = Cylinder(Pnt(0,0,0), Z, r=0.01, h=0.03).faces[0]\n",
    "heli = Edge(Segment((0,0), (12*pi, 0.03)), cyl)\n",
    "ps = heli.start\n",
    "vs = heli.start_tangent\n",
    "pe = heli.end\n",
    "ve = heli.end_tangent\n",
    "\n",
    "e1 = Segment((0,0,-0.03), (0,0,-0.01))\n",
    "c1 = BezierCurve( [(0,0,-0.01), (0,0,0), ps-vs, ps])\n",
    "e2 = Segment((0,0,0.04), (0,0,0.06))\n",
    "c2 = BezierCurve( [pe, pe+ve, (0,0,0.03), (0,0,0.04)])\n",
    "spiral = Wire([e1, c1, heli, c2, e2])\n",
    "circ = Face(Wire([Circle((0,0,-0.03), Z, 0.001)]))\n",
    "coil = Pipe(spiral, circ)\n",
    "coil.faces.maxh=0.2\n",
    "coil.faces.name=\"coilbnd\"\n",
    "coil.faces.Max(Z).name=\"in\"\n",
    "coil.faces.Min(Z).name=\"out\"\n",
    "coil.mat(\"coil\")\n",
    "Draw(coil, euler_angles=(-45, 35, 20));"
   ]
  },
  {
   "cell_type": "markdown",
   "id": "9ca2bb36",
   "metadata": {},
   "source": [
    "Next, we enclose the coil in a box of air, followed by meshing the resulting domain,\n",
    "$$\n",
    "\\Om = \\Om_{\\text{air}} \\cup \\Om_{\\text{coil}}.\n",
    "$$\n",
    "We track the air and coil subdomains by naming them distinctly. "
   ]
  },
  {
   "cell_type": "code",
   "execution_count": null,
   "id": "b8090307",
   "metadata": {},
   "outputs": [],
   "source": [
    "box = Box((-0.04,-0.04,-0.03), (0.04,0.04,0.06))\n",
    "box.faces.name = 'outer'\n",
    "air = box-coil\n",
    "air.mat('air');"
   ]
  },
  {
   "cell_type": "code",
   "execution_count": null,
   "id": "cb8a26cd",
   "metadata": {},
   "outputs": [],
   "source": [
    "geo = OCCGeometry(Glue([coil,air]))\n",
    "with ng.TaskManager():\n",
    "    msh = ng.Mesh(geo.GenerateMesh(meshsize.coarse)).Curve(3)   "
   ]
  },
  {
   "cell_type": "code",
   "execution_count": null,
   "id": "8e45c56a-da11-4d30-b5c6-a3a4ab5f262b",
   "metadata": {
    "scrolled": true
   },
   "outputs": [],
   "source": [
    "Draw(msh, clipping={\"y\":1, \"z\":0, \"dist\":0.012}, euler_angles=(-140, -50, 0));"
   ]
  },
  {
   "cell_type": "markdown",
   "id": "b0859666-2265-4667-a102-a314cc176f82",
   "metadata": {},
   "source": [
    "In addition to this geometry, the only other pieces of information we are supplied with is that the coil is made of copper and  that a potential difference of 1000 V is applied across the two ends of the coil.\n",
    "\n",
    "Given these bits of information, *<font color=blue>the problem is to compute the magnetic field created by the current in the coil due to the voltage difference.</font>*"
   ]
  },
  {
   "cell_type": "markdown",
   "id": "33609fd1",
   "metadata": {},
   "source": [
    "Returning to the system of partial differential equations for the magnetic flux density $\\Bc$, \n",
    "\\begin{align*}\n",
    "    \\curl \\Hc & = \\Jc, \n",
    "    &\n",
    "    \\dive \\Bc & = 0.\n",
    "\\end{align*}\n",
    "Combined with the linear material constitutive law,  $\\Bc = \\mu \\Hc$, as before, introducing a magnetic vector potential $A$ such that $\\Bc = \\curl A$, the task is to find an $A$ solving\n",
    "\n",
    "$$\n",
    "\\curl \\mu^{-1} \\curl A = \\Jc.\n",
    "$$\n",
    "\n",
    "The system is driven by the current density $\\Jc$. However, we are not given $\\Jc$. \n",
    "So we need to first discuss how  we can compute the current density $\\Jc$ based off the given potential difference information."
   ]
  },
  {
   "cell_type": "markdown",
   "id": "abaea7da",
   "metadata": {},
   "source": [
    "#### Computing the source current \n",
    "\n",
    "Let us begin by recalling that since nothing is varying in time, by the equations of electrostatics mentioned at the beginning of this notebook, there exists an electric potential $\\Phi$ such that $\\Ec = -\\grad \\Phi$. The current density is given by Ohm's law,\n",
    "\n",
    "$$\n",
    "\\Jc = \\sigma \\Ec = -\\sigma \\grad \\Phi.\n",
    "$$\n",
    "\n",
    "Recalling that the coil is made of copper, note that the [conductivity](https://en.wikipedia.org/wiki/Electrical_resistivity_and_conductivity) of copper is  large, $\\sigma \\approx 5.96 \\times 10^7$, while that of air is negligible, varying between $10^{-15}$ to $10^{-9}$. Thus the current density $\\Jc$ may be modeled as zero in the air region. To find $\\Jc$ in the coil, note that the Maxwell equation $\\curl \\Hc = -\\Jc$ implies $\\dive \\Jc =0$ in $\\Om$. Having agreed that $\\Jc\\equiv 0$ in $\\Om_{\\text{air}}$, a consistent boundary condition at the air-copper interface would be $\\Jc \\cdot n =0$. Using it, we may restrict the problem of computing $\\Jc$ to $\\Om_{\\text{coil}}$. Namely,  $\\Jc = \\sigma \\Ec = -\\sigma \\grad \\Phi$,  and the electrostatic potential $\\Phi$ solves\n",
    "\\begin{align*}\n",
    "\\dive(\\sigma \\grad \\Phi) & = 0 && \\text{ in }\\Om_{\\text{coil}},\n",
    "\\\\\n",
    "\\Phi & = 10^3  && \\text{ on }\\d\\Om_{\\text{in}},\n",
    "\\\\\n",
    "\\Phi & = 0  && \\text{ on }\\d\\Om_{\\text{out}},\n",
    "\\\\\n",
    "\\sigma\\frac{\\d \\Phi}{\\d n} & = 0 && \\text{ on }\\d\\Om_{\\text{coil}} \\setminus \\Om_{\\text{out}},\n",
    "\\end{align*}\n",
    "where the current inlet and outlet faces of the coil are denoted by \n",
    "$\\d\\Om_{\\text{in}}$ and $\\d\\Om_{\\text{out}},$ respectively, and were named `in` and `out` in the meshing code above. Note that since $\\sigma$, being a constant within the coil, can be canceled off from the first and last equations of the boundary value problem above. We first solve this  electrostatic problem, using Lagrange elements as usual, restricted to the coil subdomain, below."
   ]
  },
  {
   "cell_type": "code",
   "execution_count": null,
   "id": "ab2f0884",
   "metadata": {},
   "outputs": [],
   "source": [
    "p=3\n",
    "V = ng.H1(msh, order=p, definedon='coil', dirichlet='in|out')  # FE space on just one subdomain\n",
    "phi, psi = V.TnT()\n",
    "Phi = ng.GridFunction(V)\n",
    "Phi.Set(1000, definedon=msh.Boundaries('in'))"
   ]
  },
  {
   "cell_type": "code",
   "execution_count": null,
   "id": "d57c31fc",
   "metadata": {},
   "outputs": [],
   "source": [
    "with ng.TaskManager():\n",
    "    a = ng.BilinearForm(grad(phi)*grad(psi)*dx).Assemble().mat\n",
    "    ainv = a.Inverse(freedofs=V.FreeDofs(), inverse=\"sparsecholesky\")\n",
    "    f = Phi.vec.CreateVector()\n",
    "    f.data = -a * Phi.vec\n",
    "    Phi.vec.data += ainv * f"
   ]
  },
  {
   "cell_type": "code",
   "execution_count": null,
   "id": "2537c1ca",
   "metadata": {},
   "outputs": [],
   "source": [
    "Draw(Phi, draw_vol=False, clipping={\"y\":1, \"z\":0, \"dist\":0.012}, euler_angles=(-140, -50, 0));"
   ]
  },
  {
   "cell_type": "markdown",
   "id": "c80afd2f-63f2-4ffb-abda-8639305db812",
   "metadata": {},
   "source": [
    "Now we are finally ready to compute the input data required to solve the magnetostatic field problem, namely the  current density source $\\Jc = -\\sigma \\grad\\Phi$, using the gradient of the above-shown $\\Phi$. "
   ]
  },
  {
   "cell_type": "markdown",
   "id": "28bde67f",
   "metadata": {},
   "source": [
    "This then goes into computing the right hand side of \n",
    "$\n",
    "\\curl \\mu^{-1} \\curl A = \\Jc.\n",
    "$\n",
    "Note that the magnetic permeability of copper and air are about the same as in vacuum, so we may as well simplify and model $\\mu$ as the constant $\\mu_0$ and multiply the above equation through by it. This yields  the equation we shall now solve, namely \n",
    "$$\n",
    "\\curl \\curl A = F,\n",
    "$$\n",
    "with \n",
    "$$\n",
    "F = -\\mu \\sigma \\grad \\Phi.\n",
    "$$\n",
    "Let us compute and visualize this source. "
   ]
  },
  {
   "cell_type": "code",
   "execution_count": null,
   "id": "5ae28966",
   "metadata": {},
   "outputs": [],
   "source": [
    "sigma = 5.96e7\n",
    "mu0 = 4*pi*1e-7\n",
    "F = -sigma * mu0 * grad(Phi)\n",
    "Draw(F, msh, draw_surf=False, min=-1000, max=1000, vectors = {'grid_size':500}, clipping={\"y\":1, \"z\":0, \"dist\":0.0}, euler_angles=(-140, -50, 0));"
   ]
  },
  {
   "cell_type": "markdown",
   "id": "eacc8e39-0154-44c2-88d3-61ac0083d68e",
   "metadata": {},
   "source": [
    "In this plot, you will need to zoom in closer to the coil to appreciate the directions (in various clipped spots) of source vector field representing the current flow that we just computed. "
   ]
  },
  {
   "cell_type": "markdown",
   "id": "6d4a1bea",
   "metadata": {},
   "source": [
    "#### Computing the magnetic field\n",
    "Now that we have the right hand side prepared, we can solve for $A$. Of course, we must deal with the same non-uniqueness problem we encountered in Example 1. This time we illustrate another technique to overcome the problem. Instead of orthogonalizing $A$ against gradients, we use an ngsolve facility to create an $H(\\curl)$-conforming space from which most gradient shape functions have been removed. This together with the addition of a small term that prevents the system from having a null space is a reasonable practical technique to overcome the nonuniqueness. Even if  it may not be as mathematically satisfying as the previous foolproof mixed method technique of Example 1, it does have the advantage that we can solve a much larger sized problem with a simple iterative solver, namely conjugate gradients, without huge memory demands."
   ]
  },
  {
   "cell_type": "code",
   "execution_count": null,
   "id": "a7211940",
   "metadata": {},
   "outputs": [],
   "source": [
    "N = ng.HCurl(msh, order=2,\n",
    "             nograds=True, # remove most gradient fields from Nedelec space\n",
    "             dirichlet='outer')  \n",
    "A, v  = N.TnT()\n",
    "d = 1e-6   # add a small positive perturbation to get uniqueness\n",
    "a = ng.BilinearForm(curl(A)*curl(v)*dx + d*A*v*dx)\n",
    "f = ng.LinearForm(F*v*dx('coil'))\n",
    "with ng.TaskManager():\n",
    "    pre = ng.Preconditioner(a, 'bddc')\n",
    "    a.Assemble()\n",
    "    f.Assemble()"
   ]
  },
  {
   "cell_type": "code",
   "execution_count": null,
   "id": "30ff1561",
   "metadata": {},
   "outputs": [],
   "source": [
    "inv = ng.CGSolver(a.mat, pre, printrates=True)\n",
    "Ah = ng.GridFunction(N)\n",
    "with ng.TaskManager():\n",
    "    Ah.vec.data = inv * f.vec"
   ]
  },
  {
   "cell_type": "code",
   "execution_count": null,
   "id": "72222313-1a41-43b0-abe1-d1943b27ba91",
   "metadata": {},
   "outputs": [],
   "source": [
    "Draw (curl(Ah), msh, draw_surf=False,  min=0, max=100, vectors ={'grid_size':100}, clipping={\"y\":1, \"z\":0}, euler_angles=(-70, 0, 0));"
   ]
  },
  {
   "cell_type": "markdown",
   "id": "3ce36ff9",
   "metadata": {},
   "source": [
    "A close examination of this vector field will show you the similarities this $\\Bc$-field has with the field around the permanent magnet of Example 1. The magnetic field loops around the coil much the same way as it did through the magnet."
   ]
  },
  {
   "cell_type": "markdown",
   "id": "7c8b0b72-0741-4c1d-b82c-4dcfcd730d0c",
   "metadata": {},
   "source": [
    "\n",
    "<hr>\n",
    "    \n",
    "    \n",
    "$\\ll$ [Table Of Contents](./0_INDEX.ipynb) <br>\n",
    "$\\ll$ [Jay Gopalakrishnan](http://web.pdx.edu/~gjay/)"
   ]
  }
 ],
 "metadata": {
  "kernelspec": {
   "display_name": "Python 3 (ipykernel)",
   "language": "python",
   "name": "python3"
  },
  "language_info": {
   "codemirror_mode": {
    "name": "ipython",
    "version": 3
   },
   "file_extension": ".py",
   "mimetype": "text/x-python",
   "name": "python",
   "nbconvert_exporter": "python",
   "pygments_lexer": "ipython3",
   "version": "3.11.6"
  }
 },
 "nbformat": 4,
 "nbformat_minor": 5
}
