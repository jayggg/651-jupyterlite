{
 "cells": [
  {
   "cell_type": "markdown",
   "id": "c77df543-5cff-4e8d-b79f-6ff1e8ad39b4",
   "metadata": {},
   "source": [
    "# Working with finite elements\n",
    "\n",
    "## MTH 65X: Advanced Numerical Analysis\n",
    "\n",
    "#### 2023-24, Portland State University\n",
    "\n",
    "#### Instructor:  [Jay Gopalakrishnan](http://web.pdx.edu/~gjay/)\n",
    "\n",
    "<hr>\n"
   ]
  },
  {
   "cell_type": "markdown",
   "id": "d5d0856a-fe05-4567-abd1-017d40f25ca6",
   "metadata": {},
   "source": [
    "## Lecture Notebooks\n",
    "\n",
    "These notebooks are designed as class activities to obtain practical experience in numerically solving partial differential equations and are intended to accompany (not replace) theory lectures."
   ]
  },
  {
   "cell_type": "markdown",
   "id": "fbc27e7d-33fa-452c-87f7-b84e6ad9a967",
   "metadata": {},
   "source": [
    "- 01 [Lagrange finite element space](01_Lagrange.ipynb)\n",
    "- -- Review [NGSolve i-Tutorial 1.2](https://ngsolve.org/docu/latest/i-tutorials/unit-1.2-coefficient/coefficientfunction.html)\n",
    "- 02 [Projections and best approximations](02_ProjectionBAE.ipynb)"
   ]
  }
 ],
 "metadata": {
  "kernelspec": {
   "display_name": "Python 3 (ipykernel)",
   "language": "python",
   "name": "python3"
  },
  "language_info": {
   "codemirror_mode": {
    "name": "ipython",
    "version": 3
   },
   "file_extension": ".py",
   "mimetype": "text/x-python",
   "name": "python",
   "nbconvert_exporter": "python",
   "pygments_lexer": "ipython3",
   "version": "3.11.2"
  }
 },
 "nbformat": 4,
 "nbformat_minor": 5
}
