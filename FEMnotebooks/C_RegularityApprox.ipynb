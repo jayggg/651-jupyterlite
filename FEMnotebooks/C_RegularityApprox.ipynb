{
 "cells": [
  {
   "cell_type": "markdown",
   "metadata": {},
   "source": [
    "# Regularity's role in approximation"
   ]
  },
  {
   "cell_type": "markdown",
   "metadata": {},
   "source": [
    "We have [already seen](B_ProjectionBAE.ipynb) that the polynomial degree $p$ and mesh size $h$ are important factors in how best approximation errors decrease.  The regularity (or smoothness) of the approximating function also plays an important role in how well the function can approximated in a finite element space. We have seen theoretical examples of this phenomena in the lectures. The purpose of this notebook is to augment the theoretical understanding with practical manifestation of the role of regularity in rates of approximation. \n",
    "\n",
    "Here is a poem from the 1978 Finite Element Circus (a conference series on finite elements) that will reinforce the message.\n",
    "\n",
    "> There once was a fellow named Dare. <br>\n",
    "> Who approximated PDEs with great care. <br>\n",
    "> But the solutions were rough <br>\n",
    "> And the problems were tough, <br>\n",
    "> So he only got $O(h^2).$\n",
    "\n",
    "\n",
    "In this notebook, we will see examples where we do not even get the  $O(h^2)$ approximation rate."
   ]
  },
  {
   "cell_type": "markdown",
   "metadata": {},
   "source": [
    "## One-dimensional example "
   ]
  },
  {
   "cell_type": "markdown",
   "metadata": {},
   "source": [
    "Consider the function \n",
    "$$\n",
    "u(x) = x^{1/3}\n",
    "$$\n",
    "on the interval $0 < x < 1$. *What is the rate of convergence of its best approximation in the lowest order DG finite element space built using a uniform mesh?*   In the theory lectures, we proved that the convergence rate is $O(h)$ under conditions that included that the derivative $u' \\in L^2(0,1)$. However, this result does not apply here since the derivative  $u'(x)$ of  $u(x) = x^{1/3}$  is not in $L^2(0, 1)$. Since $u \\in L^2$ and $u' \\not\\in L^2$,  we suspect we might only get some intermediate convergence rate between 0 and 1 for the best approximation error of this $u$. We proceed to compute this rate. First, recall the projection routine from a [previous notebook](./B_ProjectionBAE.ipynb)."
   ]
  },
  {
   "cell_type": "code",
   "execution_count": null,
   "metadata": {},
   "outputs": [],
   "source": [
    "import ngsolve as ng\n",
    "import numpy as np\n",
    "from ngsolve.meshes import Make1DMesh\n",
    "from ngsolve import x, y, dx, sqrt, BilinearForm, LinearForm\n",
    "from ngsolve.webgui import Draw\n",
    "import matplotlib.pyplot as plt\n",
    "\n",
    "def ProjectL2(u, W):\n",
    "    \"\"\" Input: u as a CF.\n",
    "        Output: L^2-projection Q u as a GF. \"\"\"\n",
    "    Qu = ng.GridFunction(W)\n",
    "    q = W.TrialFunction()\n",
    "    m = W.TestFunction()\n",
    "    a = BilinearForm(q*m*dx)\n",
    "    b = LinearForm(u*m*dx)\n",
    "    with ng.TaskManager():\n",
    "        a.Assemble()\n",
    "        b.Assemble()\n",
    "        Qu.vec.data = a.mat.Inverse(inverse='sparsecholesky') * b.vec\n",
    "    return Qu"
   ]
  },
  {
   "cell_type": "markdown",
   "metadata": {},
   "source": [
    "Here is a quick computation and visualization of the function $u(x) = x^{1/3}$ and its $L^2$-orthogonal projection into the lowest order DG finite element space made with $N$ elements, namely the function $(R_N u)(x)$ defined for $x$ in each 1D element $ (x_i, x_{i+1})$ by  \n",
    "$$\n",
    "    (R_N u)(x) = \\frac{1}{x_{i+1} - x_i} \\int_{x_i}^{x_{i+1}} u(s)\\, ds.\n",
    "$$"
   ]
  },
  {
   "cell_type": "code",
   "execution_count": null,
   "metadata": {},
   "outputs": [],
   "source": [
    "# Compute L^2 projection R_N on a uniform mesh of N elements\n",
    "N = 5\n",
    "mesh = Make1DMesh(5)\n",
    "u = x**(1/3)\n",
    "Ru = ProjectL2(u, ng.L2(mesh, order=0))\n",
    "               \n",
    "# Display u and R_N u\n",
    "xv = np.array([v.point[0] for v in mesh.vertices])\n",
    "xf = np.linspace(0, 1, 500)\n",
    "uf = xf**(1/3)\n",
    "fig, ax = plt.subplots()\n",
    "exact, = ax.plot(xf, uf, 'r-')\n",
    "proj = ax.bar(xv[:-1], Ru.vec, width=1/N, align='edge', fc='lightgreen', ec='k')\n",
    "ax.set_xlabel('$x$')\n",
    "ax.legend((exact, proj[0]), ('$u(x) = x^{1/3}$', '$R_N u$'));"
   ]
  },
  {
   "cell_type": "markdown",
   "metadata": {},
   "source": [
    "To compute the rate of convergence of the best approximation, we again reuse the rate computation and tabulation routines from a [previous notebook](B_ProjectionBAE.ipynb), with small modifications to suit this example."
   ]
  },
  {
   "cell_type": "code",
   "execution_count": null,
   "metadata": {},
   "outputs": [],
   "source": [
    "def ProjectOnSuccessiveRefinements1D(u, p=0, N0=5, nrefinements=8):                                   \n",
    "    \"\"\"Project to f.e. spaces on a sequence of uniformly refined meshes.\"\"\"\n",
    "    \n",
    "    errors = []; N = N0\n",
    "    for ref in range(nrefinements): \n",
    "        mesh = Make1DMesh(N)\n",
    "        W = ng.L2(mesh, order=p)\n",
    "        Qu = ProjectL2(u, W)         \n",
    "        sqrerr = (Qu - u)**2      \n",
    "        errors.append(sqrt(ng.Integrate(sqrerr, mesh, order=max(2*p,10))))\n",
    "        N *= 2\n",
    "    return np.array(errors)\n",
    "\n",
    "# Load the small prettytable module; attempt to install if not found\n",
    "try:\n",
    "    from prettytable import PrettyTable\n",
    "except ModuleNotFoundError:\n",
    "    try:\n",
    "        # this works only on pyodide\n",
    "        import micropip\n",
    "        await micropip.install(\"prettytable\")\n",
    "        from prettytable import PrettyTable\n",
    "    except ModuleNotFoundError:\n",
    "        # works on local install, on jupyterhub, etc\n",
    "        !pip3 install prettytable\n",
    "        from prettytable import PrettyTable\n",
    "        \n",
    "def TabulateRate(name, dat, h0=1):\n",
    "    \"\"\"Inputs: \n",
    "        name = Name for second (error norm) column, \n",
    "        dat = list of error data on successive refinements\n",
    "        log2h0inv = log2(1/h0), where h0 is coarsest meshsize.\n",
    "    \"\"\"    \n",
    "    col = ['h', name, 'rate']\n",
    "    t = PrettyTable()\n",
    "    h0col = ['%g'%h0]\n",
    "    t.add_column(col[0], h0col + [h0col[0] + '/' + str(2**i) \n",
    "                                  for i in range(1, len(dat))])\n",
    "    t.add_column(col[1], ['%.8f'%e for e in dat])\n",
    "    t.add_column(col[2], ['*'] + \\\n",
    "                 ['%1.2f' % r \n",
    "                  for r in np.log(dat[:-1]/dat[1:])/np.log(2)])\n",
    "    print(t)"
   ]
  },
  {
   "cell_type": "code",
   "execution_count": null,
   "metadata": {},
   "outputs": [],
   "source": [
    "es = ProjectOnSuccessiveRefinements1D(x**(1/3), N0=5, nrefinements=10)\n",
    "TabulateRate('L2norm(Ru-u)', es, h0=1/5)"
   ]
  },
  {
   "cell_type": "markdown",
   "metadata": {},
   "source": [
    "Clearly, the convergence rate of the lowest-order DG best approximation of $u(x) = x^{1/3}$ appears to be $O(h^{0.83}) \\approx O(h^{1/3 + 1/2})$.\n"
   ]
  },
  {
   "cell_type": "markdown",
   "metadata": {},
   "source": [
    "<div class=\"alert alert-info\">\n",
    "    <b><font color=red>Class Activity:</font></b>      \n",
    "Computationally examine how the above approximation rate (the convergence rate of the $L^2$ best approximation from the $p=0$ DG space) changes for $u(x) = x^\\gamma$ as you vary the power $\\gamma$. \n",
    "Next,   report how the $\\gamma$-dependent rates you found change with $p$.\n",
    "</div>"
   ]
  },
  {
   "cell_type": "markdown",
   "metadata": {},
   "source": [
    "## Two-dimensional example: the L-shape"
   ]
  },
  {
   "cell_type": "markdown",
   "metadata": {},
   "source": [
    "Let $\\Omega$ be the L-shaped domain shown below. "
   ]
  },
  {
   "cell_type": "code",
   "execution_count": null,
   "metadata": {},
   "outputs": [],
   "source": [
    "#\n",
    "#  (-1,1)                       (1,1)\n",
    "#       +----------------------+  \n",
    "#       |                      |\n",
    "#       |                      | \n",
    "#       |        (0,0)         |\n",
    "#       |           +----------+ (1,0)\n",
    "#       |           |     \n",
    "#       |           | \n",
    "#       |           |\n",
    "#       +-----------+\n",
    "#  (-1,-1)       (0,-1)\n",
    "#"
   ]
  },
  {
   "cell_type": "markdown",
   "metadata": {},
   "source": [
    "We make this domain as an [OpenCascade](https://dev.opencascade.org/) geometry object within netgen. It is put together below by combining three congruent squares into the L-shape."
   ]
  },
  {
   "cell_type": "code",
   "execution_count": null,
   "metadata": {},
   "outputs": [],
   "source": [
    "from netgen.occ import OCCGeometry, Rectangle, WorkPlane, Axes, X, Y, Z\n",
    "from ngsolve.webgui import Draw\n",
    "\n",
    "s1 = WorkPlane(Axes((0,0,0), n=Z, h=X)).Rectangle(1,1).Face()\n",
    "s2 = WorkPlane(Axes((0,0,0), n=Z, h=-X)).Rectangle(1,1).Face()\n",
    "s3 = WorkPlane(Axes((0,0,0), n=Z, h=Y)).Rectangle(1,1).Face()\n",
    "L = s1+s2+s3\n",
    "Draw(L);\n",
    "geo = OCCGeometry(L, dim=2)                  "
   ]
  },
  {
   "cell_type": "markdown",
   "metadata": {},
   "source": [
    "In this example, we are interested in computing the rate of convergence of  the $L^2(\\Omega)$-best approximation into the DG finite element space for the function \n",
    "$$\n",
    "u = r^{2/3} \\sin(2\\theta/3),\n",
    "$$\n",
    "expressed in polar coordinates on the L-shaped domain. As a first step, we want to visualize this function: it appears to have a fractional power behavior, similar to the previous 1D example, as one  moves to the origin along a ray of constant polar angle. Let us define the polar coordinates. "
   ]
  },
  {
   "cell_type": "code",
   "execution_count": null,
   "metadata": {},
   "outputs": [],
   "source": [
    "from ngsolve import x, y, sin, cos, atan2\n",
    "from math import pi \n",
    "\n",
    "mesh = ng.Mesh(geo.GenerateMesh(maxh=1/8))\n",
    "r = sqrt(x*x + y*y)\n",
    "theta = atan2(y, x)"
   ]
  },
  {
   "cell_type": "markdown",
   "metadata": {},
   "source": [
    "At this point, we should note that definining `u = r**(2/3) * nsin(2*theta/3)` *will not give the correct function!* You will see the problem when you plot `theta`."
   ]
  },
  {
   "cell_type": "code",
   "execution_count": null,
   "metadata": {},
   "outputs": [],
   "source": [
    "Draw(theta, mesh, 'theta'); "
   ]
  },
  {
   "cell_type": "markdown",
   "metadata": {},
   "source": [
    "As you can see, the branch cut in the definition of `atan2` creates an unwanted discontinuity in $\\theta$ right through our domain $\\Omega$. We want $\\theta$ to be a continuous function in $\\Omega$ because otherwise functions with fractional angle dependence, like  $\\sin(2 \\theta/3)$ would exhbit *spurious* discontinuities that should not exist, e.g., if you ask to `Draw(sin(2*theta/3), mesh)` you will see the problem in the output."
   ]
  },
  {
   "cell_type": "markdown",
   "metadata": {},
   "source": [
    "A simple solution is to rotate the coordinate system, take arctan, and then rotate the result back -- this  essentially puts the branch cut outside our domain's interior. Below, we implement this idea using  the rotation matrix\n",
    "$$\n",
    "\\begin{bmatrix}\n",
    "\\cos\\alpha & - \\sin\\alpha \\\\\n",
    "\\sin\\alpha & \\cos\\alpha\n",
    "\\end{bmatrix}\n",
    "$$\n",
    "with $\\alpha = -3\\pi/4$."
   ]
  },
  {
   "cell_type": "code",
   "execution_count": null,
   "metadata": {},
   "outputs": [],
   "source": [
    "alpha = -(pi/2 + pi/4)\n",
    "rotatedx = ng.cos(alpha) * x - ng.sin(alpha) * y\n",
    "rotatedy = ng.sin(alpha) * x + ng.cos(alpha) * y\n",
    "theta = ng.atan2(rotatedy, rotatedx) - alpha   \n",
    "Draw(theta, mesh, 'theta');"
   ]
  },
  {
   "cell_type": "markdown",
   "metadata": {},
   "source": [
    "With this revised `theta`, we can now visualize $u = r^{2/3}\\sin(2\\theta/3).$ Note that $u$ is smooth at all points away from the so-called **re-entrant corner**, the corner vertex at which the domain's edges subtend an  obtuse angle within the domain."
   ]
  },
  {
   "cell_type": "code",
   "execution_count": null,
   "metadata": {
    "scrolled": true
   },
   "outputs": [],
   "source": [
    "u = r**(2/3) * ng.sin(2*theta/3)\n",
    "Draw(u, mesh);"
   ]
  },
  {
   "cell_type": "markdown",
   "metadata": {},
   "source": [
    "To compute the best approximation rates, as before, we use a sequence of meshes obtained by successive uniform refinement."
   ]
  },
  {
   "cell_type": "code",
   "execution_count": null,
   "metadata": {},
   "outputs": [],
   "source": [
    "def ProjectOnSuccessiveRefinements2D(u, p=1, hcoarse=1, nrefinements=8):                                   \n",
    "    \"\"\"Project to f.e. spaces on a sequence of uniformly refined meshes.\"\"\"\n",
    "    \n",
    "    errors = []; \n",
    "    mesh = ng.Mesh(geo.GenerateMesh(maxh=hcoarse))    \n",
    "    for ref in range(nrefinements): \n",
    "        W = ng.L2(mesh, order=p)\n",
    "        Qu = ProjectL2(u, W)         \n",
    "        sqrerr = (Qu - u)**2      \n",
    "        errors.append(sqrt(ng.Integrate(sqrerr, mesh)))      \n",
    "        mesh.ngmesh.Refine()\n",
    "    return np.array(errors)"
   ]
  },
  {
   "cell_type": "code",
   "execution_count": null,
   "metadata": {},
   "outputs": [],
   "source": [
    "es = ProjectOnSuccessiveRefinements2D(u, p=1, nrefinements=8)\n",
    "TabulateRate('L2norm(Qu-u)', es)"
   ]
  },
  {
   "cell_type": "markdown",
   "metadata": {},
   "source": [
    "<div class=\"alert alert-info\">\n",
    "    <b><font color=red>Class Activity:</font></b>  \n",
    "  How does the above observed rate change as $p$ changes? \n",
    "</div>"
   ]
  },
  {
   "cell_type": "markdown",
   "metadata": {},
   "source": [
    "<div class=\"alert alert-info\">\n",
    "    <b><font color=red>Class Activity:</font></b>      Repeat the convergence rate study for the function \n",
    "  $$\n",
    "  u = r^2 \\sin(2\\theta/3).\n",
    "  $$\n",
    "  The higher power of $r$ makes it smoother than the previous case, so we expect faster rates. Report  how these rates change with the polynomial degree $p$.\n",
    "</div>"
   ]
  },
  {
   "cell_type": "markdown",
   "metadata": {},
   "source": [
    "<div class=\"alert alert-info\">\n",
    "    <b><font color=red>Exercise:</font></b>      \n",
    "  Let $u = r^{2/3} \\sin(2\\theta/3)$. Prove that  $\\Delta u = 0$ in the L-shaped domain $\\Omega$.  Prove that $u$ is infinitely differentiable at every interior point of  $\\Omega$.\n",
    "</div>"
   ]
  },
  {
   "cell_type": "markdown",
   "metadata": {},
   "source": [
    "<div class=\"alert alert-info\">\n",
    "    <b><font color=red>Exercise:</font></b>      \n",
    "  Demonstrate that $u = r^{2/3} \\sin(2\\theta/3)$ is square integrable on the L-shaped domain, has square-integrable first derivatives, but does not have square-integrable second partial derivatives.  \n",
    "</div>"
   ]
  },
  {
   "cell_type": "markdown",
   "metadata": {},
   "source": [
    "<div class=\"alert alert-info\">\n",
    "    <b><font color=red>Exercise:</font></b>      \n",
    "  Demonstrate that $u = r^{2} \\sin(2\\theta/3)$ is square integrable on the L-shaped domain, has square-integrable first and second derivatives, but does not have square-integrable third order derivatives.  \n",
    "</div>"
   ]
  },
  {
   "cell_type": "markdown",
   "metadata": {},
   "source": [
    "You can now speculate regarding the connection between square-integrability of derivatives in the last two exercises and the convergence rates you observed. Later, after we have seen the Bramble-Hilbert Lemma, such speculations can be made into rigorous results with clear sufficient conditions. "
   ]
  },
  {
   "cell_type": "markdown",
   "metadata": {},
   "source": [
    "\n",
    "\n",
    "<hr>\n",
    "    \n",
    "    \n",
    "$\\ll$ [Table Of Contents](./0_INDEX.ipynb) <br>\n",
    "$\\ll$ [Jay Gopalakrishnan](http://web.pdx.edu/~gjay/)\n",
    "\n",
    "    \n",
    "\n"
   ]
  }
 ],
 "metadata": {
  "kernelspec": {
   "display_name": "Python 3 (ipykernel)",
   "language": "python",
   "name": "python3"
  },
  "language_info": {
   "codemirror_mode": {
    "name": "ipython",
    "version": 3
   },
   "file_extension": ".py",
   "mimetype": "text/x-python",
   "name": "python",
   "nbconvert_exporter": "python",
   "pygments_lexer": "ipython3",
   "version": "3.11.6"
  },
  "latex_envs": {
   "LaTeX_envs_menu_present": true,
   "autoclose": true,
   "autocomplete": true,
   "bibliofile": "biblio.bib",
   "cite_by": "apalike",
   "current_citInitial": 1,
   "eqLabelWithNumbers": false,
   "eqNumInitial": 1,
   "hotkeys": {
    "equation": ""
   },
   "labels_anchors": false,
   "latex_user_defs": false,
   "report_style_numbering": false,
   "user_envs_cfg": false
  }
 },
 "nbformat": 4,
 "nbformat_minor": 4
}
