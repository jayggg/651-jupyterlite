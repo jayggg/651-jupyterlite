{
 "cells": [
  {
   "cell_type": "markdown",
   "metadata": {},
   "source": [
    "# Transverse fields in waveguides"
   ]
  },
  {
   "cell_type": "markdown",
   "metadata": {},
   "source": [
    "$\\newcommand{\\veps}{\\varepsilon}\n",
    "\\newcommand{\\og}{\\omega}\n",
    "\\newcommand{\\ii}{\\imath}\n",
    "\\newcommand{\\Jcl}{J_{\\pi/2}}\n",
    "\\renewcommand{\\d}{\\partial}\n",
    "\\DeclareMathOperator{\\rot}{rot}\n",
    "\\DeclareMathOperator{\\grad}{grad}\n",
    "\\DeclareMathOperator{\\curl}{curl}\n",
    "\\DeclareMathOperator{\\dive}{div}\n",
    "$\n",
    "\n",
    "Recall the Maxwell system for the time-harmonic electric ($E$) and magnetic ($H$) fields,\n",
    "\n",
    "\\begin{align}\n",
    "    -\\ii \\og \\mu H + \\curl E & = 0, \\\\\n",
    "    \\ii \\og \\veps E + \\curl H & = - \\sigma E - J^a.\n",
    "\\end{align}\n",
    "\n",
    "It represents six equations for the six unknown electric and magnetic field components.  The system is driven by  $J^a,$  the externally applied current, and we are given the frequency $\\og,$  the electric permittivity $\\veps$, the magnetic permeability $\\mu$, and the electric conductivity $\\sigma$.\n",
    "\n",
    "Consider electromagnetic propagation through a medium with translational symmetry in one direction. A typical example is an infinite waveguide or an optical fiber whose longitudinal axis represents the direction of its translational symmetry.\n",
    "\n",
    "In the presence of translational symmetry in a direction, the six-equation Maxwell system *decouples* into two systems, each of three equations,  known as the **TE (transverse electric)** and the **TM (transverse magnetic)** systems. In this activity, we derive the TE system for a lossy waveguide, its weak formulation and finite element approximation, and numerically  solve it."
   ]
  },
  {
   "cell_type": "markdown",
   "metadata": {},
   "source": [
    "## The decoupling"
   ]
  },
  {
   "cell_type": "markdown",
   "metadata": {},
   "source": [
    "The three-dimensional (3D) curl can be written in terms of the two-dimensional (2D) curl when there is  translational symmetry.   To do so, let  $e_x, e_y$ and $e_z$ denote the   coordinate unit vectors in $x, y$ and $z$ directions. \n",
    "Recall that the  **2D curl**  is obtained by composing divergence with a rotation -- we defined it in [a previous notebook](E_VectorBetti.ipynb) using the operator $\\Jcl$ that rotates vectors clockwise by 90 degrees as follows:\n",
    "$$\n",
    "\\curl u = \\dive (\\Jcl u) = \\d_x u_y - \\d_y u_x.\n",
    "$$\n",
    "We will also need the **2D rot** operator, which represents  *rotated 2D gradient* of a scalar-valued function $\\phi$, defined by  \n",
    "$$\n",
    "\\rot \\phi = \\Jcl (\\grad \\phi) =  \\begin{bmatrix}\n",
    "      \\d_y \\phi \\\\\n",
    "      -\\d_x \\phi\n",
    "    \\end{bmatrix}\n",
    "$$\n",
    "\n",
    "If a smooth 3D vector field $E = E_x e_x + E_y e_y + E_z e_z$ has  translational symmetry in $z$-direction (i.e., if $\\d_z E$ vanishes),   then the application of the 3D curl reduces to applications of the  2D curl and rot as follows:\n",
    "$$\n",
    "    \\curl E =\n",
    "    \\begin{bmatrix}\n",
    "      \\rot E_z  \\\\ \\curl E_{xy}\n",
    "    \\end{bmatrix}\n",
    "$$\n",
    "  where $E_{xy} = E_x e_x + E_y e_y$."
   ]
  },
  {
   "cell_type": "markdown",
   "metadata": {},
   "source": [
    "The above identity is all we need to witness the decoupling. Replacing every $\\curl$ in the 3D Maxwell system using this identity, simple calculations show the following."
   ]
  },
  {
   "cell_type": "markdown",
   "metadata": {},
   "source": [
    "\n",
    "<font color=blue>If the domain, $J^a, \\veps, \\sigma, \\mu$ all have translational  symmetry in the $z$-direction, then the six-equation 3D Maxwell  system    decouples into the three-equation **TM system**\n",
    "    \\begin{align}\n",
    "      -\\ii \\og \\mu H_{xy}  + \\rot E_z & = 0, \\\\\n",
    "      \\ii \\og (\\veps + \\frac{\\sigma}{\\ii\\og}) E_z + \\curl H_{xy} & = - J^a_z,\n",
    "    \\end{align}\n",
    "and the three-equation **TE system**\n",
    "      \\begin{align}\n",
    "        -\\ii \\og \\mu H_z  + \\curl E_{xy} & = 0, \\\\\n",
    "        \\ii \\og (\\veps + \\frac{\\sigma}{\\ii\\og}) E_{xy} + \\rot H_z & = - J^a_{xy}.\n",
    "      \\end{align}    \n",
    "</font>"
   ]
  },
  {
   "cell_type": "markdown",
   "metadata": {},
   "source": [
    "The first system is called the Transverse Magnetic (TM) system since it does not contain the longitudinal component of the magnetic field $H_z$, only the transverse magnetic components in $H_{xy}$.  Similarly, the second system is called the Transverse Electric (TE) system since it does not contain the longitudinal component of the electric field $E_z$. "
   ]
  },
  {
   "cell_type": "markdown",
   "metadata": {},
   "source": [
    "Eliminating $H_z$ from the last system, we obtain a system solely for the \n",
    "components of the electric field transverse to the direction of symmetry, namely $E_{xy}$ satisfies<font color=blue>\n",
    "$$\n",
    "\\rot\\mu^{-1} \\curl E_{xy} - (\\og^2\\veps - \\ii \\og\\sigma) E_{xy} = - \\ii \\og J_{xy}^a.\n",
    "$$</font>"
   ]
  },
  {
   "cell_type": "markdown",
   "metadata": {},
   "source": [
    "In the remainder we focus on computing the TE field $E_{xy}$ for a specific example. Henceforth we drop all the $xy$ subscripts. "
   ]
  },
  {
   "cell_type": "markdown",
   "metadata": {},
   "source": [
    "## An infinite cylindrical waveguide"
   ]
  },
  {
   "cell_type": "markdown",
   "metadata": {},
   "source": [
    "Consider an infinite cylindrical tube-shaped waveguide (such as an optical fiber) placed along the $z$ axis in 3D. The  configuration has translational symmetry in the $z$-direction. It has a circular cross section $\\Omega$ in the $xy$-plane, enclosing two layers of lossy dielectric materials with positive conductivity, and the entire cross section is enclosed by a perfect conductor. "
   ]
  },
  {
   "cell_type": "code",
   "execution_count": null,
   "metadata": {},
   "outputs": [],
   "source": [
    "import ngsolve as ng\n",
    "from ngsolve import curl, dx, x, y, CF\n",
    "from ngsolve.webgui import Draw\n",
    "from netgen.occ import Circle, Glue, OCCGeometry, X, Y\n",
    "\n",
    "r = 2; r0 = 1.5\n",
    "c = Circle((0,0), r).Face()\n",
    "c.edges[0].name='out'\n",
    "inner = Circle((0,0), r0).Face()\n",
    "outer = c - inner\n",
    "outer.faces.name = 'polymer'\n",
    "inner.faces.name = 'core'\n",
    "domain = Glue([inner, outer])\n",
    "g = OCCGeometry(domain, dim=2)\n",
    "mesh = ng.Mesh(g.GenerateMesh(maxh=0.1))\n",
    "Draw(domain);"
   ]
  },
  {
   "cell_type": "markdown",
   "metadata": {},
   "source": [
    "This class activity is to solve for the TE field in such a waveguide, given the following parameters:\n",
    "\n",
    "- Both layers of materials in the waveguide have the same dielectric properties except for differing conductivity.  Both $\\mu$ and $\\veps$ are constant functions. We may therefore multiply through the previous equation for the TE field by $\\mu$.\n",
    "\\begin{align}\n",
    "\\rot \\curl E_{xy} - (\\og^2\\veps\\mu - \\ii \\og\\mu\\sigma) E_{xy}\n",
    "& = - \\ii \\og\\mu J_{xy}^a, && \\text { in } \\Omega,\n",
    "\\end{align}\n",
    "where $\\Omega$ is a disk having a nondimensional radius of 2 units.  The material properties after nondimensionalization are given below. "
   ]
  },
  {
   "cell_type": "markdown",
   "metadata": {},
   "source": [
    "- Since the tube waveguide is enclosed by a perfect conductor, we may  use the perfect electric boundary condition on  $\\d\\Omega$. How will you express the  perfect electric boundary condition using the transverse field?\n",
    "\n",
    "- The boundary condition is \n",
    "\\begin{align}\n",
    "E_{xy} \\cdot t & = 0, && \\text { on } \\d\\Omega,\n",
    "\\end{align}\n",
    "where $t$ is a unit tangent to the boundary. This is an essential boundary condition, i.e., it is imposed in the finite element space. We incorporate it using the name we gave previously to the outer boundary:"
   ]
  },
  {
   "cell_type": "code",
   "execution_count": null,
   "metadata": {},
   "outputs": [],
   "source": [
    "X = ng.HCurl(mesh, order=4, type1=True, complex=True, dirichlet='out')"
   ]
  },
  {
   "cell_type": "markdown",
   "metadata": {},
   "source": [
    "- After nondimensionalization, we are given that the *wavenumber* $k^2 = \\og^2 \\veps \\mu$ is given by \n",
    "$$\n",
    "k = 15.\n",
    "$$"
   ]
  },
  {
   "cell_type": "code",
   "execution_count": null,
   "metadata": {},
   "outputs": [],
   "source": [
    "k = 15"
   ]
  },
  {
   "cell_type": "markdown",
   "metadata": {},
   "source": [
    "- The tube has a low-loss central region and a absorbing outer polymer layer. This is modeled by setting a piecewise constant function $$s = \\og\\sigma \\mu.$$\n",
    "\n",
    "- In this example,\n",
    "  $$\n",
    "s =  \\left\\{\n",
    "\\begin{aligned}\n",
    "& 0.1 && \\text{ if } r < 1.5 \\\\\n",
    "& 300 && \\text{ otherwise},\n",
    "\\end{aligned}\n",
    "\\right.\n",
    "$$\n",
    "where $r = \\sqrt{x^2 + y^2}$ is the radial distance in the transverse plane. Here is a plot of $s$:"
   ]
  },
  {
   "cell_type": "code",
   "execution_count": null,
   "metadata": {},
   "outputs": [],
   "source": [
    "s = mesh.MaterialCF({'core': 0.1, 'polymer': 300})\n",
    "Draw(s, mesh);"
   ]
  },
  {
   "cell_type": "markdown",
   "metadata": {},
   "source": [
    "- The source is a time-harmonic current pulse (with only transverse components), set centered in the waveguide so that \n",
    "$$\n",
    "f = -\\ii \\og J^a = 10 \\ii \\exp(-100( x^2 + y^2)) e_x.\n",
    "$$\n",
    "Here is a plot of the pulse:"
   ]
  },
  {
   "cell_type": "code",
   "execution_count": null,
   "metadata": {},
   "outputs": [],
   "source": [
    "f = 10j*ng.exp(-100*( x*x + y*y))\n",
    "pls = ng.CF((f, 0))\n",
    "Draw(f.imag, mesh, 'pulse');"
   ]
  },
  {
   "cell_type": "markdown",
   "metadata": {},
   "source": [
    "Let us compute a finite element approximation to the resulting TE field $E$."
   ]
  },
  {
   "cell_type": "markdown",
   "metadata": {},
   "source": [
    "## Weak form of the TE system"
   ]
  },
  {
   "cell_type": "markdown",
   "metadata": {},
   "source": [
    "Multiply the equation  $\\rot \\curl E_{xy} - (\\og^2\\veps\\mu - \\ii \\og\\mu\\sigma) E_{xy} = f$ by a test function $v$ and integrate by parts.  How will you integrate $\\rot$ by parts? \n",
    " \n"
   ]
  },
  {
   "cell_type": "markdown",
   "metadata": {},
   "source": [
    "We obtain the following weak formulation for the TE field $E$:\n",
    "$\\newcommand{\\Ho}{\\mathring{H}}\n",
    "\\newcommand{\\om}{\\Omega}$\n",
    "Find  $E_{xy} \\in \\Ho(\\curl, \\om)$ satisfying\n",
    "<font color=blue>\n",
    "$$ (\\curl E_{xy}, \\curl v) -  ((k^2 - \\ii s) E_{xy}, v) = (f, v)\n",
    "$$\n",
    "</font>\n",
    "for all  $v \\in \\Ho(\\curl, \\om).$ Here $(\\cdot, \\cdot)$ denotes the complex $L^2$ inner product.\n"
   ]
  },
  {
   "cell_type": "markdown",
   "metadata": {},
   "source": [
    "<div class=\"alert alert-info\">\n",
    "    <b><font color=red>Exercise I:</font></b>  \n",
    "  Prove that there is a unique solution to the above weak formulation by applying the complex Lax-Milgram theorem whenever $s>0$. Apply the Cea lemma and develop a finite element convergence theory for this example.\n",
    "</div>\n"
   ]
  },
  {
   "cell_type": "markdown",
   "metadata": {},
   "source": [
    "## Finite element solution"
   ]
  },
  {
   "cell_type": "markdown",
   "metadata": {},
   "source": [
    "The above weak form directly leads to a finite element method  using the $H(\\curl)$-conforming Nedelec elements, in much the same way as we have seen for other boundary values problems. Without much ado, we proceed with the simple code."
   ]
  },
  {
   "cell_type": "code",
   "execution_count": null,
   "metadata": {},
   "outputs": [],
   "source": [
    "u,v = X.TnT()\n",
    "a = ng.BilinearForm(X)\n",
    "a += (curl(u) * curl(v) - (k**2 - 1j*s) * u*v) * dx\n",
    "f = ng.LinearForm(X)\n",
    "f += pls * v * dx\n",
    "E = ng.GridFunction(X, name='TE field')\n",
    "\n",
    "with ng.TaskManager():\n",
    "    a.Assemble()\n",
    "    f.Assemble()\n",
    "    \n",
    "E.vec.data = a.mat.Inverse(X.FreeDofs()) * f.vec"
   ]
  },
  {
   "cell_type": "markdown",
   "metadata": {},
   "source": [
    "The computed $E$ is a complex vector field. The next plot shows the real part of the computed TE field (zoom in to see the directional arrows). "
   ]
  },
  {
   "cell_type": "code",
   "execution_count": null,
   "metadata": {},
   "outputs": [],
   "source": [
    "Draw(E.real, mesh, vectors={'grid_size': 100});"
   ]
  },
  {
   "cell_type": "markdown",
   "metadata": {},
   "source": [
    "We observe from this solution plot that  the TE field appears to decay after it enters the outer absorbing region of higher conductivity.  This is the effect of higher conductivity $\\sigma$ of the outer layer, which makes it lossy."
   ]
  },
  {
   "cell_type": "markdown",
   "metadata": {},
   "source": [
    "Recall that the physical electric field is (not complex, but) given by the real part of the complex time-harmonic field multiplied by $\\exp(-\\ii\\og t)$, i.e., the physical (real) TE field is\n",
    "$$\n",
    "\\mathcal{E}(x, y, t) = \\mathrm{Re}( E_{xy}(x, y) e^{-\\ii \\og t} ).\n",
    "$$\n",
    "\n",
    "You can get an idea of this harmonic time variation by asking ngsolve for a time-harmonic animation of the computed field. (Note that not everyone applies the time-harmonic ansatz with $e^{-\\ii \\og t}$, often it is used with  $e^{+\\ii \\og t}$.)"
   ]
  },
  {
   "cell_type": "code",
   "execution_count": null,
   "metadata": {},
   "outputs": [],
   "source": [
    "Draw(ng.Conj(E[0]), mesh,  animate_complex=True);"
   ]
  },
  {
   "cell_type": "markdown",
   "metadata": {},
   "source": [
    "Observe that the solution clearly displays a *wave* character in space. Of course, we expected wave character in time, due to the time-harmonic assumption, but the solution also shows wave character in space. Why does our TE system give solutions that are wavy in space, even when the source we provided was a pulse with no spatial wave character?  The next exercise may help in understanding this."
   ]
  },
  {
   "cell_type": "markdown",
   "metadata": {},
   "source": [
    "<div class=\"alert alert-info\">\n",
    "    <b><font color=red>Exercise II:</font></b>  \n",
    "  Suppose a 2D vector field $u = u_x e_x + u_y e_y$ solves \n",
    "  $$\\rot \\curl u - k^2 u = f$$ for some $f$ with $\\dive f =0$ and some constant wavenumber $k$. Show that each component of the vector field $U(x, y, t) = u(x, y) e^{-\\ii k t}$ solves the wave equation: $\\d_{tt} U - \\Delta U = f e^{-\\ii k t}$.\n",
    "</div>"
   ]
  },
  {
   "cell_type": "markdown",
   "metadata": {},
   "source": [
    "<div class=\"alert alert-info\">\n",
    "    <b><font color=red>Exercise III:</font></b>  \n",
    "  Consider a configuration of data and 3D domain that is rotationally symmetric about the $z$-axis and examine Maxwell solutions that satisfy $\\d_\\theta E = \\d_\\theta H = 0$, where $\\theta$ is the azimuthal angle in the cylindrical coordinate system. (The system need not have translational symmetry in the $z$-direction.)  For this case, prove an analogue of the decoupling shown in this notebook, formulating the analogues of TE and TM systems in cylindrical coordinates.\n",
    "</div>"
   ]
  },
  {
   "cell_type": "markdown",
   "metadata": {},
   "source": [
    "\n",
    "<hr>\n",
    "    \n",
    "    \n",
    "$\\ll$ [Table Of Contents](./0_INDEX.ipynb) <br>\n",
    "$\\ll$ [Jay Gopalakrishnan](http://web.pdx.edu/~gjay/)"
   ]
  }
 ],
 "metadata": {
  "kernelspec": {
   "display_name": "Python 3 (ipykernel)",
   "language": "python",
   "name": "python3"
  },
  "language_info": {
   "codemirror_mode": {
    "name": "ipython",
    "version": 3
   },
   "file_extension": ".py",
   "mimetype": "text/x-python",
   "name": "python",
   "nbconvert_exporter": "python",
   "pygments_lexer": "ipython3",
   "version": "3.11.6"
  },
  "name": "MaxwellCavity.ipynb"
 },
 "nbformat": 4,
 "nbformat_minor": 4
}
