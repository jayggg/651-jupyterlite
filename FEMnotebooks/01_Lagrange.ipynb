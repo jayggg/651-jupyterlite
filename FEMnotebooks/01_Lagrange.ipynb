{
 "cells": [
  {
   "cell_type": "markdown",
   "id": "5d75aa36-cf0a-4bcf-ac34-f1267db6f5f4",
   "metadata": {},
   "source": [
    "# Lagrange finite element space\n",
    "\n",
    "In this activity, we become familiar with a computational object that can represent elements of the simplest finite element space, called the Lagrange finite element space. These are *vector spaces of functions* on a spatial domain. We start from the case of a one-dimensional domain and proceed to  higher dimensions."
   ]
  },
  {
   "cell_type": "markdown",
   "id": "03c4d015-d18d-40a8-a5d8-12474c97588e",
   "metadata": {},
   "source": [
    "## 1D: Lowest order one-dimensional case \n",
    "\n",
    "Partition the interval $[0, 1]$ using a uniform mesh $\\{ x_i = i h: i=0, \\ldots, N \\}$ of $N+1$ points, where the mesh size is $h = 1/N$ and set  \n",
    "$$\n",
    "V_{h, 1} = \\{ v: \\; v \\text{ is continuous and }\n",
    "v|_{[x_i, x_{i+1}]} \\text { is linear }\\}.\n",
    "$$\n",
    "This vector space is called the **lowest order Lagrange finite element space** in the one-dimensional domain $[0,1]$. To work with functions in this space, we first make the mesh of points $x_i$."
   ]
  },
  {
   "cell_type": "code",
   "execution_count": null,
   "id": "235ab8ef-aa2f-46ec-a9b4-871b559291ec",
   "metadata": {},
   "outputs": [],
   "source": [
    "import ngsolve as ng\n",
    "from ngsolve.meshes import Make1DMesh"
   ]
  },
  {
   "cell_type": "code",
   "execution_count": null,
   "id": "4920ef13-e8d9-41e9-a1f0-5018f935534e",
   "metadata": {},
   "outputs": [],
   "source": [
    "N = 5   # the number of mesh elements\n",
    "mesh = Make1DMesh(5)"
   ]
  },
  {
   "cell_type": "markdown",
   "id": "080c3c4c-39ac-4e7b-a1ec-51360ff231ef",
   "metadata": {},
   "source": [
    "The resulting ngsolve mesh object `mesh` can be queried in many ways - type `help(mesh)` for the documentation. For example, you can double check it has the points you intended to set as the grid points:"
   ]
  },
  {
   "cell_type": "code",
   "execution_count": null,
   "id": "9f4f1978-05c7-4ced-adbc-6c9104f54ac9",
   "metadata": {},
   "outputs": [],
   "source": [
    "for x in mesh.vertices:\n",
    "    print(x.point)"
   ]
  },
  {
   "cell_type": "markdown",
   "id": "a17726ff-0547-4dd4-b6f1-a07aafd6b247",
   "metadata": {},
   "source": [
    "In higher dimensions, the printed tuple `x.point` will show more  coordinates. "
   ]
  },
  {
   "cell_type": "markdown",
   "id": "73e5e331-81e2-4c8b-bc23-952880f6898d",
   "metadata": {},
   "source": [
    "The next steps use functionalities that are common for any finite element space (be it in one, two, or three dimensions) implemented in NGSolve.   Let us make an ngsolve object representing the space $V_{h1}$ we introduced above."
   ]
  },
  {
   "cell_type": "code",
   "execution_count": null,
   "id": "92aca4a0-34dc-4ab2-b1ae-338ee2f1fb18",
   "metadata": {},
   "outputs": [],
   "source": [
    "Vh1 = ng.H1(mesh)"
   ]
  },
  {
   "cell_type": "markdown",
   "id": "c8e8ddd3-bedf-4a19-936d-6f53f99718f5",
   "metadata": {},
   "source": [
    "The syntax `H1` for the Lagrange space comes from the fact that Lagrange finite elements are used to approximate weak formulations in the Sobolev space $H^1$. (More about that later.)  Functions in this space are represented in ngsolve by  `GridFunction` objects. Let us see how a function in this space looks like."
   ]
  },
  {
   "cell_type": "code",
   "execution_count": null,
   "id": "affa415e-95cf-4110-9c8c-b05683ce2209",
   "metadata": {},
   "outputs": [],
   "source": [
    "v = ng.GridFunction(Vh1, 'myfun')"
   ]
  },
  {
   "cell_type": "markdown",
   "id": "702a8600-4fb1-442e-8e87-122b5d15f489",
   "metadata": {},
   "source": [
    "This is now an uninitialized function in $V_{h1}$. We can set the values of `v` in various ways. One way is to set the values of an underlying array of numbers in `v`. Another way is to interpolate a known function, which we see first."
   ]
  },
  {
   "cell_type": "markdown",
   "id": "8442fcbb-b165-4224-a183-157edaf0bde1",
   "metadata": {},
   "source": [
    "#### Interpolation \n",
    "\n",
    "Interpolation into a finite element space is accomplished using the `Set` method of a `GridFunction` object.  To help declare functions in terms of coordinates (just $x$ in 1D, $x, y, z$ in 3D etc), these coordinates are available as NGSolve `CoefficientFunction` objects. Let us import (the first and only coordinate in 1D) `x` to make up a function of $x$ and interpolate it into $V_{h1}$:"
   ]
  },
  {
   "cell_type": "code",
   "execution_count": null,
   "id": "bccb16dc-37fc-45c8-89e0-a78ea1daec98",
   "metadata": {},
   "outputs": [],
   "source": [
    "from ngsolve import x     \n",
    "\n",
    "v.Set(x * x)"
   ]
  },
  {
   "cell_type": "markdown",
   "id": "8640a294-d5a4-4187-82c6-51157dc243af",
   "metadata": {},
   "source": [
    "The `GridFunction` object `v` now has the interpolant of the function $f(x) = x^2$ into the piecewise linear space $V_{h1}$. \n",
    "To visualize `v`, we may use the common `matplotlib` python module as follows."
   ]
  },
  {
   "cell_type": "code",
   "execution_count": null,
   "id": "3fa4e279-2746-420e-97f0-8426edbbb3c9",
   "metadata": {},
   "outputs": [],
   "source": [
    "import matplotlib.pyplot as plt\n",
    "import numpy as np\n",
    "\n",
    "def plotv(v=v, sty='.-'):\n",
    "    pts = [vtx.point[0] for vtx in mesh.vertices]\n",
    "    plt.plot(pts, np.array(v.vec), sty)\n",
    "    plt.xlabel('x'); plt.ylabel('$v$');\n",
    "\n",
    "plotv()"
   ]
  },
  {
   "cell_type": "markdown",
   "id": "dd9e5f7c-8bf2-4596-968a-da75331d6144",
   "metadata": {},
   "source": [
    "Clearly, this is the expected continuous **piecewise linear approximation** of $x^2$ from the FE space $V_{h1}$."
   ]
  },
  {
   "cell_type": "markdown",
   "id": "5b2dfbeb-f44e-4281-9d33-a004d1afc715",
   "metadata": {},
   "source": [
    "#### Basis expansion"
   ]
  },
  {
   "cell_type": "markdown",
   "id": "55c1fb65-f415-4d75-9943-7c95e8cc970c",
   "metadata": {},
   "source": [
    "The functions $\\psi_i \\in V_{h1}$ with the property \n",
    "$$\n",
    "\\psi_i(x_j) = \\delta_{ij}\n",
    "$$\n",
    "at every mesh point $x_j$ are often called **hat functions**. Here $\\delta_{ij}$ denotes the Kronecker delta (equals 1 if $i=j$ and 0 otherwise). Note that although the statement $\\psi_i(x_j) = \\delta_{ij}$ only gives the values of $\\psi_i$ at the mesh vertices $x_j$, that is enough to determine the function $\\psi_i$ everywhere, since it is linear in between the mesh points. Here is a visualization of one of these hat functions."
   ]
  },
  {
   "cell_type": "code",
   "execution_count": null,
   "id": "49a92a36-daa1-46d2-9aa7-7113dc182904",
   "metadata": {},
   "outputs": [],
   "source": [
    "i = N//2\n",
    "v.vec[:] = 0\n",
    "v.vec[i] = 1\n",
    "plotv()"
   ]
  },
  {
   "cell_type": "markdown",
   "id": "f49255ff-66ab-4325-9990-1b2f7a327348",
   "metadata": {},
   "source": [
    "And similarly, here are all of the hat functions associated to every mesh vertex:"
   ]
  },
  {
   "cell_type": "code",
   "execution_count": null,
   "id": "6a4b8e43-5c3e-400f-8fbd-ddfe45105ebc",
   "metadata": {},
   "outputs": [],
   "source": [
    "for i in range(N+1):\n",
    "    v.vec[:] = 0\n",
    "    v.vec[i] = 1\n",
    "    plotv()\n",
    "plt.title('$\\psi_i(x)$ for each $i$');"
   ]
  },
  {
   "cell_type": "markdown",
   "id": "aa3c32c8-68f4-4231-a6ec-0875ec9dfad6",
   "metadata": {},
   "source": [
    "Notice how we made these hat functions using `v.vec`. To understand this,  it is essential to understand how functions in $V_{h1}$ are represented using a basis expansion. A critical observation is the following statement."
   ]
  },
  {
   "cell_type": "markdown",
   "id": "b4590740-0d0c-4f0d-880b-dd5771fd75e6",
   "metadata": {},
   "source": [
    "<div class=\"alert alert-info\">\n",
    "    <b><font color=red>Exercise:</font></b>  Prove that $\\{\\psi_i:  i=0, \\ldots, N\\}$ defined above is a basis for the space $V_{h1}$.\n",
    "</div>"
   ]
  },
  {
   "cell_type": "markdown",
   "id": "a26c5695-1a08-4e3e-949d-6b75fc3c40a2",
   "metadata": {},
   "source": [
    "In fact, when any $v \\in V_{h1}$ is expressed in term of finite element basis of hat functions $\\{\\psi_i\\}$, \n",
    "$$\n",
    "v(x) = \\sum_{i=0}^N v_i \\psi_i(x), \n",
    "$$\n",
    "the vector of coefficients $v_i$ in this basis expansion gives all information contained in `v`. This is precisely the vector we have been accessing and setting using the array `v.vec`. This is what allows functions to be represented using arrays of numbers.  "
   ]
  },
  {
   "cell_type": "markdown",
   "id": "46477a6f-48c6-4c87-8c8d-1164941de6b8",
   "metadata": {},
   "source": [
    "## 2D: Lagrange spaces of higher degrees"
   ]
  },
  {
   "cell_type": "markdown",
   "id": "b0b0315a-3f64-4391-b488-ba460fc8daa8",
   "metadata": {},
   "source": [
    "Consider the degree $p$ Lagrange finite element space \n",
    "$$\n",
    "V_{hp} = \\{ v: \\; v \\text{ is continuous and $v|_K$ is a polynomial of degree } \\le p \\text{ on each mesh element}\\}.\n",
    "$$\n",
    "We examine the basis functions in the degree $p=2$ case. As in the 1D case, we begin by making a mesh."
   ]
  },
  {
   "cell_type": "code",
   "execution_count": null,
   "id": "7032661f-99a6-4200-8ed6-2a6a0b103a70",
   "metadata": {},
   "outputs": [],
   "source": [
    "from netgen.occ import unit_square\n",
    "from ngsolve.webgui import Draw"
   ]
  },
  {
   "cell_type": "code",
   "execution_count": null,
   "id": "7e311ed0-b669-4e14-904f-b5febcb46ea3",
   "metadata": {},
   "outputs": [],
   "source": [
    "mesh = ng.Mesh(unit_square.GenerateMesh(maxh=0.4))\n",
    "Draw(mesh)"
   ]
  },
  {
   "cell_type": "code",
   "execution_count": null,
   "id": "928c08b5-e1a3-4e2b-8a10-ab4ce0c09e61",
   "metadata": {},
   "outputs": [],
   "source": [
    "Vh2 = ng.H1(mesh, order=2)  # order = p, the polynomial degree \n",
    "v = ng.GridFunction(Vh2)\n",
    "Vh2.ndof"
   ]
  },
  {
   "cell_type": "markdown",
   "id": "1ba02074-35eb-4b67-8bc6-1c1b64b5dcc1",
   "metadata": {},
   "source": [
    "The number of basis functions of this space is given by the `ndof` attribute (which stands for number of degrees of freedom)."
   ]
  },
  {
   "cell_type": "code",
   "execution_count": null,
   "id": "9fd12389-1430-4270-b640-43d468b76569",
   "metadata": {},
   "outputs": [],
   "source": [
    "v.vec[:] = 0 \n",
    "v.vec[15] = 1\n",
    "Draw(v);"
   ]
  },
  {
   "cell_type": "markdown",
   "id": "11cd2096-f23e-43b8-b08e-64e03d5fc66e",
   "metadata": {},
   "source": [
    "Open the controls and turn on deformation to see the appearance of a \"hat\" when this function is plotted as a three-dimensional graph. This is a \"2D hat function\" analogous to the 1D hat function we saw previously. \n",
    "\n",
    "\n",
    "Because we set $p=2$ using the `order=2` argument,  this space also has quadratic functions within elements. Here is a continuous piecewise quadratic basis function of a different \"shape\". Indeed such basis functions, including the hat functions, are all collectively called **shape functions** in the finite element literature."
   ]
  },
  {
   "cell_type": "code",
   "execution_count": null,
   "id": "8929710f-d8e1-463d-8c45-d6dc88cc41ca",
   "metadata": {},
   "outputs": [],
   "source": [
    "v.vec[:] = 0 \n",
    "v.vec[30] = 1\n",
    "Draw(v,\n",
    "     settings={\"Misc\": {\"subdivision\": 15, \"line_thickness\": 5, \"fast_draw\": True},\n",
    "               \"Colormap\":{\"autoscale\": True, \"ncolors\": 16}});"
   ]
  },
  {
   "cell_type": "markdown",
   "id": "1634bb83-2b52-4f12-97af-925b8e1a091b",
   "metadata": {},
   "source": [
    "*For discussion:*\n",
    "\n",
    "- How would you prove that the two shape functions shown above are linearly independent? What if their support overlaps?\n",
    "- How would you make a 3D Lagrange space? (Look up documentation in ngsolve.org if needed.)\n",
    "\n",
    "*Before next class:* \n",
    "- Please review [NGSolve i-Tutorial 1.2](https://ngsolve.org/docu/latest/i-tutorials/unit-1.2-coefficient/coefficientfunction.html) to learn more about `CoefficientFunction` objects and ask questions if any."
   ]
  },
  {
   "cell_type": "markdown",
   "id": "39b23569-f04c-406d-8e0b-121d9f09154a",
   "metadata": {},
   "source": [
    "\n",
    "<hr>\n",
    "        \n",
    "$\\ll$ [Table Of Contents](./00_INDEX.ipynb) <br>\n",
    "$\\ll$ [Jay Gopalakrishnan](http://web.pdx.edu/~gjay/)\n",
    "\n",
    "   "
   ]
  }
 ],
 "metadata": {
  "kernelspec": {
   "display_name": "Python 3 (ipykernel)",
   "language": "python",
   "name": "python3"
  },
  "language_info": {
   "codemirror_mode": {
    "name": "ipython",
    "version": 3
   },
   "file_extension": ".py",
   "mimetype": "text/x-python",
   "name": "python",
   "nbconvert_exporter": "python",
   "pygments_lexer": "ipython3",
   "version": "3.11.2"
  }
 },
 "nbformat": 4,
 "nbformat_minor": 5
}
