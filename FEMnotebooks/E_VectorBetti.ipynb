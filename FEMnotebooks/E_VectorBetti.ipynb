{
 "cells": [
  {
   "cell_type": "markdown",
   "id": "4d2b92db",
   "metadata": {},
   "source": [
    "# Vector elements & Betti numbers"
   ]
  },
  {
   "cell_type": "markdown",
   "id": "dd3a1c4f",
   "metadata": {},
   "source": [
    "We have already seen the Lagrange and the DG finite element spaces. They are both spaces of *scalar*-valued functions. How can we approximate solutions of boundary value problems that are *vector fields*?\n",
    "\n",
    "We could certainly use a Cartesian product of  scalar finite element spaces to approximate a vector field component by component. However, distinctly better methods can often be constructed using other vector finite element spaces, such as the *Raviart-Thomas* space or the *Nedelec* space, both spaces of vector fields we shall see in this notebook.\n",
    "\n",
    "We will expand on their utility in certain  boundary value problems in later lectures. For now, the goal is to introduce you to computing with them and to show you that there might be more than just utilitarian reasons for studying these finite elements. They are connected through rich and beautiful discrete structures. As a prelude to such things, we will see in this notebook how a topological invariant emerges when considering curl as an operator from the Nedelec space in two space dimensions."
   ]
  },
  {
   "cell_type": "markdown",
   "id": "cc1eb500",
   "metadata": {},
   "source": [
    "## The Raviart-Thomas space"
   ]
  },
  {
   "cell_type": "markdown",
   "id": "3635cd43",
   "metadata": {},
   "source": [
    "$\\newcommand{\\om}{\\varOmega}\n",
    "\\newcommand{\\oh}{\\varOmega_h}\n",
    "\\newcommand{\\dive}{\\mathop{\\mathrm{div}}}\n",
    "\\newcommand{\\R}{\\mathbb{R}}\n",
    "$\n",
    "The Raviart-Thomas (RT) finite element space in two space dimensions is defined by \n",
    "$$\n",
    "R_{h, p} =\n",
    "\\left\\{\n",
    "q\\in H(\\dive, \\om) : \\; \\text{ for all elements } K \\in \\oh, \\quad  q|_K \\in P_p(K)^2 + \\begin{pmatrix} x \\\\ y \\end{pmatrix} P_p(K) \\; \\right\\}\n",
    "$$\n",
    "for any $p \\ge 0$. Here $P_p(K)$ denote the set of polynomials of degree at most $p$.\n",
    "The distributional divergence of a piecewise smooth vector field was calculated in an earlier lecture, from which it follows that vector fields $q$ in  $R_{h, p}$ satisfy \n",
    "&LeftDoubleBracket; $q\\cdot n$ &RightDoubleBracket; $=0$, i.e., the jump of the normal component of $q$ across element interfaces vanishes. Therefore, plots of any function in the RT space should show a *continuously varying normal component* across the interior mesh facets."
   ]
  },
  {
   "cell_type": "markdown",
   "id": "a4c9c359",
   "metadata": {},
   "source": [
    "The continuity of the normal component is a useful property to have when we know that the  function being approximated has that same normal continuity property. Often, when $q: \\om \\to \\R^2$ is a vector field representing a physical *flux*, its normal component remains smooth across a material interface even when its other components jump across the interface."
   ]
  },
  {
   "cell_type": "markdown",
   "id": "86a6e6b6",
   "metadata": {},
   "source": [
    "#### Interpolation\n",
    "\n",
    "As an example, consider approximating the following vector field  using the RT space:  \n",
    "$$\n",
    "q = \n",
    "\\left\\{\n",
    "\\begin{aligned}\n",
    "& (\\sin(x), y),  && x \\le 1/2,\n",
    "\\\\\n",
    "& (\\sin(x), 1-y), && x > 1/2.\n",
    "\\end{aligned}\n",
    "\\right.\n",
    "$$\n",
    "Across the interface $x=1/2$, its normal component (the $x$-component in this case) is continuous, while its tangential component is discontinuous. Let's plot $q$ after making subdomains split across the $x=1/2$ line. "
   ]
  },
  {
   "cell_type": "code",
   "execution_count": null,
   "id": "9cb91f34-9d6f-4b43-bbf3-a4feb7c3561a",
   "metadata": {},
   "outputs": [],
   "source": [
    "import ngsolve as ng\n",
    "import numpy as np\n",
    "from ngsolve.webgui import Draw\n",
    "from netgen.occ import OCCGeometry ,WorkPlane, Rectangle, Glue\n",
    "from ngsolve import x, y, sin, cos, GridFunction, div\n",
    "\n",
    "# Make left and right subdomains\n",
    "wp = WorkPlane()\n",
    "lft = wp.Rectangle(1/2, 1).Face()\n",
    "rgt = wp.MoveTo(1/2,0).Rectangle(1/2, 1).Face()\n",
    "lft.faces.name = 'lft'\n",
    "rgt.faces.name = 'rgt'\n",
    "geo = Glue([lft,rgt])\n",
    "Draw(geo)\n",
    "mesh = ng.Mesh(OCCGeometry(geo, dim=2).GenerateMesh(maxh=1/4))"
   ]
  },
  {
   "cell_type": "code",
   "execution_count": null,
   "id": "407439b8-fbd9-4368-8daa-20394077a02d",
   "metadata": {},
   "outputs": [],
   "source": [
    "# Define q piecewise on the left and right subdomains\n",
    "q = mesh.MaterialCF({'lft': (sin(x), y),\n",
    "                     'rgt': (sin(x), 1-y)})"
   ]
  },
  {
   "cell_type": "markdown",
   "id": "519589af",
   "metadata": {},
   "source": [
    "The normal component (which is the $x$ component in this case) of $q$ is smooth:"
   ]
  },
  {
   "cell_type": "code",
   "execution_count": null,
   "id": "c704fe44",
   "metadata": {},
   "outputs": [],
   "source": [
    "Draw(q[0], mesh);"
   ]
  },
  {
   "cell_type": "markdown",
   "id": "4b5f075e",
   "metadata": {},
   "source": [
    "The tangential component of $q$ is discontinuous across the middle interface."
   ]
  },
  {
   "cell_type": "code",
   "execution_count": null,
   "id": "ef56975d",
   "metadata": {},
   "outputs": [],
   "source": [
    "Draw(q[1], mesh);"
   ]
  },
  {
   "cell_type": "markdown",
   "id": "220b67a3",
   "metadata": {},
   "source": [
    "We can also plot $q$ as a vector field."
   ]
  },
  {
   "cell_type": "code",
   "execution_count": null,
   "id": "534b46a3",
   "metadata": {},
   "outputs": [],
   "source": [
    "Draw(q, mesh, vectors={'grid_size': 15});"
   ]
  },
  {
   "cell_type": "markdown",
   "id": "91bdbafb",
   "metadata": {},
   "source": [
    "If we try to interpolate such a function using a product of Lagrange spaces, then the discontinuity at the interface will generate large interpolation errors. Instead, knowing that the normal component is continuous, we can try to interpolate the function into the RT space.  This will liberate the tangential component of the approximation from continuity constraints, while preserving the normal continuity.\n",
    "\n",
    "\n",
    "The implementation of the RT space $R_{h, p}$ in NGSolve is accessed using `ng.HDiv`. The `Set` method, as in other finite element spaces in NGSolve, can be used to perform the interpolation. "
   ]
  },
  {
   "cell_type": "code",
   "execution_count": null,
   "id": "ea11826b",
   "metadata": {},
   "outputs": [],
   "source": [
    "p = 5   # This corresponds to the p in the RT definition above.\n",
    "R = ng.HDiv(mesh, order=p, RT=True)"
   ]
  },
  {
   "cell_type": "code",
   "execution_count": null,
   "id": "48b998c9",
   "metadata": {},
   "outputs": [],
   "source": [
    "qh = GridFunction(R)\n",
    "qh.Set(q)\n",
    "print('Error in RT interpolation =', \n",
    "      ng.sqrt(ng.Integrate((q - qh)**2, mesh)))"
   ]
  },
  {
   "cell_type": "markdown",
   "id": "a186bb74",
   "metadata": {},
   "source": [
    "Compare this to what happens when we interpolate the same function in the product of two Lagrange finite element spaces."
   ]
  },
  {
   "cell_type": "code",
   "execution_count": null,
   "id": "f96e0972-b98d-496a-9321-c675aa263141",
   "metadata": {},
   "outputs": [],
   "source": [
    "V2 = ng.VectorH1(mesh, order=p)  # Cartesian product of Lagrange spaces\n",
    "qq = GridFunction(V2)\n",
    "qq.Set(q)\n",
    "print('Error in product Lagrange space interpolation =', \n",
    "      ng.sqrt(ng.Integrate((q - qq)**2, mesh)))"
   ]
  },
  {
   "cell_type": "markdown",
   "id": "cf8c746e",
   "metadata": {},
   "source": [
    "Clearly the error in the product space approach is several orders higher than that of the error produced by the RT space. The source of the large error while interpolating using  `ng.VectorH1` is immediately evident if you plot the $y$-component of the interpolant `qq` or the error.  The interpolant, being continuous in both components, has a difficult time approximating the discontinuous component."
   ]
  },
  {
   "cell_type": "code",
   "execution_count": null,
   "id": "848bca3b",
   "metadata": {},
   "outputs": [],
   "source": [
    "Draw(qq - q, mesh, 'Lagrange interpolation error', vectors={'grid_size': 25});"
   ]
  },
  {
   "cell_type": "markdown",
   "id": "bc5354e5",
   "metadata": {},
   "source": [
    "#### Shape functions\n",
    "\n",
    "It is illustrative to visualize the basis functions of the RT space. We had gotten used to speaking of \"hat functions\" but that term is not useful for general finite elements. Basis functions generated from degrees of freedom of any abstract finite element spaces are called *shape functions*. Here is a visualization of a shape function of the *lowest order RT space* (the $p=0$ case)."
   ]
  },
  {
   "cell_type": "code",
   "execution_count": null,
   "id": "6b23d41d",
   "metadata": {},
   "outputs": [],
   "source": [
    "R = ng.HDiv(mesh, order=0, RT=True)\n",
    "\n",
    "shapenumber = 15\n",
    "shape = ng.GridFunction(R, name='shape')\n",
    "shape.vec[:] = 0\n",
    "shape.vec[shapenumber] = 1\n",
    "Draw(shape, mesh, vectors={'grid_size': 20});"
   ]
  },
  {
   "cell_type": "markdown",
   "id": "6499b053",
   "metadata": {},
   "source": [
    "You can see any shape function you wish by revising the `shapenumber` in the code above. In all cases, you see that\n",
    "- the shape functions are vector fields whose normal components are continuous, \n",
    "- they are supported on a patch of one or two elements, \n",
    "- their normal component is zero on all mesh facets except one.\n",
    "\n",
    "\n",
    "Thus in the lowest order case, each shape function is associated to a single mesh facet (an edge,  in our 2D mesh). If this edge is on the domain boundary, the  shape function is supported on one triangle. If the edge is an interior edge, the  shape function is supported on the two triangles which share the interior edge.\n",
    "\n",
    "One can also directly see the connection between the number of mesh facets and the dimension of the lowest order RT space by querying both numbers:"
   ]
  },
  {
   "cell_type": "code",
   "execution_count": null,
   "id": "5bbd8d89",
   "metadata": {},
   "outputs": [],
   "source": [
    "mesh.nfacet"
   ]
  },
  {
   "cell_type": "code",
   "execution_count": null,
   "id": "746b3dc4",
   "metadata": {},
   "outputs": [],
   "source": [
    "R.ndof"
   ]
  },
  {
   "cell_type": "markdown",
   "id": "7398f6ac",
   "metadata": {},
   "source": [
    "Of course, for higher $p$, a number of additional shape functions must be added. You can easily visualize the higher order shape functions by tweaking the above few lines of code."
   ]
  },
  {
   "cell_type": "markdown",
   "id": "dc0d4f36-9be0-4cde-ac49-1acea1fb439f",
   "metadata": {},
   "source": [
    "#### Convergence of divergence"
   ]
  },
  {
   "cell_type": "markdown",
   "id": "0d982bd5-9ffb-4b7a-a4df-72933aab353e",
   "metadata": {},
   "source": [
    "Ordinarily, when a piecewise polynomial approximation $q_h$ to a function $q$ converges at a rate $O(h^k)$, we expect its derivatives to converge at a lower rate.\n",
    "\n",
    "However,  somewhat miraculously, if the approximation $q_h$ is in the RT space, then $\\dive(q_h - q)$ converges at the same rate as $q_h - q$.  \n",
    "\n",
    "Please verify this yourself!"
   ]
  },
  {
   "cell_type": "markdown",
   "id": "13a9afd0-cc8e-476a-aebf-a50129d15228",
   "metadata": {},
   "source": [
    "<div class=\"alert alert-info\">\n",
    "    <b><font color=red>Class Activity:</font></b>     \n",
    "  Compute the $L^2$ norms of the interpolation errors and their divergences, for the case of the lowest order RT space $(p=0)$ and reproduce the above convergence rates.  (Start by computing the divergence of the previously given discontinuous vector field $q$.)\n",
    "</div>"
   ]
  },
  {
   "cell_type": "markdown",
   "id": "00de0eb5-ad8e-47ff-a17c-7cf5222a88a9",
   "metadata": {},
   "source": [
    "In a later lecture we will prove this superconvergence property of the divergence of the interpolation error when using the RT space. "
   ]
  },
  {
   "cell_type": "markdown",
   "id": "34217333",
   "metadata": {},
   "source": [
    "## The 2D Nedelec finite element space"
   ]
  },
  {
   "cell_type": "markdown",
   "id": "b4e6ce64",
   "metadata": {},
   "source": [
    "Consider the curl operator in two space dimensions, acting on a vector field $u: \\om \\to \\R^2$, \n",
    "$$\n",
    "\\newcommand{\\curl}{\\mathop{\\mathrm{curl}}}\n",
    "\\curl u = \\partial_0 u_1  - \\partial_1 u_0.\n",
    "$$\n",
    "You have  worked with $\\curl$ as an operator acting on three-dimensional (3D) vector fields. The above two-dimensional (2D) version is the obtained as the $z$-component of the 3D curl when applied to a vector field that has only $x$ and $y$ components with no $z$ dependence. It takes a 2D vector field $u$ and produces a scalar field $\\curl u$.\n",
    "\n",
    "The 2D curl is intimately related to the 2D divergence. To see this, let $J_{\\pi/2}$ denote the operator that rotates a vector clockwise by 90 degrees, i.e., \n",
    "$$\n",
    "J_{\\pi/2} \n",
    "\\begin{pmatrix}\n",
    "a \\\\ b\n",
    "\\end{pmatrix} = \n",
    "\\begin{pmatrix}\n",
    "b \\\\ -a\n",
    "\\end{pmatrix}.\n",
    "$$\n",
    "Now, if two vector fields $u$ and $q$ are related by  \n",
    "$$\n",
    "u = J_{\\pi/2} q \n",
    "$$\n",
    "then obviously \n",
    "$$\n",
    "\\dive q =  \\curl u.\n",
    "$$"
   ]
  },
  {
   "cell_type": "markdown",
   "id": "2f1b885e",
   "metadata": {},
   "source": [
    "Moreover, if $t$ denotes the counterclockwise unit tangent vector on element boundaries, then it is related to the unit outward normal $n$ at the same boundary point by \n",
    "$$\n",
    "J_{\\pi/2} n = t.\n",
    "$$\n",
    "Hence \n",
    "$$\n",
    "u\\cdot t = q \\cdot n.\n",
    "$$\n",
    "Thus the condition that   &LeftDoubleBracket; $q\\cdot n$ &RightDoubleBracket; $= 0$\n",
    "is equivalent to the condition that the *jump of the tangential component* of $u$ vanish, \n",
    "&LeftDoubleBracket; $u\\cdot t$ &RightDoubleBracket; $= 0.$\n"
   ]
  },
  {
   "cell_type": "markdown",
   "id": "48e4d63c",
   "metadata": {},
   "source": [
    "We define the  Nedelec space in two dimensions as the RT space rotated:\n",
    "$$\n",
    "N_{h, p} := J_{\\pi/2} R_{h,p}.  \n",
    "$$\n",
    " It consists of piecewise polynomial vector fields that are tangentially continuous. Applying the rotation operator $J_{\\pi/2}$ to the polynomial functions in our previous definition of $R_{h, p}$, we also find that $N_{h, p}$ can be equivalently described  by \n",
    "$$\n",
    "N_{h, p} = \n",
    "\\left\\{\n",
    "u\\in H(\\curl, \\om) : \\;\\text{ for all elements }  K \\in \\oh, \\quad \n",
    "u|_K \\in P_p(K)^2 + \\begin{pmatrix} -y \\\\ x \\end{pmatrix} P_p(K) \\; \\right\\}.\n",
    "$$\n"
   ]
  },
  {
   "cell_type": "markdown",
   "id": "f31e0e8e-7d18-4add-9bad-5e0391397890",
   "metadata": {},
   "source": [
    "By our prior discussion relating the 2D curl and div, we also conclude that $N_{h, p} \\subset H(\\curl, \\om)$ since $R_{h,p} \\subset H(\\div, \\om)$.    Note that this rotational isomorphism between $H(\\dive, \\om)$ and $H(\\curl, \\om)$ does not hold in 3D. The Nedelec space in 3D is a truly different space, not isomorphic to the 3D RT space. Postponing the 3D case for later discussions, let us proceed with the 2D case. NGSolve provides an implementation of the Nedelec space accessible through `HCurl` as follows."
   ]
  },
  {
   "cell_type": "code",
   "execution_count": null,
   "id": "71854c3c",
   "metadata": {},
   "outputs": [],
   "source": [
    "N = ng.HCurl(mesh, order=0, type1=True)"
   ]
  },
  {
   "cell_type": "code",
   "execution_count": null,
   "id": "22c7972f",
   "metadata": {},
   "outputs": [],
   "source": [
    "shapenumber = 15\n",
    "shape = GridFunction(N, name='shape')\n",
    "shape.vec[:] = 0\n",
    "shape.vec[shapenumber] = 1\n",
    "Draw(shape, mesh, vectors={'grid_size': 30});"
   ]
  },
  {
   "cell_type": "markdown",
   "id": "339cb7f7",
   "metadata": {},
   "source": [
    "As you can see, this shape function visually appears to be exactly the same shape function plotted earlier for the RT case, except for a rotation by 90 degrees.  Note how the tangential component of the shape function varies continuously across the edges. Just as the RT space was useful for interpolating vector fields with normal continuity, the Nedelec space is useful for interpolating vector fields with tangential continuity. "
   ]
  },
  {
   "cell_type": "markdown",
   "id": "8fae970b-7800-4b60-bd65-8a7e1565c6c6",
   "metadata": {},
   "source": [
    "The Nedelec finite element is sometimes called the **edge finite element** in some engineering literature. Interestingly, the shape functions of the RT and the Nedelec element were known in other mathematical context (they appeared in a 1957 book by Whitney) long before these elements were known. In recognition of this, mathematicians sometimes refer to these shape functions as **Whitney forms**. Here is a formula for the shape functions (of the lowest order Nedelec space) that you just saw in the above visualization:"
   ]
  },
  {
   "cell_type": "markdown",
   "id": "5c094acd-639d-41e0-96c8-54033c44b3ae",
   "metadata": {},
   "source": [
    "<div class=\"alert alert-info\">\n",
    "    <b><font color=red>Exercise I:</font></b>     \n",
    "  Consider an edge $e_{ij}$ between adjacent mesh vertices $a_i , a_j$ of a triangular mesh. Let  $\\lambda_i$ denote the barycentric coordinate function associated to the vertex $a_i$. Show that the function\n",
    "\n",
    "$$\\newcommand{\\grad}{\\mathop{\\mathrm{grad}}}\n",
    "    \\phi_{ij} = \\lambda_j \\grad \\lambda_i - \\lambda_i \\grad \\lambda_j \n",
    "$$\n",
    "\n",
    "has zero tangential components on all mesh edges except $e_{ij}$,  where it equals $ \\phi_{ij} \\cdot t_{ij} = 1/ |e_{ij}|$. Here  $|e_{ij}|$ is the length of $e_{ij}$ and  $t_{ij} = (a_i - a_j)/ |e_{ij}|$.\n",
    "</div>"
   ]
  },
  {
   "cell_type": "markdown",
   "id": "99c5ce25",
   "metadata": {},
   "source": [
    "## Range of the 2D curl "
   ]
  },
  {
   "cell_type": "markdown",
   "id": "a7f1ed2e",
   "metadata": {},
   "source": [
    "Application of the 2D curl operator to a function in the Nedelec space $N_{h, p}$ results in a function with no continuity restrictions across element interfaces in general. Since the application of curl also reduces the polynomial degree within each element, the result is a piecewise polynomial of degree not more than $p$, i.e., a function in the DG space $P_p(\\oh)$. Thus, we may view $\\curl$ as an operator from the Nedelec space to the DG space, \n",
    "$$\n",
    "\\curl : N_{h, p}  \\to P_{p}(\\oh).\n",
    "$$\n",
    "*How much of the DG space is filled with the range of $\\curl$?*"
   ]
  },
  {
   "cell_type": "markdown",
   "id": "c9accfac",
   "metadata": {},
   "source": [
    "To answer this,  we will need to understand the range of the above map. Since $\\curl$ may act on smooth function spaces or on finite element spaces like  $N_{h, p}$, it is a good idea to disambiguate the specific domain we consider.  So we will write \n",
    "$\n",
    "\\text{`` }\\curl: N_{h,p}  \\text{ ''}\n",
    "$\n",
    "to indicate the $\\curl$ when it's viewed as an operator acting (only) on $N_{h, p}$ functions. We now proceed to compute the dimension of its range, i.e., the number \n",
    "$$\\newcommand{\\rank}{\\mathop{\\mathrm{rank}}}\n",
    "\\rank(\\curl: N_{h, p}).\n",
    "$$\n",
    "To do so, we will need a representation of the operator $\\curl: N_{h,p}$  as a matrix obtained using the basis functions of $N_{h,p}$ and $P_{p-1}(\\oh)$. Of course, we will also need a domain and a mesh.\n",
    "\n",
    "\n",
    "TO BE CONTINUED"
   ]
  },
  {
   "cell_type": "markdown",
   "id": "25321b1e",
   "metadata": {},
   "source": [
    "\n",
    "\n",
    "<hr>\n",
    "    \n",
    "    \n",
    "$\\ll$ [Table Of Contents](./INDEX.ipynb)\n",
    "<br>\n",
    "$\\ll$ [Jay Gopalakrishnan](http://web.pdx.edu/~gjay/)\n",
    "\n",
    "    \n",
    "\n"
   ]
  }
 ],
 "metadata": {
  "kernelspec": {
   "display_name": "Python 3 (ipykernel)",
   "language": "python",
   "name": "python3"
  },
  "language_info": {
   "codemirror_mode": {
    "name": "ipython",
    "version": 3
   },
   "file_extension": ".py",
   "mimetype": "text/x-python",
   "name": "python",
   "nbconvert_exporter": "python",
   "pygments_lexer": "ipython3",
   "version": "3.11.6"
  }
 },
 "nbformat": 4,
 "nbformat_minor": 5
}
