{
 "cells": [
  {
   "cell_type": "markdown",
   "id": "4d2b92db",
   "metadata": {},
   "source": [
    "# Vector elements & Betti numbers"
   ]
  },
  {
   "cell_type": "markdown",
   "id": "dd3a1c4f",
   "metadata": {},
   "source": [
    "We have already seen the Lagrange and the DG finite element spaces. They are both spaces of *scalar*-valued functions. How can we approximate solutions of boundary value problems that are *vector fields*?\n",
    "\n",
    "We could certainly use a Cartesian product of  scalar finite element spaces to approximate a vector field component by component. However, distinctly better methods can often be constructed using other vector finite element spaces, such as the *Raviart-Thomas* space or the *Nedelec* space, both spaces of vector fields we shall see in this notebook.\n",
    "\n",
    "We will expand on their utility in certain  boundary value problems in later lectures. For now, the goal is to introduce you to computing with them and to show you that there might be more than just utilitarian reasons for studying these finite elements. They are connected through rich and beautiful discrete structures. As a prelude to such things, we will see in this notebook how a topological invariant emerges when considering curl as an operator from the Nedelec space in two space dimensions."
   ]
  },
  {
   "cell_type": "markdown",
   "id": "cc1eb500",
   "metadata": {},
   "source": [
    "## The Raviart-Thomas space"
   ]
  },
  {
   "cell_type": "markdown",
   "id": "3635cd43",
   "metadata": {},
   "source": [
    "$\\newcommand{\\om}{\\varOmega}\n",
    "\\newcommand{\\oh}{\\varOmega_h}\n",
    "\\newcommand{\\dive}{\\mathop{\\mathrm{div}}}\n",
    "\\renewcommand{\\div}{\\mathop{\\mathrm{div}}}\n",
    "\\newcommand{\\grad}{\\mathop{\\mathrm{grad}}}\n",
    "\\newcommand{\\R}{\\mathbb{R}}\n",
    "$\n",
    "The Raviart-Thomas (RT) finite element space on a two-dimensional mesh $\\oh$ (of a domain $\\om$) is defined by \n",
    "$$\n",
    "R_{h, p} =\n",
    "\\left\\{\n",
    "q\\in H(\\dive, \\om) : \\; \\text{ for all elements } K \\in \\oh, \\quad  q|_K \\in P_p(K)^2 + \\begin{pmatrix} x \\\\ y \\end{pmatrix} P_p(K) \\; \\right\\}\n",
    "$$\n",
    "for any $p \\ge 0$. Here $P_p(K)$ denote the set of polynomials of degree at most $p$.\n",
    "The distributional divergence of a piecewise smooth vector field was calculated in an earlier lecture, from which it follows that vector fields $q$ in  $R_{h, p}$ satisfy \n",
    "&LeftDoubleBracket; $q\\cdot n$ &RightDoubleBracket; $=0$, i.e., the jump of the normal component of $q$ across element interfaces vanishes. Therefore, plots of any function in the RT space should show a *continuously varying normal component* across the interior mesh facets."
   ]
  },
  {
   "cell_type": "markdown",
   "id": "a4c9c359",
   "metadata": {},
   "source": [
    "The continuity of the normal component is a useful property to have when we know that the  function being approximated has that same normal continuity property. Often, when $q: \\om \\to \\R^2$ is a vector field representing a physical *flux*, its normal component remains smooth across a material interface even when its other components jump across the interface."
   ]
  },
  {
   "cell_type": "markdown",
   "id": "86a6e6b6",
   "metadata": {},
   "source": [
    "#### Approximation\n",
    "\n",
    "As an example, consider approximating the following vector field  using the RT space:  \n",
    "$$\n",
    "q = \n",
    "\\left\\{\n",
    "\\begin{aligned}\n",
    "& (\\sin(x), y),  && x \\le 1/2,\n",
    "\\\\\n",
    "& (\\sin(x), 1-y), && x > 1/2.\n",
    "\\end{aligned}\n",
    "\\right.\n",
    "$$\n",
    "Across the interface $x=1/2$, its normal component (the $x$-component in this case) is continuous, while its tangential component is discontinuous. Let's plot $q$ after making two subdomains to the left and right of the $x=1/2$ line. "
   ]
  },
  {
   "cell_type": "code",
   "execution_count": null,
   "id": "9cb91f34-9d6f-4b43-bbf3-a4feb7c3561a",
   "metadata": {},
   "outputs": [],
   "source": [
    "import ngsolve as ng\n",
    "import numpy as np\n",
    "from ngsolve.webgui import Draw\n",
    "from netgen.occ import OCCGeometry ,WorkPlane, Rectangle, Glue\n",
    "from ngsolve import x, y, sin, cos, GridFunction, div, curl\n",
    "\n",
    "wp = WorkPlane()  # Make left and right subdomains\n",
    "lft = wp.Rectangle(1/2, 1).Face()\n",
    "rgt = wp.MoveTo(1/2,0).Rectangle(1/2, 1).Face()\n",
    "lft.faces.name = 'lft'; rgt.faces.name = 'rgt'\n",
    "\n",
    "geo = Glue([lft,rgt])\n",
    "Draw(geo)\n",
    "mesh = ng.Mesh(OCCGeometry(geo, dim=2).GenerateMesh(maxh=1/4))"
   ]
  },
  {
   "cell_type": "code",
   "execution_count": null,
   "id": "407439b8-fbd9-4368-8daa-20394077a02d",
   "metadata": {},
   "outputs": [],
   "source": [
    "q = mesh.MaterialCF({'lft': (sin(x), y),   # Piecewise q on the left & right subdomains\n",
    "                     'rgt': (sin(x), 1-y)})"
   ]
  },
  {
   "cell_type": "markdown",
   "id": "519589af",
   "metadata": {},
   "source": [
    "The normal component (which is the $x$ component in this case) of $q$ is smooth:"
   ]
  },
  {
   "cell_type": "code",
   "execution_count": null,
   "id": "c704fe44",
   "metadata": {},
   "outputs": [],
   "source": [
    "Draw(q[0], mesh);"
   ]
  },
  {
   "cell_type": "markdown",
   "id": "4b5f075e",
   "metadata": {},
   "source": [
    "The tangential component of $q$ is discontinuous across the middle interface."
   ]
  },
  {
   "cell_type": "code",
   "execution_count": null,
   "id": "ef56975d",
   "metadata": {},
   "outputs": [],
   "source": [
    "Draw(q[1], mesh);"
   ]
  },
  {
   "cell_type": "markdown",
   "id": "220b67a3",
   "metadata": {},
   "source": [
    "We can also plot $q$ as a vector field."
   ]
  },
  {
   "cell_type": "code",
   "execution_count": null,
   "id": "534b46a3",
   "metadata": {},
   "outputs": [],
   "source": [
    "Draw(q, mesh, vectors={'grid_size': 15});"
   ]
  },
  {
   "cell_type": "markdown",
   "id": "91bdbafb",
   "metadata": {},
   "source": [
    "If we try to interpolate such a function using a product of Lagrange spaces, then the discontinuity at the interface will generate large interpolation errors. Instead, knowing that the normal component is continuous, we can try to interpolate the function into the RT space.  This will liberate the tangential component of the approximation from continuity constraints, while preserving the normal continuity.\n",
    "\n",
    "\n",
    "The implementation of the RT space $R_{h, p}$ in NGSolve is accessed using `ng.HDiv`. The `Set` method, as in other finite element spaces in NGSolve, can be used to perform the interpolation. "
   ]
  },
  {
   "cell_type": "code",
   "execution_count": null,
   "id": "ea11826b",
   "metadata": {},
   "outputs": [],
   "source": [
    "p = 5   # This corresponds to the p in the RT definition above.\n",
    "R = ng.HDiv(mesh, order=p, RT=True)"
   ]
  },
  {
   "cell_type": "code",
   "execution_count": null,
   "id": "48b998c9",
   "metadata": {},
   "outputs": [],
   "source": [
    "qh = GridFunction(R)\n",
    "qh.Set(q)\n",
    "print('Error in RT interpolation =', \n",
    "      ng.sqrt(ng.Integrate((q - qh)**2, mesh)))"
   ]
  },
  {
   "cell_type": "markdown",
   "id": "a186bb74",
   "metadata": {},
   "source": [
    "Compare this to what happens when we interpolate the same function in the product of two Lagrange finite element spaces."
   ]
  },
  {
   "cell_type": "code",
   "execution_count": null,
   "id": "f96e0972-b98d-496a-9321-c675aa263141",
   "metadata": {},
   "outputs": [],
   "source": [
    "V2 = ng.VectorH1(mesh, order=p)  # Cartesian product of Lagrange spaces\n",
    "qq = GridFunction(V2)\n",
    "qq.Set(q)\n",
    "print('Error in product Lagrange space interpolation =', \n",
    "      ng.sqrt(ng.Integrate((q - qq)**2, mesh)))"
   ]
  },
  {
   "cell_type": "markdown",
   "id": "cf8c746e",
   "metadata": {},
   "source": [
    "Clearly the error in the product space approach is several orders higher than that of the error produced by the RT space. The source of the large error while interpolating using  `ng.VectorH1` is immediately evident if you plot the $y$-component of the interpolant `qq` or the error.  The interpolant, being continuous in both components, has a difficult time approximating the discontinuous component."
   ]
  },
  {
   "cell_type": "code",
   "execution_count": null,
   "id": "848bca3b",
   "metadata": {},
   "outputs": [],
   "source": [
    "Draw(qq - q, mesh, 'Lagrange interpolation error', vectors={'grid_size': 25});"
   ]
  },
  {
   "cell_type": "markdown",
   "id": "bc5354e5",
   "metadata": {},
   "source": [
    "#### Shape functions\n",
    "\n",
    "It is illustrative to visualize the basis functions of the RT space. We had gotten used to speaking of \"hat functions\" but that term is not useful for general finite elements. Basis functions generated from degrees of freedom of any abstract finite element spaces are called *shape functions*. Here is a visualization of a shape function of the *lowest order RT space* (the $p=0$ case)."
   ]
  },
  {
   "cell_type": "code",
   "execution_count": null,
   "id": "6b23d41d",
   "metadata": {},
   "outputs": [],
   "source": [
    "R = ng.HDiv(mesh, order=0, RT=True)\n",
    "\n",
    "shapenumber = 15\n",
    "shape = ng.GridFunction(R, name='shape')\n",
    "shape.vec[:] = 0\n",
    "shape.vec[shapenumber] = 1\n",
    "Draw(shape, mesh, vectors={'grid_size': 20});"
   ]
  },
  {
   "cell_type": "markdown",
   "id": "6499b053",
   "metadata": {},
   "source": [
    "You can see any shape function you wish by revising the `shapenumber` in the code above. In all cases, you see that\n",
    "- the shape functions are vector fields whose normal components are continuous, \n",
    "- they are supported on a patch of one or two elements, \n",
    "- their normal component is zero on all mesh facets except one.\n",
    "\n",
    "\n",
    "Thus in the lowest order case, each shape function is associated to a single mesh facet (an edge,  in our 2D mesh). If this edge is on the domain boundary, the  shape function is supported on one triangle. If the edge is an interior edge, the  shape function is supported on the two triangles which share the interior edge.\n",
    "\n",
    "One can also directly see the connection between the number of mesh facets and the dimension of the lowest order RT space by querying both numbers:"
   ]
  },
  {
   "cell_type": "code",
   "execution_count": null,
   "id": "5bbd8d89",
   "metadata": {},
   "outputs": [],
   "source": [
    "mesh.nfacet"
   ]
  },
  {
   "cell_type": "code",
   "execution_count": null,
   "id": "746b3dc4",
   "metadata": {},
   "outputs": [],
   "source": [
    "R.ndof"
   ]
  },
  {
   "cell_type": "markdown",
   "id": "7398f6ac",
   "metadata": {},
   "source": [
    "Of course, for higher $p$, a number of additional shape functions must be added. You can easily visualize the higher order shape functions by tweaking the above few lines of code."
   ]
  },
  {
   "cell_type": "markdown",
   "id": "dc0d4f36-9be0-4cde-ac49-1acea1fb439f",
   "metadata": {},
   "source": [
    "#### Convergence of divergence"
   ]
  },
  {
   "cell_type": "markdown",
   "id": "0d982bd5-9ffb-4b7a-a4df-72933aab353e",
   "metadata": {},
   "source": [
    "Ordinarily, when a piecewise polynomial interpolant of a function $q$ converges at a rate $O(h^k)$, we expect its derivatives to converge at a lower rate.\n",
    "\n",
    "However,  somewhat miraculously, the Raviart-Thomas interpolant $I_h^{RT} q$ has the property that $\\dive(I_h^{RT} q - q)$ converges at the same rate as $I_h^{RT} q - q$.  To obtain this interpolant in NGSolve, we use the `Set` method with `dual=True` option. We then compute the errors on successively refined meshes and tabulate the convergence rates much the same way as in a [previous notebook](B_ProjectionBAE.ipynb)."
   ]
  },
  {
   "cell_type": "code",
   "execution_count": null,
   "id": "9ec770a2-5e96-48c9-a667-e7235b1cb7a7",
   "metadata": {},
   "outputs": [],
   "source": [
    "def InterpolateOnSuccessiveRefinements(q, divq, mesh0, p=0, nrefinements=8):                                   \n",
    "    \"\"\"Error in RT interpolant on a sequence of uniformly refined meshes.\"\"\"\n",
    "      \n",
    "    errors = []; diverrors = []; \n",
    "    mesh = ng.Mesh(mesh0.ngmesh.Copy())\n",
    "    \n",
    "    for ref in range(nrefinements): \n",
    "        RT0 = ng.HDiv(mesh, order=p , RT=True)\n",
    "        qh = GridFunction(RT0)\n",
    "        qh.Set(q, dual=True)   # Gives the canonical interpolant\n",
    "      \n",
    "        err = ng.sqrt(ng.Integrate((q - qh)**2, mesh))\n",
    "        diverr = ng.sqrt(ng.Integrate((divq - div(qh))**2, mesh))\n",
    "        errors.append(err); diverrors.append(diverr)      \n",
    "        mesh.ngmesh.Refine()\n",
    "\n",
    "    return np.array(errors), np.array(diverrors)"
   ]
  },
  {
   "cell_type": "code",
   "execution_count": null,
   "id": "b4586f19-abd4-459f-9cce-cb103b412157",
   "metadata": {},
   "outputs": [],
   "source": [
    "try:   # copied over from a prior notebook\n",
    "    from prettytable import PrettyTable\n",
    "except ModuleNotFoundError:\n",
    "    try:\n",
    "        import micropip\n",
    "        await micropip.install(\"prettytable\")\n",
    "        from prettytable import PrettyTable\n",
    "    except ModuleNotFoundError:\n",
    "        !pip3 install prettytable\n",
    "        from prettytable import PrettyTable\n",
    "      \n",
    "def TabulateRate(name, dat, h0=1):\n",
    "    col = ['h', name, 'rate'];  h0col = ['%g'%h0]\n",
    "    t = PrettyTable()\n",
    "    t.add_column(col[0], h0col + [h0col[0] + '/' + str(2**i) for i in range(1, len(dat))])\n",
    "    t.add_column(col[1], ['%.12f'%e for e in dat])\n",
    "    t.add_column(col[2], ['*'] +  ['%1.2f' % r for r in np.log(dat[:-1]/dat[1:])/np.log(2)])\n",
    "    print(t)"
   ]
  },
  {
   "cell_type": "markdown",
   "id": "fb63395e-d264-4c92-a1e7-7585716ed825",
   "metadata": {},
   "source": [
    "To obtain the convergence tables, we call these functions with the above set discontinuous vector field $q$. By the formula for distributional divergence of discontinuous fields from the lectures, we find that $\\dive(q)$ has no edge distributions and can simply be given piecewise as follows:"
   ]
  },
  {
   "cell_type": "code",
   "execution_count": null,
   "id": "b4986336-5424-45ad-a76e-57f76147b7d5",
   "metadata": {},
   "outputs": [],
   "source": [
    "divq = mesh.MaterialCF({'lft': cos(x)+1, 'rgt': cos(x)-1})"
   ]
  },
  {
   "cell_type": "markdown",
   "id": "b0b3a8f2-e9c6-4162-a4ac-04325779f9a7",
   "metadata": {},
   "source": [
    "Using `q` and `divq`, we compute the errors and tabulate the rates:"
   ]
  },
  {
   "cell_type": "code",
   "execution_count": null,
   "id": "4a430f0d-6c17-437c-8141-32f1f9ab9f72",
   "metadata": {},
   "outputs": [],
   "source": [
    "err, diverr = InterpolateOnSuccessiveRefinements(q, divq, mesh)\n",
    "TabulateRate('||q - IhRT(q)||', err, h0=1/4)\n",
    "TabulateRate('||div(q - IhRT(q))||', diverr, h0=1/4)"
   ]
  },
  {
   "cell_type": "markdown",
   "id": "00de0eb5-ad8e-47ff-a17c-7cf5222a88a9",
   "metadata": {},
   "source": [
    "Clearly both $\\| q - I_h^{RT} q\\|_{L^2(\\Omega)}$ and \n",
    "$\\| \\dive(q - I_h^{RT} q)\\|_{L^2(\\Omega)}$  converges at the same rate!\n",
    "In a later lecture, we will prove that this **superconvergence** property of the divergence of the interpolation error when using the RT space arises from a special commuting diagram property involving the RT space."
   ]
  },
  {
   "cell_type": "markdown",
   "id": "34217333",
   "metadata": {},
   "source": [
    "## The 2D Nedelec finite element space"
   ]
  },
  {
   "cell_type": "markdown",
   "id": "b4e6ce64",
   "metadata": {},
   "source": [
    "Consider the curl operator in two space dimensions, acting on a vector field $u: \\om \\to \\R^2$, \n",
    "$$\n",
    "\\newcommand{\\curl}{\\mathop{\\mathrm{curl}}}\n",
    "\\curl u = \\partial_x u_1  - \\partial_y u_0.\n",
    "$$\n",
    "You have  worked with $\\curl$ as an operator acting on three-dimensional (3D) vector fields. The above two-dimensional (2D) version is the obtained as the $z$-component of the 3D curl when applied to a vector field that has only $x$ and $y$ components with no $z$ dependence. It takes a 2D vector field $u$ and produces a scalar field $\\curl u$.\n",
    "\n",
    "The 2D curl is intimately related to the 2D divergence. To see this, let $J_{\\pi/2}$ denote the operator that rotates a vector clockwise by 90 degrees, i.e., \n",
    "$$\n",
    "J_{\\pi/2} \n",
    "\\begin{pmatrix}\n",
    "a \\\\ b\n",
    "\\end{pmatrix} = \n",
    "\\begin{pmatrix}\n",
    "b \\\\ -a\n",
    "\\end{pmatrix}.\n",
    "$$\n",
    "Now, if two vector fields $u$ and $q$ are related by  \n",
    "$$\n",
    "u = J_{\\pi/2} q \n",
    "$$\n",
    "then obviously \n",
    "$$\n",
    "\\dive q =  \\curl u.\n",
    "$$"
   ]
  },
  {
   "cell_type": "markdown",
   "id": "2f1b885e",
   "metadata": {},
   "source": [
    "Moreover, if $t$ denotes the counterclockwise unit tangent vector on element boundaries, then it is related to the unit outward normal $n$ at the same boundary point by \n",
    "$$\n",
    "J_{\\pi/2} n = t.\n",
    "$$\n",
    "Hence \n",
    "$$\n",
    "u\\cdot t = q \\cdot n.\n",
    "$$\n",
    "Thus the condition that   &LeftDoubleBracket; $q\\cdot n$ &RightDoubleBracket; $= 0$\n",
    "is equivalent to the condition that the *jump of the tangential component* of $u$ vanish, \n",
    "&LeftDoubleBracket; $u\\cdot t$ &RightDoubleBracket; $= 0.$\n"
   ]
  },
  {
   "cell_type": "markdown",
   "id": "48e4d63c",
   "metadata": {},
   "source": [
    "We define the  **Nedelec space in two dimensions** as the RT space rotated:\n",
    "$$\n",
    "N_{h, p} := J_{\\pi/2} R_{h,p}.  \n",
    "$$\n",
    " It consists of piecewise polynomial vector fields that are tangentially continuous. Applying the rotation operator $J_{\\pi/2}$ to the polynomial functions in our previous definition of $R_{h, p}$, we also find that $N_{h, p}$ can be equivalently described  by \n",
    "$$\n",
    "N_{h, p} = \n",
    "\\left\\{\n",
    "u\\in H(\\curl, \\om) : \\;\\text{ for all elements }  K \\in \\oh, \\quad \n",
    "u|_K \\in P_p(K)^2 + \\begin{pmatrix} -y \\\\ x \\end{pmatrix} P_p(K) \\; \\right\\}.\n",
    "$$\n"
   ]
  },
  {
   "cell_type": "markdown",
   "id": "f31e0e8e-7d18-4add-9bad-5e0391397890",
   "metadata": {},
   "source": [
    "By our prior discussion relating the 2D curl and div, we also conclude that $N_{h, p} \\subset H(\\curl, \\om)$ since $R_{h,p} \\subset H(\\div, \\om)$.    Note that this rotational isomorphism between $H(\\dive, \\om)$ and $H(\\curl, \\om)$ does not hold in 3D. The Nedelec space in 3D is a truly different space, not isomorphic to the 3D RT space. Postponing the 3D case for later discussions, let us proceed with the 2D case. NGSolve provides an implementation of the Nedelec space accessible through `HCurl` as follows."
   ]
  },
  {
   "cell_type": "code",
   "execution_count": null,
   "id": "71854c3c",
   "metadata": {},
   "outputs": [],
   "source": [
    "N = ng.HCurl(mesh, order=0, type1=True)  # This is N_{h,0}"
   ]
  },
  {
   "cell_type": "code",
   "execution_count": null,
   "id": "22c7972f",
   "metadata": {},
   "outputs": [],
   "source": [
    "shapenumber = 15\n",
    "shape = GridFunction(N, name='shape')\n",
    "shape.vec[:] = 0\n",
    "shape.vec[shapenumber] = 1\n",
    "Draw(shape, mesh, vectors={'grid_size': 30});"
   ]
  },
  {
   "cell_type": "markdown",
   "id": "339cb7f7",
   "metadata": {},
   "source": [
    "As you can see, this shape function visually appears to be exactly the same shape function plotted earlier for the RT case, except for a rotation by 90 degrees.  Note how the tangential component of the shape function varies continuously across the edges. Just as the RT space was useful for interpolating vector fields with normal continuity, the Nedelec space is useful for interpolating vector fields with tangential continuity. "
   ]
  },
  {
   "cell_type": "markdown",
   "id": "8fae970b-7800-4b60-bd65-8a7e1565c6c6",
   "metadata": {},
   "source": [
    "The Nedelec finite element is sometimes called the **edge finite element** in some engineering literature. Interestingly, the shape functions of the RT and the Nedelec element were known in another mathematical context (they appeared in a 1957 book by Whitney) long before these elements were known. In recognition of this, mathematicians sometimes refer to these shape functions as **Whitney forms**. Here is a formula for the shape functions (of the lowest order Nedelec space) that you just saw in the above visualization:"
   ]
  },
  {
   "cell_type": "markdown",
   "id": "99c5ce25",
   "metadata": {},
   "source": [
    "## Range of the 2D curl "
   ]
  },
  {
   "cell_type": "markdown",
   "id": "a7f1ed2e",
   "metadata": {},
   "source": [
    "Application of the 2D curl operator to a function in the Nedelec space $N_{h, p}$ results in a function with no continuity restrictions across element interfaces in general. Since the application of curl also reduces the polynomial degree within each element, the result is a piecewise polynomial of degree not more than $p$, i.e., a function in the DG space $P_p(\\oh)$. Thus, we may view $\\curl$ as an operator from the Nedelec space to the DG space, \n",
    "$$\n",
    "\\curl : N_{h, p}  \\to P_{p}(\\oh).\n",
    "$$\n",
    "*How much of the $P_p(\\oh)$ is filled with the range of $\\curl$?*"
   ]
  },
  {
   "cell_type": "markdown",
   "id": "c9accfac",
   "metadata": {},
   "source": [
    "To answer this,  we will need to understand the range of the above map. Since $\\curl$ may act on smooth function spaces or on finite element spaces like  $N_{h, p}$, it is a good idea to indicate the specific domain we consider.  So we will write \n",
    "$\n",
    "\\text{`` }\\curl: N_{h,p}  \\text{ ''}\n",
    "$\n",
    "to indicate the $\\curl$ when it's viewed as an operator acting (only) on $N_{h, p}$ functions. We now proceed to compute the dimension of its range, i.e., the number \n",
    "$$\\newcommand{\\rank}{\\mathop{\\mathrm{rank}}}\n",
    "\\rank(\\curl: N_{h, p}).\n",
    "$$\n",
    "To do so, we will need a representation of the operator $\\curl: N_{h,p}$  as a matrix obtained using the basis functions of $N_{h,p}$ and $P_p(\\oh)$.  Of course, we will also need a domain and a mesh. Let us punch some holes into a square to make the domain a bit more interesting than just a square and proceed. "
   ]
  },
  {
   "cell_type": "code",
   "execution_count": null,
   "id": "7deb1131-1376-419a-a7b8-8450c4c8aefe",
   "metadata": {},
   "outputs": [],
   "source": [
    "wp = WorkPlane()\n",
    "sqr = wp.Rectangle(2, 2).Face()\n",
    "rgthole = wp.MoveTo(1.5,1).Rectangle(1/6, 1/6).Face()                 \n",
    "lfthole = wp.MoveTo(0.5,1).Rectangle(1/6, 1/6).Face()      \n",
    "dom = sqr-rgthole -lfthole\n",
    "Draw(dom);\n",
    "mesh = ng.Mesh(OCCGeometry(dom, dim=2).GenerateMesh(maxh=1/4))"
   ]
  },
  {
   "cell_type": "markdown",
   "id": "2fefbf11-d7f3-4067-8583-e0ef9f716458",
   "metadata": {},
   "source": [
    "The Nedelec and DG spaces on this mesh for a given degree $p$ are set as follows."
   ]
  },
  {
   "cell_type": "code",
   "execution_count": null,
   "id": "4cc4fda5-cfe3-4edb-bf36-d9c2f9138d5a",
   "metadata": {},
   "outputs": [],
   "source": [
    "# To get N_{h, p} for p=0,1,2,3,... use order=0,2,3,4,... in HCurl:\n",
    "\n",
    "p = 0    \n",
    "N = ng.HCurl(mesh, order=p+1-max(1-p,0), type1=True)\n",
    "D = ng.L2(mesh, order=p)"
   ]
  },
  {
   "cell_type": "markdown",
   "id": "fac47cd2-acb2-4acf-8970-56bd2247e432",
   "metadata": {},
   "source": [
    "Now let us think about how to make a matrix representation of the operator $\\curl: N_{h, p} \\to P_p(\\oh).$\n",
    "\n",
    "One way to obtain this matrix is to take each shape function in $N_{h, p}$, apply curl, and then expand the result in terms of the shape functions of the DG space. However, since the application of `curl` in NGSolve does not output an object in the DG space, we would need to do an additional step of using the `Set` method of the DG space: if you provide it a function that you know should be contained within the DG space, then the `Set` method interpolates it with zero error, creating the interpolant as a `GridFunction` object. Such objects can be queried for their vector of coefficients of basis expansions, which become entries of the curl matrix. An implementation would look like this: \n",
    "```python\n",
    "def curlmatrix(N, D):\n",
    "    \"\"\"Return the matrix representation of curl: N -> D\"\"\"\n",
    "    curlmat = []\n",
    "    shapeN = GridFunction(N)\n",
    "    curlD = GridFunction(D)\n",
    "    for i in range(N.ndof):\n",
    "        shapeN.vec[:] = 0;  shapeN.vec[i] = 1   # i-th shape function \n",
    "        curlD.Set(curl(shapeN))                 # interpolation error is 0\n",
    "        curlmat.append(list(curlD.vec)) \n",
    "    return np.array(curlmat).T\n",
    "```\n",
    "\n",
    "However, the code above is inefficient. As you know, python loops are slow. Moreover, inside the above loop, the `Set` does a global computation when what was really needed is just a local computation. Thankfully, NGSolve provides a `ConvertOperator` which accomplishes the same thing faster."
   ]
  },
  {
   "cell_type": "code",
   "execution_count": null,
   "id": "5a88ef59-f4b3-49d6-a9b8-066995565e21",
   "metadata": {},
   "outputs": [],
   "source": [
    "from ngsolve import curl \n",
    "from ngsolve.comp import ConvertOperator\n",
    "from scipy.sparse import coo_matrix\n",
    "\n",
    "# Compute the matrix representation of curl: N -> D\n",
    "u = N.TrialFunction()\n",
    "Crl = ConvertOperator(N, D, trial_proxy=curl(u))\n",
    "i, j, val = Crl.COO()\n",
    "curlmat = coo_matrix((val, (i, j))).toarray()"
   ]
  },
  {
   "cell_type": "markdown",
   "id": "1b3fe83d-e561-430c-8502-e11f4b1cf45b",
   "metadata": {},
   "source": [
    "Now that we have the matrix representation `curlmat` of the linear operator $\\curl: N_{h, p}$, computing its rank can be done by any number of linear algebra techniques. Here is one way, which proceeds by counting the number of nonzero singular values."
   ]
  },
  {
   "cell_type": "code",
   "execution_count": null,
   "id": "7f4e9fc4-e967-41a9-8aee-c4d1eaa9fcad",
   "metadata": {},
   "outputs": [],
   "source": [
    "from scipy.linalg import svdvals\n",
    "\n",
    "s = svdvals(curlmat)\n",
    "print('Rank of curl =', sum(s>1e-14))"
   ]
  },
  {
   "cell_type": "markdown",
   "id": "07c55c4a-9c0b-46ef-9dcd-018fdda12d11",
   "metadata": {},
   "source": [
    "Of course, the rank should be at most the dimension of the codomain, which is immediately retrieved from the ndof attribute of the finite element space:"
   ]
  },
  {
   "cell_type": "code",
   "execution_count": null,
   "id": "b4522d3e-1616-4b0d-9b49-094ded90d24b",
   "metadata": {},
   "outputs": [],
   "source": [
    "D.ndof"
   ]
  },
  {
   "cell_type": "markdown",
   "id": "91ae5061-1456-4086-8db3-3e267d72735f",
   "metadata": {},
   "source": [
    "Thus we are computationally led to the interesting discovery, \n",
    "$$\\newcommand{\\rank}{\\mathop{\\mathrm{rank}}}\n",
    "\\rank(\\curl: N_{h, p}) = \\dim P_p(\\oh),\n",
    "$$\n",
    "i.e., <font color=blue>the 2D operator $\\curl : N_{h, p} \\to P_p(\\oh)$ is surjective!</font> \n",
    "\n",
    "Please feel free to hit the above code with other meshes. You will end up with the same observation $\\ldots$ so it might be a good idea to add this to the things you should rigorously understand, at least for the lowest order case: see Exercise III below.\n"
   ]
  },
  {
   "cell_type": "markdown",
   "id": "cf7f96c3-2fc9-415b-a539-e3c8b8c1a255",
   "metadata": {},
   "source": [
    "Having discussed the range, let us now briefly turn to the kernel (or the null space) of the same linear operator $\\curl:  N_{h, p} \\to P_p(\\oh)$.   Recalling the rank-nullity theorem from linear algebra, we can immediately compute the dimension of the kernel using the above-computed dimension of the range:\n",
    "$$\n",
    "\\begin{aligned}\n",
    "\\dim(\\ker(\\curl:N_{h,p})) \n",
    "& = \\dim(N_{h, p}) - \\rank(\\curl:N_{h, p}) \\\\\n",
    "& = \\dim(N_{h, p}) - \\dim P_p(\\oh)\n",
    "\\end{aligned}\n",
    "$$"
   ]
  },
  {
   "cell_type": "code",
   "execution_count": null,
   "id": "aa47f971-53cf-4bbc-b156-0a21c4532f65",
   "metadata": {},
   "outputs": [],
   "source": [
    "dimkercurl = N.ndof - D.ndof\n",
    "dimkercurl"
   ]
  },
  {
   "cell_type": "markdown",
   "id": "a2e9146f-53c1-4b50-b379-63ac9abf22cc",
   "metadata": {},
   "source": [
    "## The emergence of topology"
   ]
  },
  {
   "cell_type": "markdown",
   "id": "58ceadb4-1fce-4efc-bd32-423249a84b89",
   "metadata": {},
   "source": [
    "In calculus, we learned that every curl-free vector field can be written as a gradient of a scalar function, provided the domain has the topological property of being simply connected. However, we punched two holes in our domain above, so it is not simply connected. Hence we cannot assert that all curl-free functions on our domain are gradients. The dimension of those that are not turns out to be related to the toplogy of the domain.\n",
    "\n",
    "The number of holes in a two dimensional domain is a topological invariant called the second *Betti number* $b_1$. (The first Betti number $b_0$ is the number of connected components of the domain, which is clearly 1 for our example.) A deep theorem of de Rham connects the topological  Betti numbers to quantities arising from smooth function spaces (namely the dimensions of certain cohomology spaces of infinitely smooth functions). \n",
    "\n",
    "We are now going to see that the number $b_1$ also arises naturally from the not-so-smooth (but computable) vector finite elements, as the dimension of curl-free functions that are not gradients within them. We have already computed the dimension of curl-free functions (stored above in `dimkercurl` variable). So it remains to discuss the dimension of the gradient fields in $N_{h,p}$. All gradients of functions in the Lagrange space\n",
    "$$\n",
    "V_{h, p+1} = \\{ v \\in H^1(\\om):\\; \\text{ for all } K \\in \\oh, \\; v|_K \\in P_{p+1}(K)\\}\n",
    "$$\n",
    "must have zero curl.  Moreover, an elementary computation of the gradient and an investigation of the resulting function's tangential component along mesh interfaces proves that \n",
    "$$\n",
    "\\grad V_{h, p+1} \\subset N_{h, p}.\n",
    "$$\n",
    "(See  Exercise IV at the end.) Thus  the kernel of $\\curl: N_{h, p} \\to P_p(\\oh)$ must contain at least all the gradient fields generated by differentiating Lagrange functions. The size of this gradient subspace, i.e.,  the dimension of  $\\grad V_{h, p+1}$,  is easy to compute because we know that *on a connected domain,* the kernel of $\\grad: V_{h, p+1}\\to N_{h, p}$ consists  of the one-dimensional space of constant functions. Hence,  by the rank-nullity theorem, \n",
    "$$\n",
    "\\dim \\grad V_{h, p+1} = \\dim V_{h, p+1} - 1.\n",
    "$$"
   ]
  },
  {
   "cell_type": "code",
   "execution_count": null,
   "id": "e20f94f1-f7a6-48cd-928a-9a8ee3eee041",
   "metadata": {},
   "outputs": [],
   "source": [
    "V = ng.H1(mesh, order=p+1)\n",
    "rankgrad = V.ndof -1\n",
    "rankgrad"
   ]
  },
  {
   "cell_type": "markdown",
   "id": "45ddc252-00bc-4cb0-864d-82244043d93b",
   "metadata": {},
   "source": [
    "We computed the exact dimension of the kernel of curl previously. The emergence of topology is evident when we compare the above number with the previously computed $\\dim (\\ker \\curl)$. *The number of holes in the domain is obtained as the difference of $\\dim(\\ker(\\curl: N_{h,p}))$ and $\\dim(\\grad  V_{h, p+1})$*."
   ]
  },
  {
   "cell_type": "code",
   "execution_count": null,
   "id": "11c1a144-87b0-4bc0-8a54-1ee6a8c7dcf5",
   "metadata": {},
   "outputs": [],
   "source": [
    "dimkercurl - rankgrad"
   ]
  },
  {
   "cell_type": "markdown",
   "id": "52054f2a-97d5-4385-8b7f-4f9cc99783fa",
   "metadata": {},
   "source": [
    "<div class=\"alert alert-info\">\n",
    "    <b><font color=red>Class Activity:</font></b>  \n",
    "  Please return to the code above, remake the domain with as many holes as you like, change the meshsize to whatever you like, change the polynomial degree $p$, etc., and repeat these computations. (Also see exercises at the end.)\n",
    "</div>"
   ]
  },
  {
   "cell_type": "markdown",
   "id": "e9f5baa0-ddbb-431a-b0f5-331b83a47e00",
   "metadata": {},
   "source": [
    "After you have experimented enough, your computational experience should lead you to build some confidence in formulating the hypothesis that the <font color=blue>second Betti number must be given by \n",
    "$$\\newcommand{\\grad}{\\mathop{\\mathrm{grad}}}\n",
    "b_1 = \\dim (\\ker(\\curl: N_{h, p}) - \\dim(\\grad V_{h, p+1}).\n",
    "$$\n",
    "</font>\n",
    "We will have more to say regarding  this in later lectures. Note that if you replace the Nedelec space $N_{h, p}$ by the Cartesian product of Lagrange spaces in the  right hand side above, the resulting number has no topological relevance (see Exercise V below)."
   ]
  },
  {
   "cell_type": "markdown",
   "id": "76b67ddb-7715-4655-bf7b-d396a9c313eb",
   "metadata": {},
   "source": [
    "<br>\n",
    "\n",
    "To conclude, we have seen that the vector finite elements of the Nedelec and Raviart-Thomas type have special properties not shared by vector fields from simple Cartesian products of Lagrange spaces, including superconvergence of certain derivatives of interpolation errors, and connection with topological invariants. Hopefully these elementary examples, presented with very few prerequisites, serves as an invitation to theoretical studies into finite element exterior calculus.  In a later lecture, we will connect simplicial complexes to finite element spaces and provide a theoretical foundation to base some of the above computational observations."
   ]
  },
  {
   "cell_type": "markdown",
   "id": "07266999-885b-450c-942d-51bf748181c9",
   "metadata": {},
   "source": [
    "## Exercises"
   ]
  },
  {
   "cell_type": "markdown",
   "id": "306bef4b-0ce5-49f4-9f6d-428536eae2bd",
   "metadata": {},
   "source": [
    "<div class=\"alert alert-info\">\n",
    "    <b><font color=red>Exercise I:</font></b>     \n",
    "  Let $N_{h, p}$ and $V_{h, p}$ denote the Nedelec and Lagrange finite element spaces defined above.    Let $I_h^N$ denote the canonical interpolant of Nedelec space and let $I_h$ denote the Lagrange interpolant on the Cartesian product of Lagrange spaces $V_{h, p+1} \\times V_{h, p+1}$. Consider a smooth vector field, $u = (\\sin (xy), y)$ on the unit square. Compute the following errors\n",
    "$$\n",
    "\\|u - I_h u\\|_{L^2(\\om)}, \\quad \\|\\curl(u - I_h u)\\|_{L^2(\\om)}, \\quad\n",
    "    \\|u - I_h^N u\\|_{L^2(\\om)}, \\quad \\|\\curl(u - I_h^N u)\\|_{L^2(\\om)},\n",
    "$$    \n",
    "on successive uniform refinements of a mesh. Tabulate rates and compare.\n",
    "</div>"
   ]
  },
  {
   "cell_type": "markdown",
   "id": "56ed0649-79b9-4c3f-8992-fbdf07017874",
   "metadata": {},
   "source": [
    "<div class=\"alert alert-info\">\n",
    "    <b><font color=red>Exercise II:</font></b>     \n",
    "  Consider an edge $e_{ij}$ between adjacent mesh vertices $a_i , a_j$ of a triangular mesh. Let  $\\lambda_i$ denote the barycentric coordinate function associated to the vertex $a_i$. Show that the function\n",
    "\n",
    "$$\\newcommand{\\grad}{\\mathop{\\mathrm{grad}}}\n",
    "    \\phi_{ij} = \\lambda_j \\grad \\lambda_i - \\lambda_i \\grad \\lambda_j \n",
    "$$\n",
    "\n",
    "has zero tangential components on all mesh edges except $e_{ij}$,  where it equals $ \\phi_{ij} \\cdot t_{ij} = 1/ |e_{ij}|$. Here  $|e_{ij}|$ is the length of $e_{ij}$ and  $t_{ij} = (a_i - a_j)/ |e_{ij}|$.\n",
    "</div>"
   ]
  },
  {
   "cell_type": "markdown",
   "id": "bc9e7b53-b867-4cff-9e5a-62dd2fddaf54",
   "metadata": {},
   "source": [
    "<div class=\"alert alert-info\">\n",
    "    <b><font color=red>Exercise III:</font></b>    \n",
    "Prove that $\\curl: N_{h, 0} \\to P_0(\\oh)$ is surjective on 2D domains.  (You may want to start by computing the curl of the shape functions in Exercise 1.) \n",
    "</div>"
   ]
  },
  {
   "cell_type": "markdown",
   "id": "070489cf-8905-4576-9a51-484ff9352b67",
   "metadata": {},
   "source": [
    "<div class=\"alert alert-info\">\n",
    "    <b><font color=red>Exercise IV:</font></b>  \n",
    "   Prove that $\\grad V_{h, p+1} \\subset N_{h, p}$.\n",
    "</div>"
   ]
  },
  {
   "cell_type": "markdown",
   "id": "fb000a36-0757-4e79-8ae1-c12836f3f9b8",
   "metadata": {},
   "source": [
    "<div class=\"alert alert-info\">\n",
    "    <b><font color=red>Exercise V:</font></b>  \n",
    "  We have seen that there is computational evidence that the second Betti number satisfies\n",
    "  $$\n",
    "  b_1 = \\dim (\\ker(\\curl: N_{h, p})) - \\dim(\\grad V_{h, p+1}).\n",
    "  $$\n",
    "Show, through computational examples, that this equality does not hold if we change  the Nedelec space $N_{h, p}$ above to the Cartesian product of Lagrange spaces $V_{h, p+1} \\times V_{h, p+1}$. \n",
    "</div>"
   ]
  },
  {
   "cell_type": "markdown",
   "id": "6bc2b679-a90a-43af-9b89-f100fdc38daf",
   "metadata": {},
   "source": [
    "(Suggestion: Use `ng.Grad` on `ng.VectorH1` to get derivatives.) "
   ]
  },
  {
   "cell_type": "markdown",
   "id": "fca958b5-a11e-424f-b443-da95fe3f4cea",
   "metadata": {},
   "source": [
    "<div class=\"alert alert-info\">\n",
    "    <b><font color=red>Exercise VI:</font></b>  \n",
    "     Somewhere in this notebook we assumed connectedness of the domain. What happens if we remove this assumption? Understanding this, write a python function that takes as input a mesh and outputs both the first Betti number $b_0$ (the number of connected components of the domain) and the second Betti number $b_1$ (the number of holes in the domain).  Display your results from meshes of connected and disconnected domains, with and without holes.\n",
    "</div>"
   ]
  },
  {
   "cell_type": "markdown",
   "id": "f469fae2-b4a2-4a45-aa41-66065a3da0c0",
   "metadata": {},
   "source": [
    "<div class=\"alert alert-info\">\n",
    "    <b><font color=red>Exercise VII:</font></b>  \n",
    "  Consider  the  Lagrange and Nedelec spaces with boundary conditions, namely \n",
    "  $\\mathring{V}_{h, p+1} = \\{ v \\in V_{h, p+1}: v|_{\\partial \\om } = 0\\},$ and \n",
    "  $\\mathring{N}_{h, p} = \\{ u \\in N_{h, p}: u\\cdot t|_{\\partial \\om } = 0\\}.$\n",
    "Determine, computationally or theoretically, if  $\\curl : \\mathring{N}_{h,0} \\to P_0(\\oh)$ is surjective. Is $\\grad \\mathring{V}_{h, p+1}$ contained in $ \\mathring{N}_{h, p}$? Can you  compute $b_0$ and $b_1$ like in Exercise VI but using $\\mathring{V}_{h, p+1}$ and $ \\mathring{N}_{h, p}$ instead? \n",
    "</div>"
   ]
  },
  {
   "cell_type": "markdown",
   "id": "babf6261-e452-46ee-866c-6fbef30d0b2a",
   "metadata": {},
   "source": [
    "(Suggestion: Do not forget to use `FreeDofs()` when there are boundary conditions.)"
   ]
  },
  {
   "cell_type": "markdown",
   "id": "a2ac1bd2-c52e-4fb9-b1b2-2aa8edc51ca1",
   "metadata": {},
   "source": [
    "\n",
    "<hr>\n",
    "    \n",
    "    \n",
    "$\\ll$ [Table Of Contents](./0_INDEX.ipynb) <br>\n",
    "$\\ll$ [Jay Gopalakrishnan](http://web.pdx.edu/~gjay/)"
   ]
  }
 ],
 "metadata": {
  "kernelspec": {
   "display_name": "Python 3 (ipykernel)",
   "language": "python",
   "name": "python3"
  },
  "language_info": {
   "codemirror_mode": {
    "name": "ipython",
    "version": 3
   },
   "file_extension": ".py",
   "mimetype": "text/x-python",
   "name": "python",
   "nbconvert_exporter": "python",
   "pygments_lexer": "ipython3",
   "version": "3.11.6"
  }
 },
 "nbformat": 4,
 "nbformat_minor": 5
}
