{
 "cells": [
  {
   "cell_type": "markdown",
   "metadata": {
    "ein.tags": "worksheet-0",
    "slideshow": {
     "slide_type": "-"
    }
   },
   "source": [
    "# Convection-Diffusion Equation"
   ]
  },
  {
   "cell_type": "markdown",
   "metadata": {},
   "source": [
    "$$\n",
    "\\DeclareMathOperator{\\div}{div}\n",
    "\\DeclareMathOperator{\\grad}{grad}\n",
    "$$\n",
    "\n",
    "Consider the stationary convection-diffusion problem, often jokingly referred to as the **Con-fusion Problem**. Such problems  arise in modeling phenomena with both diffusion and convection, such as heat flow.\n",
    "Fourier's law of heat conduction states that heat flux $q_{\\text{conductive}}$ is proportional to the negative temperature gradient: $q_{\\text{conductive}} = - \\kappa \\grad u$, where $u$ denotes the temperature and the constant of proportionality, $\\kappa$, is called the thermal conductivity. Convective heat flux takes the form $q_{\\text{convective}} = \\beta u$ where $\\beta$ is an advection velocity vector field that transports heat along it. By conservation of energy\n",
    "the heat lost through the sum of these fluxes on any control volume $V$ must equal the sum of heat sources $f$ within it:\n",
    "$$\n",
    "\\int_{\\partial V} (q_{\\text{conductive}} + q_{\\text{convective}}) \\cdot n = \\int_V f,\n",
    "$$\n",
    "where $n$ denotes  the outward unit normal.\n",
    "Transforming this integral law into a differential one as usual, we obtain the convection-diffusion equation,  \n",
    "$$\n",
    "\\begin{aligned}\n",
    "-\\div(\\kappa \\grad u - \\beta u)  = 0,\n",
    "\\end{aligned}\n",
    "$$\n",
    "which one might also rewrite as \n",
    "$$\n",
    "-\\div(\\kappa \\grad u) +  \\beta \\cdot \\grad u = 0,\n",
    "$$\n",
    "in the often-occurring case of $\\div \\beta=0$. There is nothing confusing about this equation when $\\kappa$ and $\\beta$ are nice. Confusion might come when $\\beta$ is too large, or when $\\kappa$ is too small, cases where the standard Lagrange finite element method can give strange solutions, as we see in this notebook. "
   ]
  },
  {
   "cell_type": "markdown",
   "metadata": {
    "ein.tags": "worksheet-0",
    "slideshow": {
     "slide_type": "-"
    }
   },
   "source": [
    "## A model problem\n",
    "\n",
    "A simple model boundary value problem with the convection-diffusion equation is as follows.\n",
    "$$\n",
    "\\DeclareMathOperator{\\div}{div}\n",
    "\\DeclareMathOperator{\\grad}{grad}\n",
    "\\begin{aligned}\n",
    "-\\div(\\kappa \\grad u - \\beta u) & = f,  && \\text { in } \\Omega =\\text{unit square,}\n",
    "\\\\\n",
    "u  &= g,  && \\text { on left boundary}, \n",
    "\\\\\n",
    "u & = 0  && \\text { on right boundary}, \n",
    "\\\\\n",
    "\\kappa \\frac{\\partial u}{ \\partial n} - (\\beta \\cdot n) u & = 0,\n",
    " && \\text { on top and bottom boundaries},\n",
    "\\end{aligned}\n",
    "$$\n",
    "where $n$ is the outward unit normal.   To obtain a nice test problem we choose very smooth data (so that no tricks are needed to integrate the data accurately), namely\n",
    "$$\n",
    "f \\equiv 0, \\quad g \\equiv 1/2, \n",
    "\\quad \\beta \\equiv (1, 0).\n",
    "$$\n",
    "and assume that $\\kappa>0$ is a constant function.\n",
    "\n"
   ]
  },
  {
   "cell_type": "markdown",
   "metadata": {},
   "source": [
    "<div class=\"alert alert-info\">\n",
    "    <b><font color=red>Exercise I:</font></b>      \n",
    "  Show that the exact solution $u$ (is independent of the second coordinate $y$) and is given only in terms of the first coordinate $x$ by \n",
    "$$\n",
    "u(x, y) =  \\frac{1 - e^{(x-1)/\\kappa}} {2(1 - e^{-1/\\kappa})}.\n",
    "$$  \n",
    "</div>"
   ]
  },
  {
   "cell_type": "markdown",
   "metadata": {},
   "source": [
    "## Finite element solution"
   ]
  },
  {
   "cell_type": "markdown",
   "metadata": {},
   "source": [
    "The weak formulation is derived as usual by multiplying by a test function $v$ and integrating \n",
    "by parts. Letting $\\Gamma$ be the subset of $\\partial\\Omega$ consisting of the left and right boundary segments, let $u_g \\in H^1(\\Omega)$ be an extension of the boundary data $g$. Then writing\n",
    "$$\n",
    "u = \\mathring u + u_g,\n",
    "$$\n",
    "we find $\\mathring u \\in \\mathring{H}_\\Gamma^1(\\Omega)$ such that \n",
    "$$\n",
    "\\int_\\Omega\\kappa\\grad u \\cdot \\grad v - \\int_\\Omega u \\beta \\cdot  \\grad v = \\int_\\Omega f v,\n",
    "$$\n",
    "for all \n",
    "$v \\in \\mathring{H}^1_\\Gamma(\\Omega).$\n",
    "\n",
    "\n",
    "\n",
    "We mesh $\\Omega$ by $\\Omega_h$ and consider the finite element approximation. For the above-mentioned choice of $g$,  we can obviously construct an extension $u_g$ that is in $P_p(\\Omega_h) \\cap H^1(\\Omega)$ and the exact solution  $u$  is in $u_g \\in \\mathring{H}_\\Gamma^1(\\Omega)$. The  degree $p$ Lagrange finite element approximation $u_h$ is in $u_g + \\mathring{V}^{\\Gamma}_{hp}$ where \n",
    "$\\mathring{V}^{\\Gamma}_{hp} = P_p(\\Omega_h) \\cap \\mathring{H}_\\Gamma^1(\\Omega)$."
   ]
  },
  {
   "cell_type": "markdown",
   "metadata": {},
   "source": [
    "<div class=\"alert alert-info\">\n",
    "    <b><font color=red>Exercise II:</font></b>      \n",
    "   Prove that there is a mesh-independent $C>0$  such that\n",
    "  $$\n",
    "  \\| u - u_h \\|_{H^1(\\Omega)} \\le \\;\\frac{C}{\\kappa} \n",
    "  \\;\\inf_{v_h \\in u_g + \\mathring{V}^\\Gamma_{hp}} \\| u - v_h \\|_{H^1(\\Omega)}.\n",
    "  $$\n",
    "</div>"
   ]
  },
  {
   "cell_type": "code",
   "execution_count": null,
   "metadata": {
    "autoscroll": false,
    "ein.hycell": false,
    "ein.tags": "worksheet-0",
    "slideshow": {
     "slide_type": "-"
    }
   },
   "outputs": [],
   "source": [
    "import ngsolve as ng\n",
    "from ngsolve.webgui import Draw\n",
    "from netgen.geom2d import unit_square\n",
    "from ngsolve import grad, dx, CoefficientFunction, GridFunction, BilinearForm, LinearForm"
   ]
  },
  {
   "cell_type": "code",
   "execution_count": null,
   "metadata": {},
   "outputs": [],
   "source": [
    "# Set convection veclocity\n",
    "\n",
    "beta = CoefficientFunction((1, 0))\n",
    "\n",
    "# Set Gamma = left|right and space with essential b.c.\n",
    "\n",
    "mesh = ng.Mesh(unit_square.GenerateMesh(maxh=0.1))\n",
    "V = ng.H1(mesh, order=2, dirichlet='left|right')\n",
    "\n",
    "# Inhomogeneous Dirichlet b.c. \n",
    "\n",
    "g = 0.5"
   ]
  },
  {
   "cell_type": "code",
   "execution_count": null,
   "metadata": {},
   "outputs": [],
   "source": [
    "def SolveConfusion(mesh, kappa=1, p=2):\n",
    "    \"\"\"Use Lagrange finite elements to approximate the above\n",
    "    variational formulation of the confusion model problem.\"\"\"\n",
    "\n",
    "    V = ng.H1(mesh, order=p, dirichlet='left|right')\n",
    "    u, v = V.TnT()\n",
    "    \n",
    "    a = BilinearForm(V)\n",
    "    a+= (kappa*grad(u)*grad(v) - u*beta*grad(v)) * dx \n",
    "    f = LinearForm(V)\n",
    "    uh = GridFunction(V)\n",
    "    \n",
    "    with ng.TaskManager():\n",
    "        uh.Set(g, definedon=mesh.Boundaries('left'))\n",
    "        a.Assemble()\n",
    "        f.Assemble()\n",
    "\n",
    "        f.vec.data -= a.mat * uh.vec\n",
    "        uh.vec.data += a.mat.Inverse(V.FreeDofs()) * f.vec\n",
    "        \n",
    "    return uh"
   ]
  },
  {
   "cell_type": "code",
   "execution_count": null,
   "metadata": {},
   "outputs": [],
   "source": [
    "uh = SolveConfusion(mesh, kappa=0.3, p=3)\n",
    "Draw(uh, deformation=True,\n",
    "     settings={\"camera\" : {\"transformations\" :[{\"type\": \"rotateX\", \"angle\": -30},{\"type\": \"rotateY\", \"angle\": -10},{\"type\": \"rotateZ\", \"angle\": -10}]}});"
   ]
  },
  {
   "cell_type": "markdown",
   "metadata": {},
   "source": [
    "To compare this with the exact solution, recall that (Exercise I) the exact solution \n",
    "has no $y$ dependence. So we may plot it as one-variable function of $x$ and compare it with the above multidimensional plot."
   ]
  },
  {
   "cell_type": "code",
   "execution_count": null,
   "metadata": {},
   "outputs": [],
   "source": [
    "import numpy as np\n",
    "import matplotlib.pyplot as plt\n",
    "def plotexact(kappa):\n",
    "    x = np.linspace(0, 1, 1000)\n",
    "    u = (1 - np.exp((x-1)/kappa)) / (1-np.exp(-1/kappa)) / 2\n",
    "    plt.plot(x, u); plt.xlabel('$x$'); plt.grid(True); plt.title('Exact solution $u$')\n",
    "\n",
    "plotexact(kappa=0.3)"
   ]
  },
  {
   "cell_type": "markdown",
   "metadata": {},
   "source": [
    "Clearly, the exact solution and the discrete solution looks visually identical. Of course, to get definitive verification, we must compute the errors and its convergence rates, which is left as an exercise."
   ]
  },
  {
   "cell_type": "markdown",
   "metadata": {},
   "source": [
    "<div class=\"alert alert-info\">\n",
    "    <b><font color=red>Exercise III:</font></b>      \n",
    "   Fix $\\kappa = 1/3$ and computationally examine at what rate $\\| u - u_h \\|_{L^2(\\Omega)}$ and $\\| u - u_h \\|_{H^1(\\Omega)}$ converges to zero as $h$ becomes smaller.  (Tabulate errors on successively refined meshes and estimate the convergence rate.)  Verify that your rates are in accordance with those predicted by Exercise II.\n",
    "</div>"
   ]
  },
  {
   "cell_type": "markdown",
   "metadata": {},
   "source": [
    "## What happens to the discrete solution as $\\kappa \\to 0$?"
   ]
  },
  {
   "cell_type": "markdown",
   "metadata": {},
   "source": [
    "The reason for studying this con-fusion problem is to understand when and why we do not get nice solutions from the finite element method. To this end, we compute solutions for smaller and smaller $\\kappa$ while comparing the exact and discrete solutions for each $\\kappa$ value. "
   ]
  },
  {
   "cell_type": "code",
   "execution_count": null,
   "metadata": {},
   "outputs": [],
   "source": [
    "plotexact(kappa=0.1)"
   ]
  },
  {
   "cell_type": "code",
   "execution_count": null,
   "metadata": {},
   "outputs": [],
   "source": [
    "uh = SolveConfusion(mesh, kappa=0.1, p=3)\n",
    "Draw(uh, deformation=True,\n",
    "     settings={\"camera\" : {\"transformations\" :[{\"type\": \"rotateX\", \"angle\": -30},{\"type\": \"rotateY\", \"angle\": -10},{\"type\": \"rotateZ\", \"angle\": -10}]}});"
   ]
  },
  {
   "cell_type": "code",
   "execution_count": null,
   "metadata": {},
   "outputs": [],
   "source": [
    "plotexact(kappa=0.01)"
   ]
  },
  {
   "cell_type": "code",
   "execution_count": null,
   "metadata": {},
   "outputs": [],
   "source": [
    "uh = SolveConfusion(mesh, kappa=0.01, p=3)\n",
    "Draw(uh, deformation=True,\n",
    "     settings={\"camera\" : {\"transformations\" :[{\"type\": \"rotateX\", \"angle\": -30},{\"type\": \"rotateY\", \"angle\": -10},{\"type\": \"rotateZ\", \"angle\": -10}]}});"
   ]
  },
  {
   "cell_type": "code",
   "execution_count": null,
   "metadata": {},
   "outputs": [],
   "source": [
    "plotexact(kappa=0.001)"
   ]
  },
  {
   "cell_type": "code",
   "execution_count": null,
   "metadata": {},
   "outputs": [],
   "source": [
    "uh = SolveConfusion(mesh, kappa=0.001, p=3)\n",
    "Draw(uh, deformation=True,\n",
    "     settings={\"camera\" : {\"transformations\" :[{\"type\": \"rotateX\", \"angle\": -30},{\"type\": \"rotateY\", \"angle\": -10},{\"type\": \"rotateZ\", \"angle\": -10}]}});"
   ]
  },
  {
   "cell_type": "markdown",
   "metadata": {
    "ein.tags": "worksheet-0",
    "slideshow": {
     "slide_type": "-"
    }
   },
   "source": [
    "As $\\kappa \\to 0$, the numerical solutions do not look anything like the exact solution. Oscillations seem to emanate from an increasingly thin boundary layer region and spread out over the whole domain. Such oscillations are a sign of an unstable method."
   ]
  },
  {
   "cell_type": "markdown",
   "metadata": {
    "ein.tags": "worksheet-0",
    "slideshow": {
     "slide_type": "-"
    }
   },
   "source": [
    "If this is confusing, do be reminded that the theory did not rule out this instability. Per an application of Cea lemma (left to Exercise II), the quasioptimality constant in the error estimate for the finite element method has a factor of $1/\\kappa,$ which  goes to $\\infty$ as $\\kappa\\to 0$, making the error estimate useless even if true."
   ]
  },
  {
   "cell_type": "markdown",
   "metadata": {},
   "source": [
    "\n",
    "\n",
    "<hr>\n",
    "    \n",
    "    \n",
    "$\\ll$ [Table Of Contents](./0_INDEX.ipynb) <br>\n",
    "$\\ll$ [Jay Gopalakrishnan](http://web.pdx.edu/~gjay/)\n",
    "\n",
    "    \n",
    "\n"
   ]
  }
 ],
 "metadata": {
  "kernelspec": {
   "display_name": "Python 3 (ipykernel)",
   "language": "python",
   "name": "python3"
  },
  "language_info": {
   "codemirror_mode": {
    "name": "ipython",
    "version": 3
   },
   "file_extension": ".py",
   "mimetype": "text/x-python",
   "name": "python",
   "nbconvert_exporter": "python",
   "pygments_lexer": "ipython3",
   "version": "3.11.6"
  },
  "latex_envs": {
   "LaTeX_envs_menu_present": true,
   "autoclose": false,
   "autocomplete": true,
   "bibliofile": "biblio.bib",
   "cite_by": "apalike",
   "current_citInitial": 1,
   "eqLabelWithNumbers": true,
   "eqNumInitial": 1,
   "hotkeys": {
    "equation": "Ctrl-E",
    "itemize": "Ctrl-I"
   },
   "labels_anchors": false,
   "latex_user_defs": false,
   "report_style_numbering": false,
   "user_envs_cfg": false
  },
  "name": "ConvDiffFEMfail.ipynb"
 },
 "nbformat": 4,
 "nbformat_minor": 4
}
