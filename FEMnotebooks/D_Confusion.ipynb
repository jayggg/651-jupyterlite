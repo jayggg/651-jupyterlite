{
 "cells": [
  {
   "cell_type": "markdown",
   "metadata": {
    "ein.tags": "worksheet-0",
    "slideshow": {
     "slide_type": "-"
    }
   },
   "source": [
    "# Convection-Diffusion Equation"
   ]
  },
  {
   "cell_type": "markdown",
   "metadata": {},
   "source": [
    "$$\n",
    "\\DeclareMathOperator{\\div}{div}\n",
    "\\DeclareMathOperator{\\grad}{grad}\n",
    "$$\n",
    "\n",
    "Consider the stationary convection-diffusion problem, often jokingly referred to as the **Con-fusion Problem**. Such problems  arise in modeling phenomena with both diffusion and convection.\n",
    "\n",
    "Heat flow is a typical example. Fourier's law of heat conduction states that heat flux $q_{\\text{conductive}}$ is proportional to the negative temperature gradient: $q_{\\text{conductive}} = - \\kappa \\grad u$, where $u$ denotes the temperature and the constant of proportionality, $\\kappa$, is called the thermal conductivity. Convective heat flux takes the form $q_{\\text{convective}} = \\beta u$ where $\\beta$ is an advection velocity vector field that transports heat along it. By conservation of energy\n",
    "the heat lost through the sum of these fluxes on any control volume $V$ must equal the sum of heat sources $f$ within it:\n",
    "$$\n",
    "\\int_{\\partial V} (q_{\\text{conductive}} + q_{\\text{convective}}) \\cdot n = \\int_V f,\n",
    "$$\n",
    "where $n$ denotes  the outward unit normal.\n",
    "Transforming this integral law into a differential one as usual, we obtain the convection-diffusion equation,  \n",
    "$$\n",
    "\\begin{aligned}\n",
    "-\\div(\\kappa \\grad u - \\beta u)  = 0,\n",
    "\\end{aligned}\n",
    "$$\n",
    "which one might also rewrite as \n",
    "$$\n",
    "-\\div(\\kappa \\grad u) +  \\beta \\cdot \\grad u = 0,\n",
    "$$\n",
    "in the often-occurring case of $\\div \\beta=0$. There is nothing confusing about this equation when $\\kappa$ and $\\beta$ are nice. Confusion might come when $\\beta$ is too large, or when $\\kappa$ is too small, cases where the standard Lagrange finite element method can give strange solutions, as we see in this notebook. "
   ]
  },
  {
   "cell_type": "markdown",
   "metadata": {
    "ein.tags": "worksheet-0",
    "slideshow": {
     "slide_type": "-"
    }
   },
   "source": [
    "## A model problem\n",
    "\n",
    "A simple model boundary value problem with the convection-diffusion equation is as follows.\n",
    "$$\n",
    "\\DeclareMathOperator{\\div}{div}\n",
    "\\DeclareMathOperator{\\grad}{grad}\n",
    "\\begin{aligned}\n",
    "-\\div(\\kappa \\grad u - \\beta u) & = f,  && \\text { in } \\Omega =\\text{unit square,}\n",
    "\\\\\n",
    "u  &= g,  && \\text { on left boundary}, \n",
    "\\\\\n",
    "u & = 0  && \\text { on right boundary}, \n",
    "\\\\\n",
    "\\kappa \\frac{\\partial u}{ \\partial n} - (\\beta \\cdot n) u & = 0,\n",
    " && \\text { on top and bottom boundaries},\n",
    "\\end{aligned}\n",
    "$$\n",
    "where $n$ is the outward unit normal.   To obtain a nice test problem we choose very smooth data (so that no tricks are needed to integrate the data accurately), namely\n",
    "$$\n",
    "f \\equiv 0, \\quad g \\equiv 1/2, \n",
    "\\quad \\beta \\equiv (1, 0).\n",
    "$$\n",
    "and assume that $\\kappa>0$ is a constant function.\n",
    "\n"
   ]
  },
  {
   "cell_type": "markdown",
   "metadata": {},
   "source": [
    "<div class=\"alert alert-info\">\n",
    "    <b><font color=red>Exercise I:</font></b>      \n",
    "  Show that the exact solution $u$ (is independent of the second coordinate $y$) and is given only in terms of the first coordinate $x$ by \n",
    "$$\n",
    "u(x, y) =  \\frac{1 - e^{(x-1)/\\kappa}} {2(1 - e^{-1/\\kappa})}.\n",
    "$$  \n",
    "</div>"
   ]
  },
  {
   "cell_type": "markdown",
   "metadata": {},
   "source": [
    "## Finite element solution"
   ]
  },
  {
   "cell_type": "markdown",
   "metadata": {},
   "source": [
    "The weak formulation is derived as usual by multiplying by a test function $v$ and integrating \n",
    "by parts. Letting $\\Gamma$ be the subset of $\\partial\\Omega$ consisting of the left and right boundary segments, let $u_g \\in H^1(\\Omega)$ be an extension of the boundary data $g$. Then writing\n",
    "$$\n",
    "u = \\mathring u + u_g,\n",
    "$$\n",
    "we find $\\mathring u \\in \\mathring{H}_\\Gamma^1(\\Omega)$ such that \n",
    "$$\n",
    "\\int_\\Omega\\kappa\\grad u \\cdot \\grad v - \\int_\\Omega u \\beta \\cdot  \\grad v = \\int_\\Omega f v,\n",
    "$$\n",
    "for all \n",
    "$v \\in \\mathring{H}^1_\\Gamma(\\Omega).$"
   ]
  },
  {
   "cell_type": "markdown",
   "metadata": {},
   "source": [
    "We mesh $\\Omega$ by $\\Omega_h$ and consider the finite element approximation. For the above-mentioned choice of $g$,  we can obviously construct an extension $u_g$ that is in $P_p(\\Omega_h) \\cap H^1(\\Omega)$ and the exact solution  $u$  is in $u_g \\in \\mathring{H}_\\Gamma^1(\\Omega)$. The  degree $p$ Lagrange finite element approximation $u_h$ is in $u_g + \\mathring{V}^{\\Gamma}_{hp}$ where \n",
    "$\\mathring{V}^{\\Gamma}_{hp} = P_p(\\Omega_h) \\cap \\mathring{H}_\\Gamma^1(\\Omega)$, satisfying \n",
    "$$\n",
    "\\int_\\Omega\\kappa\\grad u_h \\cdot \\grad v_h - \\int_\\Omega u_h \\beta \\cdot  \\grad v_h = \\int_\\Omega f v_h,\n",
    "$$\n",
    "for all \n",
    "$v_h \\in \\mathring{V}^{\\Gamma}_{hp} $."
   ]
  },
  {
   "cell_type": "markdown",
   "metadata": {},
   "source": [
    "<div class=\"alert alert-info\">\n",
    "    <b><font color=red>Exercise II:</font></b>      \n",
    "   Prove that there is a mesh-independent $C>0$  such that\n",
    "  $$\n",
    "  \\| u - u_h \\|_{H^1(\\Omega)} \\le \\;\\frac{C}{\\kappa} \n",
    "  \\;\\inf_{v_h \\in u_g + \\mathring{V}^\\Gamma_{hp}} \\| u - v_h \\|_{H^1(\\Omega)}.\n",
    "  $$\n",
    "</div>"
   ]
  },
  {
   "cell_type": "code",
   "execution_count": null,
   "metadata": {
    "autoscroll": false,
    "ein.hycell": false,
    "ein.tags": "worksheet-0",
    "slideshow": {
     "slide_type": "-"
    }
   },
   "outputs": [],
   "source": [
    "import ngsolve as ng\n",
    "import numpy as np\n",
    "from ngsolve.webgui import Draw\n",
    "from netgen.geom2d import unit_square\n",
    "from ngsolve import grad, dx, ds, CoefficientFunction, GridFunction, BilinearForm, LinearForm\n",
    "from ngsolve.solvers import GMRes"
   ]
  },
  {
   "cell_type": "code",
   "execution_count": null,
   "metadata": {},
   "outputs": [],
   "source": [
    "# Set convection veclocity\n",
    "\n",
    "beta = CoefficientFunction((1, 0))\n",
    "\n",
    "# Set Gamma = left|right and space with essential b.c.\n",
    "\n",
    "mesh = ng.Mesh(unit_square.GenerateMesh(maxh=0.1))\n",
    "V = ng.H1(mesh, order=2, dirichlet='left|right')\n",
    "\n",
    "# Inhomogeneous Dirichlet b.c. \n",
    "\n",
    "g = 0.5"
   ]
  },
  {
   "cell_type": "code",
   "execution_count": null,
   "metadata": {},
   "outputs": [],
   "source": [
    "def SolveConfusion(mesh, kappa=1, p=2):\n",
    "    \"\"\"Use Lagrange finite elements to approximate the above\n",
    "    variational formulation of the confusion model problem.\"\"\"\n",
    "\n",
    "    V = ng.H1(mesh, order=p, dirichlet='left|right')\n",
    "    u, v = V.TnT()\n",
    "    \n",
    "    a = BilinearForm(V)\n",
    "    a+= (kappa*grad(u)*grad(v) - u*beta*grad(v)) * dx \n",
    "    c = ng.Preconditioner(a, \"local\") # used only for gmres\n",
    "    f = LinearForm(V)\n",
    "    uh = GridFunction(V)\n",
    "    \n",
    "    with ng.TaskManager():\n",
    "        # Assemble \n",
    "        uh.Set(g, definedon=mesh.Boundaries('left'))\n",
    "        a.Assemble()\n",
    "        f.Assemble()\n",
    "\n",
    "        # Solve\n",
    "        f.vec.data -= a.mat * uh.vec\n",
    "\n",
    "        try: # use direct nonsymmetric sparse solver if available \n",
    "\n",
    "            uh.vec.data += a.mat.Inverse(freedofs=V.FreeDofs(), inverse='umfpack') * f.vec\n",
    "            \n",
    "        except:  # if not, use iterative solver gmres \n",
    "            u0 = uh.vec.CreateVector(); u0[:] = 0\n",
    "            GMRes(A=a.mat, pre=c, b=f.vec, x=u0, tol=1e-15, printrates=False, maxsteps=1000)\n",
    "            uh.vec.data += u0      \n",
    "      \n",
    "    return uh"
   ]
  },
  {
   "cell_type": "code",
   "execution_count": null,
   "metadata": {},
   "outputs": [],
   "source": [
    "uh = SolveConfusion(mesh, kappa=0.3, p=3)\n",
    "Draw(uh, deformation=True,\n",
    "     settings={\"camera\" : {\"transformations\" :[{\"type\": \"rotateX\", \"angle\": -30},{\"type\": \"rotateY\", \"angle\": -10},{\"type\": \"rotateZ\", \"angle\": -10}]}});"
   ]
  },
  {
   "cell_type": "markdown",
   "metadata": {},
   "source": [
    "To compare this with the exact solution, recall that (Exercise I) the exact solution \n",
    "has no $y$ dependence. So we may plot it as one-variable function of $x$ and compare it with the above multidimensional plot."
   ]
  },
  {
   "cell_type": "code",
   "execution_count": null,
   "metadata": {},
   "outputs": [],
   "source": [
    "import numpy as np\n",
    "import matplotlib.pyplot as plt\n",
    "def plotexact(kappa):\n",
    "    x = np.linspace(0, 1, 1000)\n",
    "    u = (1 - np.exp((x-1)/kappa)) / (1-np.exp(-1/kappa)) / 2\n",
    "    plt.plot(x, u); plt.xlabel('$x$'); plt.grid(True); plt.title('Exact solution $u$')\n",
    "\n",
    "plotexact(kappa=0.3)"
   ]
  },
  {
   "cell_type": "markdown",
   "metadata": {},
   "source": [
    "Clearly, the exact solution and the discrete solution looks visually identical. Of course, to get definitive verification, we must compute the errors and its convergence rates, which is left as an exercise."
   ]
  },
  {
   "cell_type": "markdown",
   "metadata": {},
   "source": [
    "<div class=\"alert alert-info\">\n",
    "    <b><font color=red>Exercise III:</font></b>      \n",
    "   Fix $\\kappa = 1/3$ and computationally examine at what rate $\\| u - u_h \\|_{L^2(\\Omega)}$ and $\\| u - u_h \\|_{H^1(\\Omega)}$ converges to zero as $h$ becomes smaller.  (Tabulate errors on successively refined meshes and estimate the convergence rate.)  Verify that your rates are in accordance with those predicted by Exercise II.\n",
    "</div>"
   ]
  },
  {
   "cell_type": "markdown",
   "metadata": {},
   "source": [
    "## What happens to the discrete solution as $\\kappa \\to 0$?"
   ]
  },
  {
   "cell_type": "markdown",
   "metadata": {},
   "source": [
    "The reason for studying this con-fusion problem is to understand when and why we do not get nice solutions from the finite element method. To this end, we compute solutions for smaller and smaller $\\kappa$ while comparing the exact and discrete solutions for each $\\kappa$ value. "
   ]
  },
  {
   "cell_type": "markdown",
   "metadata": {},
   "source": [
    "#### Case of $\\kappa = 1/10$"
   ]
  },
  {
   "cell_type": "code",
   "execution_count": null,
   "metadata": {},
   "outputs": [],
   "source": [
    "plotexact(kappa=0.1)"
   ]
  },
  {
   "cell_type": "code",
   "execution_count": null,
   "metadata": {},
   "outputs": [],
   "source": [
    "uh = SolveConfusion(mesh, kappa=0.1, p=3)\n",
    "Draw(uh, deformation=True,\n",
    "     settings={\"camera\" : {\"transformations\" :[{\"type\": \"rotateX\", \"angle\": -30},{\"type\": \"rotateY\", \"angle\": -10},{\"type\": \"rotateZ\", \"angle\": -10}]}});"
   ]
  },
  {
   "cell_type": "markdown",
   "metadata": {},
   "source": [
    "The discrete solution continues to match the exact solution quite nicely when $\\kappa=0.1$. How about when $\\kappa$ is reduced by a factor of 10? "
   ]
  },
  {
   "cell_type": "markdown",
   "metadata": {},
   "source": [
    "#### Case of $\\kappa = 1/100$"
   ]
  },
  {
   "cell_type": "code",
   "execution_count": null,
   "metadata": {},
   "outputs": [],
   "source": [
    "plotexact(kappa=0.01)"
   ]
  },
  {
   "cell_type": "code",
   "execution_count": null,
   "metadata": {},
   "outputs": [],
   "source": [
    "uh = SolveConfusion(mesh, kappa=0.01, p=3)\n",
    "Draw(uh, deformation=True,\n",
    "     settings={\"camera\" : {\"transformations\" :[{\"type\": \"rotateX\", \"angle\": -30},{\"type\": \"rotateY\", \"angle\": -10},{\"type\": \"rotateZ\", \"angle\": -10}]}});"
   ]
  },
  {
   "cell_type": "markdown",
   "metadata": {},
   "source": [
    "Note the emergence of overshoots at the boundary layer of the exact solution. We see that the method is having difficulties capturing the sharp transition there. What if we reduce $\\kappa$ by another factor of 10? "
   ]
  },
  {
   "cell_type": "markdown",
   "metadata": {},
   "source": [
    "#### Case of $\\kappa = 1/1000$"
   ]
  },
  {
   "cell_type": "code",
   "execution_count": null,
   "metadata": {},
   "outputs": [],
   "source": [
    "plotexact(kappa=0.001)"
   ]
  },
  {
   "cell_type": "code",
   "execution_count": null,
   "metadata": {},
   "outputs": [],
   "source": [
    "uh = SolveConfusion(mesh, kappa=0.001, p=3)\n",
    "Draw(uh, deformation=True,\n",
    "     settings={\"camera\" : {\"transformations\" :[{\"type\": \"rotateX\", \"angle\": -30},{\"type\": \"rotateY\", \"angle\": -10},{\"type\": \"rotateZ\", \"angle\": -10}]}});"
   ]
  },
  {
   "cell_type": "markdown",
   "metadata": {},
   "source": [
    "The discrete solution appears to have become useless."
   ]
  },
  {
   "cell_type": "markdown",
   "metadata": {
    "ein.tags": "worksheet-0",
    "slideshow": {
     "slide_type": "-"
    }
   },
   "source": [
    "These observations illustrate that as diffusion vanishes (i.e., as $\\kappa \\to 0$), the numerical solutions may not look anything like the exact solution and has spurious oscillations. Note that as $\\kappa$ becomes smaller, the exact solution has an increasingly thin boundary layer. We should expect any method to have difficulties capturing the sharp transition in such thin boundary layers. What is troublesome in the above observations is that tolerable oscillations emanating from a thin boundary layer has spread out over the whole domain and destroyed the solution even in locations far away from the boundary layer. This is a telltale sign of an unstable method. "
   ]
  },
  {
   "cell_type": "markdown",
   "metadata": {
    "ein.tags": "worksheet-0",
    "slideshow": {
     "slide_type": "-"
    }
   },
   "source": [
    "Why did this finite element method become unstable?   If you think this is confusing, then do be reminded that the theory did not rule out this instability. Per an application of Cea lemma (left to Exercise II), the quasioptimality constant in the error estimate for the finite element method has a factor of $1/\\kappa,$ which  goes to $\\infty$ as $\\kappa\\to 0$, making the error estimate useless even if true."
   ]
  },
  {
   "cell_type": "markdown",
   "metadata": {},
   "source": [
    "## Stationary advection equation"
   ]
  },
  {
   "cell_type": "markdown",
   "metadata": {},
   "source": [
    "After having examined the small $\\kappa$ cases above, it is natural to ask what happens if $\\kappa=0$?\n",
    "This case is not covered by the theory we have so far. When $\\kappa=0$, we obtain the (stationary) *convection equation*, also known as *stationary advection* equation, modeling pure transport without any diffusion. Continuing to assume that the convection vector field $\\beta$ satsifies  $\\div \\beta = 0$, the partial differential equation obtained when $\\kappa=0$ is \n",
    "$$\n",
    "\\beta \\cdot \\grad u = f.\n",
    "$$\n",
    "This first-order equation cannot admit boundary conditions on the entire boundary. One can see using characteristics that this partial differential equation  admits boundary values on the  *inflow boundary* defined by \n",
    "$$\n",
    "\\partial_{in} \\Omega = \\{ x \\in \\partial\\Omega:\\; \\beta \\cdot n  <0\\}.\n",
    "$$\n",
    "On the outflow boundary $\\partial_{out} \\Omega = \\{ x \\in \\partial\\Omega:\\; b \\cdot n  >0\\}$ and on the remainder $\\partial \\Omega \\setminus (\\partial_{in} \\Omega \\cup \\partial_{out} \\Omega)$,  no boundary conditions should be placed. Thus, the *stationary advection boundary value problem* we shall consider is to solve for u satisfying \n",
    "$$\n",
    "\\begin{aligned}\n",
    "\\beta \\cdot \\grad u& = f,  && \\text { in } \\Omega =\\text{unit square,}\n",
    "\\\\\n",
    "u  &= g,  && \\text { on } \\Gamma \\equiv \\partial_{in} \\Omega = \\text{ the inflow boundary.} \n",
    "\\end{aligned}\n",
    "$$"
   ]
  },
  {
   "cell_type": "markdown",
   "metadata": {},
   "source": [
    "\n",
    "As in the convection-diffusion case, we consider simple data of the form \n",
    "$$\n",
    "\\beta = (1, 0), \\qquad  f=0, \\qquad g=1/2.\n",
    "$$\n",
    "Then $\\partial_{in} \\Omega $ is the left boundary segment of the unit square domain. Moreover, the exact solution is simply $u \\equiv 1/2$ on the entire domain $\\Omega$.  We proceed to see two finite element methods for this case. The first one is a natural extension of what we have already seen for the convection-diffusion equation."
   ]
  },
  {
   "cell_type": "markdown",
   "metadata": {},
   "source": [
    "#### Tempting limit method"
   ]
  },
  {
   "cell_type": "markdown",
   "metadata": {},
   "source": [
    "Recall that the method for the convection-diffusion case finds \n",
    " $u_h$ in $u_g + \\mathring{V}^{\\Gamma}_{hp}$ satisfying \n",
    "$$\n",
    "\\int_\\Omega\\kappa\\grad u_h \\cdot \\grad v_h - \\int_\\Omega u_h \\beta \\cdot  \\grad v_h = \\int_\\Omega f v_h,\n",
    "$$\n",
    "for all  $v_h \\in \\mathring{V}^{\\Gamma}_{hp}$.\n",
    "\n",
    "\n",
    "Succumbing to the temptation of just putting $\\kappa=0$ in this equation to get a method for the advection equation (and resetting $\\Gamma$ in $\\mathring{V}^{\\Gamma}_{hp}$ to consist only of the inflow boundary),  we construct the following implementation by a minor modification of the previous convection-diffusion code (the modifications being the elimination of the $\\kappa$ term and the change of the `dirichlet` flag to `left`)."
   ]
  },
  {
   "cell_type": "code",
   "execution_count": null,
   "metadata": {},
   "outputs": [],
   "source": [
    "def SolveConv(mesh, p=2):\n",
    "    \"\"\"Solve advection equation by minimal modification of the \n",
    "    previous convection-diffusion code for zero diffusion.\"\"\"\n",
    "\n",
    "    V = ng.H1(mesh, order=p, dirichlet='left')\n",
    "    u, v = V.TnT()\n",
    "    \n",
    "    a = ng.BilinearForm(V)\n",
    "    a+= -u*beta*grad(v) * dx \n",
    "    c = ng.IdentityMatrix(size=V.ndof)\n",
    "    f = ng.LinearForm(V)\n",
    "    uh = ng.GridFunction(V, 'u_strongBC')\n",
    "    \n",
    "    with ng.TaskManager():\n",
    "        uh.Set(1, definedon=mesh.Boundaries('left'))\n",
    "        a.Assemble()\n",
    "        f.Assemble()\n",
    "\n",
    "        f.vec.data -= a.mat * uh.vec\n",
    "        try:\n",
    "          uh.vec.data += a.mat.Inverse(freedofs=V.FreeDofs(), inverse='umfpack') * f.vec\n",
    "        except:          \n",
    "          u0 = uh.vec.CreateVector(); u0[:] = 0\n",
    "          GMRes(A=a.mat, pre=c, b=f.vec, x=u0, tol=1e-10, printrates=False, maxsteps=10000)\n",
    "          uh.vec.data += u0\n",
    "        \n",
    "    return uh"
   ]
  },
  {
   "cell_type": "markdown",
   "metadata": {},
   "source": [
    "Unfortunately, this method does not work. "
   ]
  },
  {
   "cell_type": "code",
   "execution_count": null,
   "metadata": {
    "scrolled": true
   },
   "outputs": [],
   "source": [
    "uh = SolveConv(mesh, p=3)\n",
    "Draw(uh, deformation=True,\n",
    "     settings={\"camera\" : {\"transformations\" :[{\"type\": \"rotateX\", \"angle\": -30},{\"type\": \"rotateY\", \"angle\": -10},{\"type\": \"rotateZ\", \"angle\": -10}]}});"
   ]
  },
  {
   "cell_type": "markdown",
   "metadata": {},
   "source": [
    "Clearly, the same problem from the convection-diffusion case persists, and has even gotten worse. This shows that blindly taking the singular limit $\\kappa=0$ in a variational formulation is problematic. The limiting case has different boundary conditions. I leave you to  dissect the anatomy of this failure (the next exercise may help). "
   ]
  },
  {
   "cell_type": "markdown",
   "metadata": {},
   "source": [
    "<div class=\"alert alert-info\">\n",
    "    <b><font color=red>Exercise IV:</font></b>      \n",
    "Compare the above result with the solution obtained from the following alternate method, which also  uses $\\mathring{V}^{\\Gamma}_{hp}$ with inflow boundary $\\Gamma$. Solve for $u_h \\in u_g + \\mathring{V}^{\\Gamma}_{hp}$ satisfying \n",
    "$$\n",
    "  \\int_\\Omega (\\beta \\cdot\\grad u_h ) v_h = \\int_\\Omega f v_h \n",
    "$$\n",
    "  for all $v_h \\in \\mathring{V}^{\\Gamma}_{hp}$.   \n",
    "</div>"
   ]
  },
  {
   "cell_type": "markdown",
   "metadata": {},
   "source": [
    "#### Lagrange finite elements with weakly imposed inflow boundary condition\n",
    "\n",
    "An alternate approach is motivated by the following computational thinking. At the singular limit of $\\kappa=0$, the essential boundary conditions suddenly change (and so does the space in the weak form). Could we formulate a weak form where one could use the same space for $\\kappa>0$ and for $\\kappa=0$?  Also, reviewing the solutions computed for the convection-diffusion equation, it appears as if our method is overly constrained by the need to satisfy the boundary conditions strongly, or exactly. Could we relax the imposition of the boundary condition in some way?  "
   ]
  },
  {
   "cell_type": "markdown",
   "metadata": {},
   "source": [
    "These questions are answered by a simple technique of weak imposition of boundary condition. To explain this, let us start from \n",
    "$$\n",
    "\\begin{aligned}\n",
    "\\beta \\cdot \\grad u& = f,  && \\text { in } \\Omega =\\text{unit square,}\n",
    "\\\\\n",
    "u  &= g,  && \\text { on } \\Gamma \\equiv \\partial_{in} \\Omega = \\text{ the inflow boundary,} \n",
    "\\end{aligned}\n",
    "$$\n",
    "and develop an alternate weak formulation:  multiply by a test function $v$ (without any boundary condition) and integrate by parts. Then we seek $u \\in H^1(\\Omega)$ satisfying\n",
    "$$\n",
    "-\\int_\\Omega \\beta u \\cdot \\grad v + \\int_{\\partial_{out}\\Omega} \\beta \\cdot n \\, u v \n",
    "= \\int_\\Omega f v - \\int_{\\partial_{in} \\Omega} \\beta \\cdot n \\, g v\n",
    "$$\n",
    "for all $v \\in H^1(\\Omega).$ Note that the inflow boundary condition is no longer imposed essentially in the space, rather it is incorporated into the equation while integrating by parts in a natural fashion. This technique of boundary condition imposition is called *weakly imposed inflow boundary condition.*\n",
    "\n",
    "It is straightforward to implement a Lagrange finite element approximation based on this new weak form, as seen below."
   ]
  },
  {
   "cell_type": "code",
   "execution_count": null,
   "metadata": {},
   "outputs": [],
   "source": [
    "def SolveConvectionWeakBC(mesh, p=2):\n",
    "    \"\"\"Same as the above code for convection-diffusion,\n",
    "    but now with no diffusion\"\"\"\n",
    "\n",
    "    V = ng.H1(mesh, order=p) # No boundary condition in V !\n",
    "    u, v = V.TnT()\n",
    "    n = ng.specialcf.normal(2)\n",
    "  \n",
    "    a = ng.BilinearForm(V)\n",
    "    a+= -u*beta*grad(v) * dx \n",
    "    a+= beta*n * u * v * ds(definedon='right')\n",
    "    c = ng.IdentityMatrix(size=V.ndof)\n",
    "    f = ng.LinearForm(V)\n",
    "    f+= -beta * n * g * v * ds(definedon='left')\n",
    "  \n",
    "    uh = ng.GridFunction(V, 'u_weakBC')\n",
    "    \n",
    "    with ng.TaskManager():\n",
    "        uh.Set(1, definedon=mesh.Boundaries('left'))\n",
    "        a.Assemble()\n",
    "        f.Assemble()\n",
    "\n",
    "        f.vec.data -= a.mat * uh.vec\n",
    "        \n",
    "        try:\n",
    "          uh.vec.data += a.mat.Inverse(freedofs=V.FreeDofs(), inverse='umfpack') * f.vec\n",
    "        except:          \n",
    "          u0 = uh.vec.CreateVector(); u0[:] = 0\n",
    "          GMRes(A=a.mat, pre=c, b=f.vec, x=u0, tol=1e-10, printrates=False, maxsteps=10000)\n",
    "          uh.vec.data += u0\n",
    "        \n",
    "    return uh"
   ]
  },
  {
   "cell_type": "markdown",
   "metadata": {},
   "source": [
    "With this way of imposing boundary conditions, we obtain good results. "
   ]
  },
  {
   "cell_type": "code",
   "execution_count": null,
   "metadata": {
    "scrolled": true
   },
   "outputs": [],
   "source": [
    "uh = SolveConvectionWeakBC(mesh, p=3)\n",
    "Draw(uh, deformation=True, autoscale=False, min=0, max=.5,\n",
    "     settings={\"camera\" : {\"transformations\" :[{\"type\": \"rotateX\", \"angle\": -30},{\"type\": \"rotateY\", \"angle\": -10},{\"type\": \"rotateZ\", \"angle\": -10}]}});"
   ]
  },
  {
   "cell_type": "markdown",
   "metadata": {},
   "source": [
    "The computed solution is visually indistinguishable from the exact solution $u \\equiv 1/2$. We have demostrated  that there does seem to be an advantage in imposing the boundary conditions weakly, at least for this simple advection example. "
   ]
  },
  {
   "cell_type": "markdown",
   "metadata": {},
   "source": [
    "<br>\n",
    "\n",
    "To conclude this notebook, our experiments here have set the stage for study of better methods for convection-dominated problems. We proceed to see Discontinuous Galerkin (DG) finite element methods which remain stable in the convection-dominated regime as well as in the pure advection case. The DG method can be viewed as a method obtained by applying the idea of weak boundary condition imposition not just on the boundary of the domain, but to the boundary of every element in the mesh. As we shall see, they lead to practicaly useful methods with rigorously provable stability properties. "
   ]
  },
  {
   "cell_type": "markdown",
   "metadata": {},
   "source": [
    "\n",
    "\n",
    "<hr>\n",
    "    \n",
    "    \n",
    "$\\ll$ [Table Of Contents](./0_INDEX.ipynb) <br>\n",
    "$\\ll$ [Jay Gopalakrishnan](http://web.pdx.edu/~gjay/)\n",
    "\n",
    "    \n",
    "\n"
   ]
  }
 ],
 "metadata": {
  "kernelspec": {
   "display_name": "Python 3 (ipykernel)",
   "language": "python",
   "name": "python3"
  },
  "language_info": {
   "codemirror_mode": {
    "name": "ipython",
    "version": 3
   },
   "file_extension": ".py",
   "mimetype": "text/x-python",
   "name": "python",
   "nbconvert_exporter": "python",
   "pygments_lexer": "ipython3",
   "version": "3.11.6"
  },
  "latex_envs": {
   "LaTeX_envs_menu_present": true,
   "autoclose": false,
   "autocomplete": true,
   "bibliofile": "biblio.bib",
   "cite_by": "apalike",
   "current_citInitial": 1,
   "eqLabelWithNumbers": true,
   "eqNumInitial": 1,
   "hotkeys": {
    "equation": "Ctrl-E",
    "itemize": "Ctrl-I"
   },
   "labels_anchors": false,
   "latex_user_defs": false,
   "report_style_numbering": false,
   "user_envs_cfg": false
  },
  "name": "ConvDiffFEMfail.ipynb"
 },
 "nbformat": 4,
 "nbformat_minor": 4
}
