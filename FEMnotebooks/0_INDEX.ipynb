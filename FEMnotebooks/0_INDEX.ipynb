{
 "cells": [
  {
   "cell_type": "markdown",
   "id": "c77df543-5cff-4e8d-b79f-6ff1e8ad39b4",
   "metadata": {},
   "source": [
    "# Working with finite elements\n",
    "\n",
    "## MTH 65X: Advanced Numerical Analysis\n",
    "\n",
    "#### 2023-24, Portland State University\n",
    "\n",
    "#### Instructor:  [Jay Gopalakrishnan](http://web.pdx.edu/~gjay/)\n",
    "\n",
    "<hr>\n"
   ]
  },
  {
   "cell_type": "markdown",
   "id": "d5d0856a-fe05-4567-abd1-017d40f25ca6",
   "metadata": {},
   "source": [
    "## Lecture Notebooks\n",
    "\n",
    "These notebooks are designed as class activities to obtain practical experience in numerically solving partial differential equations and are intended to accompany (not replace) theory lectures."
   ]
  },
  {
   "cell_type": "markdown",
   "id": "fbc27e7d-33fa-452c-87f7-b84e6ad9a967",
   "metadata": {},
   "source": [
    "- A: [Lagrange finite element space](A_Lagrange.ipynb)\n",
    "  - Review iTutorial [1.2](https://ngsolve.org/docu/latest/i-tutorials/unit-1.2-coefficient/coefficientfunction.html)\n",
    "- B: [Projections and best approximations](B_ProjectionBAE.ipynb)\n",
    "- C: [Regularity's role in approximation](C_RegularityApprox.ipynb)\n",
    "  - Review iTutorials [1.1](https://docu.ngsolve.org/latest/i-tutorials/unit-1.1-poisson/poisson.html) and [1.3](https://docu.ngsolve.org/latest/i-tutorials/unit-1.3-dirichlet/dirichlet.html)\n",
    "- D: [The Con-fusion problem](D_Confusion.ipynb)\n",
    "  - Review  iTutorial [2.8](https://docu.ngsolve.org/latest/i-tutorials/unit-2.8-DG/DG.html)\n",
    "- E: [Vector elements \\& Betti numbers](E_VectorBetti.ipynb)\n",
    "  - Review  iTutorial [2.3](https://docu.ngsolve.org/latest/i-tutorials/unit-2.3-hcurlhdiv/hcurlhdiv.html)\n",
    "- F: [Mixed methods \\& Conservation](F_MixedConserv.ipynb)\n",
    "- G: [Transverse fields in waveguides](G_TEfield.ipynb)\n",
    "- H: [Static electromagnetic fields ](H_Magnetostatics.ipynb)"
   ]
  },
  {
   "cell_type": "markdown",
   "id": "7dedc501-5e89-458f-86a6-e886d9a070fa",
   "metadata": {},
   "source": [
    "<br> \n",
    "\n",
    "The links above are for browsing static html versions of the notebooks. Alternately, you can interactively experiment and run these notebooks in your local browser using [JupyterLite](https://jayggg.github.io/651-jupyterlite/lab?path=0_INDEX.ipynb). You can also download all notebooks from [GitHub](https://github.com/jayggg/651-jupyterlite)."
   ]
  }
 ],
 "metadata": {
  "kernelspec": {
   "display_name": "Python 3 (ipykernel)",
   "language": "python",
   "name": "python3"
  },
  "language_info": {
   "codemirror_mode": {
    "name": "ipython",
    "version": 3
   },
   "file_extension": ".py",
   "mimetype": "text/x-python",
   "name": "python",
   "nbconvert_exporter": "python",
   "pygments_lexer": "ipython3",
   "version": "3.11.6"
  }
 },
 "nbformat": 4,
 "nbformat_minor": 5
}
